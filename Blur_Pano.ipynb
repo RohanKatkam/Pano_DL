{
  "nbformat": 4,
  "nbformat_minor": 0,
  "metadata": {
    "accelerator": "GPU",
    "colab": {
      "name": "Blur_Pano.ipynb",
      "provenance": [],
      "collapsed_sections": [],
      "include_colab_link": true
    },
    "kernelspec": {
      "display_name": "Python 3",
      "name": "python3"
    },
    "language_info": {
      "name": "python"
    }
  },
  "cells": [
    {
      "cell_type": "markdown",
      "metadata": {
        "id": "view-in-github",
        "colab_type": "text"
      },
      "source": [
        "<a href=\"https://colab.research.google.com/github/RohanKatkam/Pano_DL/blob/main/Blur_Pano.ipynb\" target=\"_parent\"><img src=\"https://colab.research.google.com/assets/colab-badge.svg\" alt=\"Open In Colab\"/></a>"
      ]
    },
    {
      "cell_type": "markdown",
      "metadata": {
        "id": "KWIYR5OyyXry"
      },
      "source": [
        "# Removing Sensitive Information from Panoramic Images\n",
        "\n",
        "## By Rohan and Vivian\n",
        "## Group 25\n"
      ]
    },
    {
      "cell_type": "markdown",
      "metadata": {
        "id": "q3tT-YaLfD8D"
      },
      "source": [
        "# 1. Loading the model, weights and Images"
      ]
    },
    {
      "cell_type": "markdown",
      "metadata": {
        "id": "McnzKwcqe4GG"
      },
      "source": [
        "### 1.1 Mount the drive\n",
        "\n",
        "The drive contains images, labels and all the necessary config files"
      ]
    },
    {
      "cell_type": "code",
      "metadata": {
        "colab": {
          "base_uri": "https://localhost:8080/"
        },
        "id": "3XgD4MUFc6gN",
        "outputId": "8da2520f-3c56-41e7-9222-884931698765"
      },
      "source": [
        "from google.colab import drive\n",
        "drive.mount('/content/gdrive', force_remount=True)\n",
        "# drive.flush_and_unmount()"
      ],
      "execution_count": 1,
      "outputs": [
        {
          "output_type": "stream",
          "text": [
            "Mounted at /content/gdrive\n"
          ],
          "name": "stdout"
        }
      ]
    },
    {
      "cell_type": "markdown",
      "metadata": {
        "id": "mC8u6BSkfPGK"
      },
      "source": [
        "### 1.2 Import Libraries"
      ]
    },
    {
      "cell_type": "code",
      "metadata": {
        "id": "mFhielyQv7Cw"
      },
      "source": [
        "# Setup\n",
        "import numpy\n",
        "import matplotlib.pyplot as plt\n",
        "import sys\n",
        "from google.colab import files\n",
        "import os\n",
        "import shutil\n",
        "\n",
        "\n",
        "from six.moves import urllib    \n",
        "opener = urllib.request.build_opener()\n",
        "opener.addheaders = [('User-agent', 'Mozilla/5.0')]\n",
        "urllib.request.install_opener(opener)\n",
        "\n",
        "# for imshow\n",
        "from google.colab.patches import cv2_imshow\n",
        "\n",
        "# Torch Libraries\n",
        "import torch\n",
        "import torch.nn as nn\n",
        "import torch.nn.parallel\n",
        "import torch.backends.cudnn as cudnn\n",
        "import torch.optim as optim\n",
        "import torch.utils.data\n",
        "from torch.utils.data import DataLoader\n",
        "import torchvision.datasets as dset\n",
        "import torchvision.utils as vutils\n",
        "import torchvision.transforms as transforms\n",
        "import torchvision.models as models\n",
        "import torchvision.transforms.functional as F\n",
        "\n",
        "from IPython.display import Image, clear_output  # to display images"
      ],
      "execution_count": 3,
      "outputs": []
    },
    {
      "cell_type": "markdown",
      "metadata": {
        "id": "J92I_OznwcXI"
      },
      "source": [
        "## 1.3 Installing dependencies\n",
        "\n",
        "1. Installing the repo from YOLOv5 official git repo\n",
        "2. Installing Wandb for visualising purposes"
      ]
    },
    {
      "cell_type": "code",
      "metadata": {
        "colab": {
          "base_uri": "https://localhost:8080/"
        },
        "id": "_tqSpfiUwYHe",
        "outputId": "8711c20e-e7e9-409d-8c3a-1ec4087e498d"
      },
      "source": [
        "# Add the Yolov5 git\n",
        "def add_yolo_git():\n",
        "  !git clone https://github.com/ultralytics/yolov5  # clone repo\n",
        "  %cd yolov5\n",
        "  %pip install -qr requirements.txt  # install dependencies\n",
        "\n",
        "add_yolo_git()  \n",
        "!pip install -qr https://raw.githubusercontent.com/ultralytics/yolov5/master/requirements.txt  # install dependencies\n",
        "\n",
        "!pip install wandb\n",
        "import wandb"
      ],
      "execution_count": 4,
      "outputs": [
        {
          "output_type": "stream",
          "text": [
            "Cloning into 'yolov5'...\n",
            "remote: Enumerating objects: 5760, done.\u001b[K\n",
            "remote: Counting objects: 100% (10/10), done.\u001b[K\n",
            "remote: Compressing objects: 100% (10/10), done.\u001b[K\n",
            "remote: Total 5760 (delta 1), reused 3 (delta 0), pack-reused 5750\u001b[K\n",
            "Receiving objects: 100% (5760/5760), 8.23 MiB | 32.18 MiB/s, done.\n",
            "Resolving deltas: 100% (3935/3935), done.\n",
            "/content/yolov5\n",
            "\u001b[K     |████████████████████████████████| 645kB 4.4MB/s \n",
            "\u001b[?25hCollecting wandb\n",
            "\u001b[?25l  Downloading https://files.pythonhosted.org/packages/d5/5d/20ab24504de2669c9a76a50c9bdaeb44a440b0e5e4b92be881ed323857b1/wandb-0.10.26-py2.py3-none-any.whl (2.1MB)\n",
            "\u001b[K     |████████████████████████████████| 2.1MB 3.8MB/s \n",
            "\u001b[?25hCollecting subprocess32>=3.5.3\n",
            "\u001b[?25l  Downloading https://files.pythonhosted.org/packages/32/c8/564be4d12629b912ea431f1a50eb8b3b9d00f1a0b1ceff17f266be190007/subprocess32-3.5.4.tar.gz (97kB)\n",
            "\u001b[K     |████████████████████████████████| 102kB 13.2MB/s \n",
            "\u001b[?25hCollecting configparser>=3.8.1\n",
            "  Downloading https://files.pythonhosted.org/packages/fd/01/ff260a18caaf4457eb028c96eeb405c4a230ca06c8ec9c1379f813caa52e/configparser-5.0.2-py3-none-any.whl\n",
            "Requirement already satisfied: Click>=7.0 in /usr/local/lib/python3.7/dist-packages (from wandb) (7.1.2)\n",
            "Collecting pathtools\n",
            "  Downloading https://files.pythonhosted.org/packages/e7/7f/470d6fcdf23f9f3518f6b0b76be9df16dcc8630ad409947f8be2eb0ed13a/pathtools-0.1.2.tar.gz\n",
            "Collecting GitPython>=1.0.0\n",
            "\u001b[?25l  Downloading https://files.pythonhosted.org/packages/a6/99/98019716955ba243657daedd1de8f3a88ca1f5b75057c38e959db22fb87b/GitPython-3.1.14-py3-none-any.whl (159kB)\n",
            "\u001b[K     |████████████████████████████████| 163kB 39.0MB/s \n",
            "\u001b[?25hCollecting docker-pycreds>=0.4.0\n",
            "  Downloading https://files.pythonhosted.org/packages/f5/e8/f6bd1eee09314e7e6dee49cbe2c5e22314ccdb38db16c9fc72d2fa80d054/docker_pycreds-0.4.0-py2.py3-none-any.whl\n",
            "Requirement already satisfied: PyYAML in /usr/local/lib/python3.7/dist-packages (from wandb) (5.4.1)\n",
            "Requirement already satisfied: psutil>=5.0.0 in /usr/local/lib/python3.7/dist-packages (from wandb) (5.4.8)\n",
            "Requirement already satisfied: six>=1.13.0 in /usr/local/lib/python3.7/dist-packages (from wandb) (1.15.0)\n",
            "Requirement already satisfied: requests<3,>=2.0.0 in /usr/local/lib/python3.7/dist-packages (from wandb) (2.23.0)\n",
            "Collecting sentry-sdk>=0.4.0\n",
            "\u001b[?25l  Downloading https://files.pythonhosted.org/packages/f3/92/5a33be64990ba815364a8f2dd9e6f51de60d23dfddafb4f1fc5577d4dc64/sentry_sdk-1.0.0-py2.py3-none-any.whl (131kB)\n",
            "\u001b[K     |████████████████████████████████| 133kB 35.0MB/s \n",
            "\u001b[?25hRequirement already satisfied: protobuf>=3.12.0 in /usr/local/lib/python3.7/dist-packages (from wandb) (3.12.4)\n",
            "Requirement already satisfied: python-dateutil>=2.6.1 in /usr/local/lib/python3.7/dist-packages (from wandb) (2.8.1)\n",
            "Requirement already satisfied: promise<3,>=2.0 in /usr/local/lib/python3.7/dist-packages (from wandb) (2.3)\n",
            "Collecting shortuuid>=0.5.0\n",
            "  Downloading https://files.pythonhosted.org/packages/25/a6/2ecc1daa6a304e7f1b216f0896b26156b78e7c38e1211e9b798b4716c53d/shortuuid-1.0.1-py3-none-any.whl\n",
            "Collecting gitdb<5,>=4.0.1\n",
            "\u001b[?25l  Downloading https://files.pythonhosted.org/packages/ea/e8/f414d1a4f0bbc668ed441f74f44c116d9816833a48bf81d22b697090dba8/gitdb-4.0.7-py3-none-any.whl (63kB)\n",
            "\u001b[K     |████████████████████████████████| 71kB 11.5MB/s \n",
            "\u001b[?25hRequirement already satisfied: idna<3,>=2.5 in /usr/local/lib/python3.7/dist-packages (from requests<3,>=2.0.0->wandb) (2.10)\n",
            "Requirement already satisfied: urllib3!=1.25.0,!=1.25.1,<1.26,>=1.21.1 in /usr/local/lib/python3.7/dist-packages (from requests<3,>=2.0.0->wandb) (1.24.3)\n",
            "Requirement already satisfied: chardet<4,>=3.0.2 in /usr/local/lib/python3.7/dist-packages (from requests<3,>=2.0.0->wandb) (3.0.4)\n",
            "Requirement already satisfied: certifi>=2017.4.17 in /usr/local/lib/python3.7/dist-packages (from requests<3,>=2.0.0->wandb) (2020.12.5)\n",
            "Requirement already satisfied: setuptools in /usr/local/lib/python3.7/dist-packages (from protobuf>=3.12.0->wandb) (54.2.0)\n",
            "Collecting smmap<5,>=3.0.1\n",
            "  Downloading https://files.pythonhosted.org/packages/68/ee/d540eb5e5996eb81c26ceffac6ee49041d473bc5125f2aa995cf51ec1cf1/smmap-4.0.0-py2.py3-none-any.whl\n",
            "Building wheels for collected packages: subprocess32, pathtools\n",
            "  Building wheel for subprocess32 (setup.py) ... \u001b[?25l\u001b[?25hdone\n",
            "  Created wheel for subprocess32: filename=subprocess32-3.5.4-cp37-none-any.whl size=6489 sha256=0784c1e45742a708ab149f9c8361b857917cca241c1c8a5d34e6081f9545e951\n",
            "  Stored in directory: /root/.cache/pip/wheels/68/39/1a/5e402bdfdf004af1786c8b853fd92f8c4a04f22aad179654d1\n",
            "  Building wheel for pathtools (setup.py) ... \u001b[?25l\u001b[?25hdone\n",
            "  Created wheel for pathtools: filename=pathtools-0.1.2-cp37-none-any.whl size=8786 sha256=deb63f9b2df9c1b6ca0614f4af8c56e70fb961a71aad7fcdee1cdd6e179c7439\n",
            "  Stored in directory: /root/.cache/pip/wheels/0b/04/79/c3b0c3a0266a3cb4376da31e5bfe8bba0c489246968a68e843\n",
            "Successfully built subprocess32 pathtools\n",
            "Installing collected packages: subprocess32, configparser, pathtools, smmap, gitdb, GitPython, docker-pycreds, sentry-sdk, shortuuid, wandb\n",
            "Successfully installed GitPython-3.1.14 configparser-5.0.2 docker-pycreds-0.4.0 gitdb-4.0.7 pathtools-0.1.2 sentry-sdk-1.0.0 shortuuid-1.0.1 smmap-4.0.0 subprocess32-3.5.4 wandb-0.10.26\n"
          ],
          "name": "stdout"
        }
      ]
    },
    {
      "cell_type": "code",
      "metadata": {
        "colab": {
          "base_uri": "https://localhost:8080/"
        },
        "id": "Ypbu8VurxpBR",
        "outputId": "01af4658-1770-46cd-c3cc-d72e593dcb45"
      },
      "source": [
        "# To ensure it runs over an appropriate processor\n",
        "CUDA = torch.cuda.is_available()\n",
        "print(\"CUDA :: \", CUDA)\n",
        "device = torch.device(\"cuda\" if CUDA else \"cpu\")"
      ],
      "execution_count": 5,
      "outputs": [
        {
          "output_type": "stream",
          "text": [
            "CUDA ::  True\n"
          ],
          "name": "stdout"
        }
      ]
    },
    {
      "cell_type": "markdown",
      "metadata": {
        "id": "jJpD6t5lgTtl"
      },
      "source": [
        "### 1.4 Load the existing model and the weights"
      ]
    },
    {
      "cell_type": "code",
      "metadata": {
        "id": "2V8nUxtUylbz"
      },
      "source": [
        "# Weights dir\n",
        "# model_dir = \"./gdrive/MyDrive/DL_TUD/small_final-20210319T094746Z-001/small_final/weights/last.pt\"\n",
        "# model_dir='/content/gdrive/MyDrive/DL_TUD/small_final-20210319T094746Z-001/small_final/weights/best.pt'\n",
        "# medium_model_dir = \"\"\n",
        "# model = pytorch.\n",
        "# model = torch.load(model_dir, encoding='ascii')\n",
        "# model = torch.hub.load('ultralytics/yolov5', 'yolov5s')\n",
        "# model = model.load_state_dict()\n",
        "# model.eval()\n",
        "\n",
        "# model = torch.hub.load(model_dir, 'best.pt', source = 'local')"
      ],
      "execution_count": 5,
      "outputs": []
    },
    {
      "cell_type": "markdown",
      "metadata": {
        "id": "8dTSI7Skw7A4"
      },
      "source": [
        "### 1.4 Transfer the images to Train/Test/Validation Folders"
      ]
    },
    {
      "cell_type": "code",
      "metadata": {
        "id": "xK35ykp_t4tp"
      },
      "source": [
        "import os\n",
        "import shutil\n",
        "\n",
        "def transfer_images(file_dir, old_dir_images, new_dir_images, old_dir_labels, new_dir_labels):\n",
        "  \"\"\"\n",
        "  Transfer train/test/val Images\n",
        "  \"\"\"\n",
        "  f = open(file_dir, 'r+')\n",
        "\n",
        "  for line in f.readlines():\n",
        "    image_name = line.split(\"/\")[-1]\n",
        "    image_name = image_name.replace(\"\\n\", \"\")\n",
        "    label_name = image_name.replace(\".jpg\", \".txt\")\n",
        "    print(image_name)\n",
        "    if (os.path.isfile(old_dir_images + image_name) and os.path.isfile(old_dir_labels + label_name)):\n",
        "        shutil.copy(old_dir_images + image_name, new_dir_images + image_name)\n",
        "        shutil.copy(old_dir_labels + label_name, new_dir_labels + label_name)\n",
        "        print(\"success!\")"
      ],
      "execution_count": 6,
      "outputs": []
    },
    {
      "cell_type": "code",
      "metadata": {
        "id": "7hsb_1XuxOcQ"
      },
      "source": [
        "# TRAIN\n",
        "# text file that contains the list of directories of all training images \n",
        "file_dir = \"/content/gdrive/MyDrive/DL_TUD/training_set/training_set/train.txt\"\n",
        "\n",
        "# Images\n",
        "old_dir_images = \"/content/gdrive/MyDrive/DL_TUD/training_set/training_set/images_small/\"\n",
        "new_dir_images = \"/content/gdrive/MyDrive/DL_TUD/data/images/train/\" \n",
        "\n",
        "# Labels\n",
        "old_dir_labels = \"/content/gdrive/MyDrive/DL_TUD/training_set/training_set/labels/\"\n",
        "new_dir_labels = \"/content/gdrive/MyDrive/DL_TUD/data/labels/train/\"\n",
        "\n",
        "# Run this function if you want to tranfer, please ignore of the images are already in the said folder\n",
        "# transfer_images(file_dir, old_dir_images, new_dir_images, old_dir_labels, new_dir_labels)"
      ],
      "execution_count": 7,
      "outputs": []
    },
    {
      "cell_type": "code",
      "metadata": {
        "id": "Auw9Ka8y0Bm5"
      },
      "source": [
        "# VALIDATION\n",
        "\n",
        "file_dir_val = \"/content/gdrive/MyDrive/DL_TUD/training_set/training_set/val.txt\"\n",
        "\n",
        "# Images\n",
        "old_dir_images = \"/content/gdrive/MyDrive/DL_TUD/training_set/training_set/images_small/\"\n",
        "new_dir_images = \"/content/gdrive/MyDrive/DL_TUD/data/images/val/\" \n",
        "\n",
        "# Labels\n",
        "old_dir_labels = \"/content/gdrive/MyDrive/DL_TUD/training_set/training_set/labels/\"\n",
        "new_dir_labels = \"/content/gdrive/MyDrive/DL_TUD/data/labels/val/\"\n",
        "\n",
        "# transfer_images(file_dir_val, old_dir_images, new_dir_images, old_dir_labels, new_dir_labels)"
      ],
      "execution_count": 8,
      "outputs": []
    },
    {
      "cell_type": "code",
      "metadata": {
        "id": "ImnODR1Gu-mg"
      },
      "source": [
        "# TEST\n",
        "\n",
        "file_dir_val = \"/content/gdrive/MyDrive/DL_TUD/training_set/training_set/test.txt\"\n",
        "\n",
        "# Images\n",
        "old_dir_images = \"/content/gdrive/MyDrive/DL_TUD/training_set/training_set/images_small/\"\n",
        "new_dir_images = \"/content/gdrive/MyDrive/DL_TUD/data/images/test/\" \n",
        "\n",
        "# Labels\n",
        "old_dir_labels = \"/content/gdrive/MyDrive/DL_TUD/training_set/training_set/labels/\"\n",
        "new_dir_labels = \"/content/gdrive/MyDrive/DL_TUD/data/labels/test/\"\n",
        "\n",
        "# transfer_images(file_dir_val, old_dir_images, new_dir_images, old_dir_labels, new_dir_labels)"
      ],
      "execution_count": 10,
      "outputs": []
    },
    {
      "cell_type": "markdown",
      "metadata": {
        "id": "KGfIfeEttACd"
      },
      "source": [
        "# 2. Train the model"
      ]
    },
    {
      "cell_type": "code",
      "metadata": {
        "id": "WNkAantHtH1o"
      },
      "source": [
        "# def train_model(data_yaml, cfg_yaml):\n",
        "#   # !python train.py --img 640 --batch 16 --epochs 3 --data coco128.yaml --weights yolov5s.pt --nosave --cache\n",
        "#   !python3 train.py --adam --img 2048 --batch 8 --epochs 20 --save_period 4 --data $data_yaml --cfg $cfg_yaml --weights '' --name /content/gdrive/MyDrive/DL_TUD/yolov5s_results_actual_50 \n",
        "#   print(\"Successfully trained\")"
      ],
      "execution_count": 10,
      "outputs": []
    },
    {
      "cell_type": "code",
      "metadata": {
        "id": "kRPD3CJVzEfQ"
      },
      "source": [
        "def train_model(data_yaml, cfg_yaml, out_name, epoch=30, weight_dir=''):\n",
        "  \"\"\"\n",
        "  Trains the model for the given data from:\n",
        "  data config file: train and val directories\n",
        "  network architecture file: head, backbone and others\n",
        "  \"\"\"\n",
        "# !python train.py --img 640 --batch 16 --epochs 3 --data coco128.yaml --weights yolov5s.pt --nosave --cache\n",
        "\n",
        "  # No pretrained weights\n",
        "  if weight_dir == '':\n",
        "    !python3 train.py --adam --img 2048 --batch 8 --epochs $epoch --save_period 4 --data $data_yaml --cfg $cfg_yaml --weights '' --name $out_name\n",
        "  # Pretrained weights, incase the running stops in the middle  \n",
        "  else:\n",
        "    !python3 train.py --adam --img 2048 --batch 8 --epochs $epoch --save_period 4 --data $data_yaml --cfg $cfg_yaml --weights $weight_dir --name $out_name\n",
        "  print(\"Successfully trained...I guess\")"
      ],
      "execution_count": 11,
      "outputs": []
    },
    {
      "cell_type": "code",
      "metadata": {
        "id": "2pflR1lLyTU8"
      },
      "source": [
        "# Yaml that mentions the class names, train and val directories\n",
        "data_yaml_train = '/content/gdrive/MyDrive/DL_TUD/data/data_custom.yaml'\n",
        "\n",
        "# Yaml model file for small model\n",
        "cfg_yaml_s_train = '/content/gdrive/MyDrive/DL_TUD/models/custom_yolov5s.yaml'\n",
        "# Yaml model file for medium model\n",
        "cfg_yaml_m_train = '/content/gdrive/MyDrive/DL_TUD/models/custom_yolov5m.yaml'\n",
        "\n",
        "# Save trained output, log files and plots to this directory\n",
        "out_name_train = '/content/gdrive/MyDrive/DL_TUD/yolov5s_results_actual_50'\n"
      ],
      "execution_count": 11,
      "outputs": []
    },
    {
      "cell_type": "code",
      "metadata": {
        "id": "t_jk0PwGyt1G"
      },
      "source": [
        "# Run Wandb offline \n",
        "# !wandb offline\n",
        "\n",
        "# code = 'wandb offline'\n",
        "# !$code"
      ],
      "execution_count": 13,
      "outputs": []
    },
    {
      "cell_type": "code",
      "metadata": {
        "id": "PZBNjcxky7ux"
      },
      "source": [
        "# train_model(data_yaml_train, cfg_yaml_s_train,out_name_train,epoch=50,weight_dir='')  "
      ],
      "execution_count": 14,
      "outputs": []
    },
    {
      "cell_type": "markdown",
      "metadata": {
        "id": "VTyZBWzlGT_O"
      },
      "source": [
        "## 2.2 Hyperparam check\n",
        "\n"
      ]
    },
    {
      "cell_type": "code",
      "metadata": {
        "id": "DNa6h3NkGZZE"
      },
      "source": [
        "def train_model_hyp(data_yaml, cfg_yaml, hyp_yaml, out_name, epoch=30, weight_dir=''):\n",
        "  \"\"\"\n",
        "  Trains the model for the given data from:\n",
        "  data config file: train and val directories\n",
        "  network architecture file: head, backbone sections\n",
        "  hyperparameter file;\n",
        "  \"\"\"\n",
        "# !python train.py --img 640 --batch 16 --epochs 3 --data coco128.yaml --weights yolov5s.pt --nosave --cache\n",
        "\n",
        "  if weight_dir == '':\n",
        "    !python3 train.py --adam --img 2048 --batch 4 --epochs $epoch --save_period 4 --data $data_yaml --cfg $cfg_yaml --weights '' --name $out_name --hyp $hyp_yaml \n",
        "  else:\n",
        "    !python3 train.py --adam --img 2048 --batch 4 --epochs $epoch --save_period 4 --data $data_yaml --cfg $cfg_yaml --weights $weight_dir --name $out_name --hyp $hyp_yaml\n",
        "  print(\"Successfully trained...I guess\")"
      ],
      "execution_count": 12,
      "outputs": []
    },
    {
      "cell_type": "code",
      "metadata": {
        "id": "J6boQHIbGrGU"
      },
      "source": [
        "# Hyperparameter config file directories, uncomment for what you like\n",
        "# hyp = 'per_0005' #0.0005\n",
        "# hyp = 'per_001' #0.001\n",
        "# hyp = 'shear_10' #10 degrees\n",
        "# hyp = 'shear_20' #20 degrees\n",
        "# hyp = 'mix_up_05' #0.5 mixup probability\n",
        "hyp = 'mix_up_1' #1 mixup probability\n",
        "# The initial weights to begin (if stops in the middle of training, outta nowhere)\n",
        "\n",
        "start_weight_dir = '/content/gdrive/MyDrive/DL_TUD/yolov5s_results_' + hyp + '/weights/last.pt'\n",
        "# For yaml\n",
        "\n",
        "hyp_yaml = '/content/gdrive/MyDrive/DL_TUD/models/custom_hyp_' + hyp + '.yaml'\n",
        "# Saves the output to this directory\n",
        "\n",
        "out_name = '/content/gdrive/MyDrive/DL_TUD/yolov5s_results_' + hyp\n",
        "# number of epochs\n",
        "\n",
        "epoch = 12"
      ],
      "execution_count": 13,
      "outputs": []
    },
    {
      "cell_type": "code",
      "metadata": {
        "colab": {
          "base_uri": "https://localhost:8080/"
        },
        "id": "9Ttbj0LtG6yQ",
        "outputId": "8cb60c28-11ba-430f-cc48-d502d6292ce1"
      },
      "source": [
        "# Train with a different variation of hyperparameter!\n",
        "\n",
        "# train_model_hyp(data_yaml_train, cfg_yaml_s_train, hyp_yaml, out_name, epoch, start_weight_dir)"
      ],
      "execution_count": 44,
      "outputs": [
        {
          "output_type": "stream",
          "text": [
            "\u001b[34m\u001b[1mgithub: \u001b[0mup to date with https://github.com/ultralytics/yolov5 ✅\n",
            "YOLOv5 🚀 v5.0-7-g1487bc8 torch 1.8.1+cu101 CUDA:0 (Tesla K80, 11441.1875MB)\n",
            "\n",
            "Namespace(adam=True, artifact_alias='latest', batch_size=4, bbox_interval=-1, bucket='', cache_images=False, cfg='/content/gdrive/MyDrive/DL_TUD/models/custom_yolov5s.yaml', data='/content/gdrive/MyDrive/DL_TUD/data/data_custom.yaml', device='', entity=None, epochs=12, evolve=False, exist_ok=False, global_rank=-1, hyp='/content/gdrive/MyDrive/DL_TUD/models/custom_hyp_mix_up_1.yaml', image_weights=False, img_size=[2048, 2048], label_smoothing=0.0, linear_lr=False, local_rank=-1, multi_scale=False, name='/content/gdrive/MyDrive/DL_TUD/yolov5s_results_mix_up_1', noautoanchor=False, nosave=False, notest=False, project='runs/train', quad=False, rect=False, resume=False, save_dir='/content/gdrive/MyDrive/DL_TUD/yolov5s_results_mix_up_18', save_period=4, single_cls=False, sync_bn=False, total_batch_size=4, upload_dataset=False, weights='/content/gdrive/MyDrive/DL_TUD/yolov5s_results_mix_up_1/weights/last.pt', workers=8, world_size=1)\n",
            "\u001b[34m\u001b[1mtensorboard: \u001b[0mStart with 'tensorboard --logdir runs/train', view at http://localhost:6006/\n",
            "2021-04-15 10:26:32.872847: I tensorflow/stream_executor/platform/default/dso_loader.cc:49] Successfully opened dynamic library libcudart.so.11.0\n",
            "\u001b[34m\u001b[1mhyperparameters: \u001b[0mlr0=0.01, lrf=0.2, momentum=0.937, weight_decay=0.0005, warmup_epochs=3.0, warmup_momentum=0.8, warmup_bias_lr=0.1, box=0.05, cls=0.5, cls_pw=1.0, obj=1.0, obj_pw=1.0, iou_t=0.2, anchor_t=4.0, fl_gamma=0.0, hsv_h=0.015, hsv_s=0.7, hsv_v=0.4, degrees=0.0, translate=0.1, scale=0.5, shear=0.0, perspective=0.0, flipud=0.0, fliplr=0.5, mosaic=1.0, mixup=1.0\n",
            "\u001b[34m\u001b[1mwandb\u001b[0m: (1) Create a W&B account\n",
            "\u001b[34m\u001b[1mwandb\u001b[0m: (2) Use an existing W&B account\n",
            "\u001b[34m\u001b[1mwandb\u001b[0m: (3) Don't visualize my results\n",
            "\u001b[34m\u001b[1mwandb\u001b[0m: Enter your choice: 3\n",
            "\u001b[34m\u001b[1mwandb\u001b[0m: You chose 'Don't visualize my results'\n",
            "2021-04-15 10:27:46.196333: I tensorflow/stream_executor/platform/default/dso_loader.cc:49] Successfully opened dynamic library libcudart.so.11.0\n",
            "\u001b[34m\u001b[1mwandb\u001b[0m: W&B syncing is set to `offline` in this directory.  Run `wandb online` or set WANDB_MODE=online to enable cloud syncing.\n",
            "\n",
            "                 from  n    params  module                                  arguments                     \n",
            "  0                -1  1      3520  models.common.Focus                     [3, 32, 3]                    \n",
            "  1                -1  1     18560  models.common.Conv                      [32, 64, 3, 2]                \n",
            "  2                -1  1     18816  models.common.C3                        [64, 64, 1]                   \n",
            "  3                -1  1     73984  models.common.Conv                      [64, 128, 3, 2]               \n",
            "  4                -1  1    156928  models.common.C3                        [128, 128, 3]                 \n",
            "  5                -1  1    295424  models.common.Conv                      [128, 256, 3, 2]              \n",
            "  6                -1  1    625152  models.common.C3                        [256, 256, 3]                 \n",
            "  7                -1  1   1180672  models.common.Conv                      [256, 512, 3, 2]              \n",
            "  8                -1  1    656896  models.common.SPP                       [512, 512, [5, 9, 13]]        \n",
            "  9                -1  1   1182720  models.common.C3                        [512, 512, 1, False]          \n",
            " 10                -1  1    131584  models.common.Conv                      [512, 256, 1, 1]              \n",
            " 11                -1  1         0  torch.nn.modules.upsampling.Upsample    [None, 2, 'nearest']          \n",
            " 12           [-1, 6]  1         0  models.common.Concat                    [1]                           \n",
            " 13                -1  1    361984  models.common.C3                        [512, 256, 1, False]          \n",
            " 14                -1  1     33024  models.common.Conv                      [256, 128, 1, 1]              \n",
            " 15                -1  1         0  torch.nn.modules.upsampling.Upsample    [None, 2, 'nearest']          \n",
            " 16           [-1, 4]  1         0  models.common.Concat                    [1]                           \n",
            " 17                -1  1     90880  models.common.C3                        [256, 128, 1, False]          \n",
            " 18                -1  1    147712  models.common.Conv                      [128, 128, 3, 2]              \n",
            " 19          [-1, 14]  1         0  models.common.Concat                    [1]                           \n",
            " 20                -1  1    296448  models.common.C3                        [256, 256, 1, False]          \n",
            " 21                -1  1    590336  models.common.Conv                      [256, 256, 3, 2]              \n",
            " 22          [-1, 10]  1         0  models.common.Concat                    [1]                           \n",
            " 23                -1  1   1182720  models.common.C3                        [512, 512, 1, False]          \n",
            " 24      [17, 20, 23]  1     18879  models.yolo.Detect                      [2, [[10, 13, 16, 30, 33, 23], [30, 61, 62, 45, 59, 119], [116, 90, 156, 198, 373, 326]], [128, 256, 512]]\n",
            "Model Summary: 283 layers, 7066239 parameters, 7066239 gradients, 16.4 GFLOPS\n",
            "\n",
            "Transferred 360/362 items from /content/gdrive/MyDrive/DL_TUD/yolov5s_results_mix_up_1/weights/last.pt\n",
            "Scaled weight_decay = 0.0005\n",
            "Optimizer groups: 62 .bias, 62 conv.weight, 59 other\n",
            "/content/gdrive/MyDrive/DL_TUD/yolov5s_results_mix_up_1/weights/last.pt has been trained for 17 epochs. Fine-tuning for 12 additional epochs.\n",
            "\u001b[34m\u001b[1mtrain: \u001b[0mScanning '/content/gdrive/MyDrive/DL_TUD/data/labels/train.cache' images \u001b[0m\n",
            "\u001b[34m\u001b[1mval: \u001b[0mScanning '/content/gdrive/MyDrive/DL_TUD/data/labels/val.cache' images and \u001b[0m\n",
            "Plotting labels... \n",
            "\n",
            "\u001b[34m\u001b[1mautoanchor: \u001b[0mAnalyzing anchors... anchors/target = 3.35, Best Possible Recall (BPR) = 0.9358. Attempting to improve anchors, please wait...\n",
            "\u001b[34m\u001b[1mautoanchor: \u001b[0mWARNING: Extremely small objects found. 224 of 16671 labels are < 3 pixels in size.\n",
            "\u001b[34m\u001b[1mautoanchor: \u001b[0mRunning kmeans for 9 anchors on 16667 points...\n",
            "\u001b[34m\u001b[1mautoanchor: \u001b[0mthr=0.25: 0.9995 best possible recall, 4.56 anchors past thr\n",
            "\u001b[34m\u001b[1mautoanchor: \u001b[0mn=9, img_size=2048, metric_all=0.311/0.752-mean/best, past_thr=0.487-mean: 11,5,  8,19,  22,10,  13,31,  39,18,  21,49,  36,85,  92,88,  73,154\n",
            "\u001b[34m\u001b[1mautoanchor: \u001b[0mEvolving anchors with Genetic Algorithm: fitness = 0.7704: 100%|█| 1\u001b[0m\n",
            "\u001b[34m\u001b[1mautoanchor: \u001b[0mthr=0.25: 0.9996 best possible recall, 4.69 anchors past thr\n",
            "\u001b[34m\u001b[1mautoanchor: \u001b[0mn=9, img_size=2048, metric_all=0.324/0.770-mean/best, past_thr=0.503-mean: 11,4,  17,6,  8,17,  11,26,  28,13,  16,38,  26,64,  60,126,  92,87\n",
            "\u001b[34m\u001b[1mautoanchor: \u001b[0mNew anchors saved to model. Update model *.yaml to use these anchors in the future.\n",
            "\n",
            "Image sizes 2048 train, 2048 test\n",
            "Using 2 dataloader workers\n",
            "Logging results to /content/gdrive/MyDrive/DL_TUD/yolov5s_results_mix_up_18\n",
            "Starting training for 29 epochs...\n",
            "\n",
            "     Epoch   gpu_mem       box       obj       cls     total    labels  img_size\n",
            "     18/28     7.12G   0.06745    0.0784  0.001987    0.1478        85      2048\n",
            "               Class      Images      Labels           P           R      mAP@.5\n",
            "                 all         542        2927       0.775       0.638       0.698       0.279\n",
            "Images sizes do not match. This will causes images to be display incorrectly in the UI.\n",
            "\n",
            "     Epoch   gpu_mem       box       obj       cls     total    labels  img_size\n",
            "     19/28     7.09G   0.06784    0.0784  0.002111    0.1483        55      2048\n",
            "               Class      Images      Labels           P           R      mAP@.5\n",
            "                 all         542        2927       0.769       0.627       0.689        0.27\n",
            "Saving model artifact on epoch  20\n",
            "\n",
            "     Epoch   gpu_mem       box       obj       cls     total    labels  img_size\n",
            "     20/28     7.09G   0.06919   0.08012  0.002206    0.1515        85      2048\n",
            "               Class      Images      Labels           P           R      mAP@.5\n",
            "                 all         542        2927       0.775       0.625        0.69       0.265\n",
            "\n",
            "     Epoch   gpu_mem       box       obj       cls     total    labels  img_size\n",
            "     21/28     7.09G   0.06941   0.07967  0.002349    0.1514        73      2048\n",
            "               Class      Images      Labels           P           R      mAP@.5\n",
            "                 all         542        2927       0.747       0.615        0.67       0.253\n",
            "\n",
            "     Epoch   gpu_mem       box       obj       cls     total    labels  img_size\n",
            "     22/28     7.09G   0.07026   0.08028  0.002216    0.1528        71      2048\n",
            "               Class      Images      Labels           P           R      mAP@.5\n",
            "                 all         542        2927       0.733       0.628       0.672       0.266\n",
            "\n",
            "     Epoch   gpu_mem       box       obj       cls     total    labels  img_size\n",
            "     23/28     7.09G   0.06996   0.07957  0.002364    0.1519        88      2048\n",
            "               Class      Images      Labels           P           R      mAP@.5\n",
            "                 all         542        2927       0.736       0.642       0.691        0.27\n",
            "Saving model artifact on epoch  24\n",
            "\n",
            "     Epoch   gpu_mem       box       obj       cls     total    labels  img_size\n",
            "     24/28     7.09G   0.07015   0.08003  0.002284    0.1525        44      2048\n",
            "               Class      Images      Labels           P           R      mAP@.5\n",
            "                 all         542        2927        0.74       0.619       0.674       0.269\n",
            "\n",
            "     Epoch   gpu_mem       box       obj       cls     total    labels  img_size\n",
            "     25/28     7.09G   0.07004   0.08058   0.00216    0.1528        82      2048\n",
            "               Class      Images      Labels           P           R      mAP@.5\n",
            "                 all         542        2927        0.76       0.611       0.675       0.267\n",
            "\n",
            "     Epoch   gpu_mem       box       obj       cls     total    labels  img_size\n",
            "     26/28     7.09G   0.06918   0.07961  0.002137    0.1509        53      2048\n",
            "               Class      Images      Labels           P           R      mAP@.5\n",
            "                 all         542        2927        0.79       0.622       0.699        0.28\n",
            "\n",
            "     Epoch   gpu_mem       box       obj       cls     total    labels  img_size\n",
            "     27/28     7.09G   0.06944   0.07961  0.002115    0.1512        58      2048\n",
            "               Class      Images      Labels           P           R      mAP@.5\n",
            "                 all         542        2927       0.786        0.63         0.7       0.281\n",
            "Saving model artifact on epoch  28\n",
            "\n",
            "     Epoch   gpu_mem       box       obj       cls     total    labels  img_size\n",
            "     28/28     7.09G    0.0688   0.07994  0.002082    0.1508        75      2048\n",
            "               Class      Images      Labels           P           R      mAP@.5\n",
            "                 all         542        2927       0.807       0.626       0.703       0.287\n",
            "              person         542        1571       0.798       0.491       0.604       0.232\n",
            "             license         542        1356       0.817       0.761       0.802       0.342\n",
            "11 epochs completed in 5.891 hours.\n",
            "\n",
            "Optimizer stripped from /content/gdrive/MyDrive/DL_TUD/yolov5s_results_mix_up_18/weights/last.pt, 14.7MB\n",
            "Optimizer stripped from /content/gdrive/MyDrive/DL_TUD/yolov5s_results_mix_up_18/weights/best.pt, 14.7MB\n",
            "Images sizes do not match. This will causes images to be display incorrectly in the UI.\n",
            "\n",
            "\u001b[34m\u001b[1mwandb\u001b[0m: Waiting for W&B process to finish, PID 1540\n",
            "\u001b[34m\u001b[1mwandb\u001b[0m: Program ended successfully.\n",
            "\u001b[34m\u001b[1mwandb\u001b[0m: Find user logs for this run at: /content/yolov5/yolov5/wandb/offline-run-20210415_102745-13ks1b9a/logs/debug.log\n",
            "\u001b[34m\u001b[1mwandb\u001b[0m: Find internal logs for this run at: /content/yolov5/yolov5/wandb/offline-run-20210415_102745-13ks1b9a/logs/debug-internal.log\n",
            "\u001b[34m\u001b[1mwandb\u001b[0m: Run summary:\n",
            "\u001b[34m\u001b[1mwandb\u001b[0m:                 train/box_loss 0.0688\n",
            "\u001b[34m\u001b[1mwandb\u001b[0m:                 train/obj_loss 0.07994\n",
            "\u001b[34m\u001b[1mwandb\u001b[0m:                 train/cls_loss 0.00208\n",
            "\u001b[34m\u001b[1mwandb\u001b[0m:              metrics/precision 0.80738\n",
            "\u001b[34m\u001b[1mwandb\u001b[0m:                 metrics/recall 0.62592\n",
            "\u001b[34m\u001b[1mwandb\u001b[0m:                metrics/mAP_0.5 0.70285\n",
            "\u001b[34m\u001b[1mwandb\u001b[0m:           metrics/mAP_0.5:0.95 0.28686\n",
            "\u001b[34m\u001b[1mwandb\u001b[0m:                   val/box_loss 0.0581\n",
            "\u001b[34m\u001b[1mwandb\u001b[0m:                   val/obj_loss 0.04722\n",
            "\u001b[34m\u001b[1mwandb\u001b[0m:                   val/cls_loss 0.00123\n",
            "\u001b[34m\u001b[1mwandb\u001b[0m:                          x/lr0 0.00883\n",
            "\u001b[34m\u001b[1mwandb\u001b[0m:                          x/lr1 0.00883\n",
            "\u001b[34m\u001b[1mwandb\u001b[0m:                          x/lr2 0.00883\n",
            "\u001b[34m\u001b[1mwandb\u001b[0m:                       _runtime 21235\n",
            "\u001b[34m\u001b[1mwandb\u001b[0m:                     _timestamp 1618503700\n",
            "\u001b[34m\u001b[1mwandb\u001b[0m:                          _step 11\n",
            "\u001b[34m\u001b[1mwandb\u001b[0m: Run history:\n",
            "\u001b[34m\u001b[1mwandb\u001b[0m:         train/box_loss ▁▂▅▆█▇█▇▅▆▄\n",
            "\u001b[34m\u001b[1mwandb\u001b[0m:         train/obj_loss ▁▁▇▅▇▅▆█▅▅▆\n",
            "\u001b[34m\u001b[1mwandb\u001b[0m:         train/cls_loss ▁▃▅█▅█▇▄▄▃▃\n",
            "\u001b[34m\u001b[1mwandb\u001b[0m:      metrics/precision ▅▄▅▂▁▁▂▄▆▆█\n",
            "\u001b[34m\u001b[1mwandb\u001b[0m:         metrics/recall ▇▅▄▂▅█▃▁▄▅▄\n",
            "\u001b[34m\u001b[1mwandb\u001b[0m:        metrics/mAP_0.5 ▇▅▅▁▁▆▂▂▇▇█\n",
            "\u001b[34m\u001b[1mwandb\u001b[0m:   metrics/mAP_0.5:0.95 ▆▅▄▁▄▅▄▄▇▇█\n",
            "\u001b[34m\u001b[1mwandb\u001b[0m:           val/box_loss ▁▄▆▇▇▆█▆▁▂▁\n",
            "\u001b[34m\u001b[1mwandb\u001b[0m:           val/obj_loss ▁▄▂▁▅▁█▃▂▁▄\n",
            "\u001b[34m\u001b[1mwandb\u001b[0m:           val/cls_loss ▂▃▇▂▄▅▃█▂▄▁\n",
            "\u001b[34m\u001b[1mwandb\u001b[0m:                  x/lr0 ▁▂▄▅▆▇███▇▆\n",
            "\u001b[34m\u001b[1mwandb\u001b[0m:                  x/lr1 ▁▂▄▅▆▇███▇▆\n",
            "\u001b[34m\u001b[1mwandb\u001b[0m:                  x/lr2 ▁▂▄▅▆▇███▇▆\n",
            "\u001b[34m\u001b[1mwandb\u001b[0m:               _runtime ▁▂▂▃▄▄▅▆▇▇██\n",
            "\u001b[34m\u001b[1mwandb\u001b[0m:             _timestamp ▁▂▂▃▄▄▅▆▇▇██\n",
            "\u001b[34m\u001b[1mwandb\u001b[0m:                  _step ▁▂▂▃▄▄▅▅▆▇▇█\n",
            "\u001b[34m\u001b[1mwandb\u001b[0m: \n",
            "\u001b[34m\u001b[1mwandb\u001b[0m: You can sync this run to the cloud by running:\n",
            "\u001b[34m\u001b[1mwandb\u001b[0m: \u001b[33mwandb sync /content/yolov5/yolov5/wandb/offline-run-20210415_102745-13ks1b9a\u001b[0m\n",
            "Successfully trained...I guess\n"
          ],
          "name": "stdout"
        }
      ]
    },
    {
      "cell_type": "code",
      "metadata": {
        "colab": {
          "base_uri": "https://localhost:8080/"
        },
        "id": "xuSndkrhXwno",
        "outputId": "59586566-91d2-49a2-e2de-c4275e455194"
      },
      "source": [
        "!wandb sync /content/yolov5/yolov5/wandb/offline-run-20210415_102745-13ks1b9a"
      ],
      "execution_count": 16,
      "outputs": [
        {
          "output_type": "stream",
          "text": [
            "Usage: wandb sync [OPTIONS] [PATH]...\n",
            "Try 'wandb sync --help' for help.\n",
            "\n",
            "Error: Invalid value for '[PATH]...': Path '/content/yolov5/yolov5/wandb/offline-run-20210415_102745-13ks1b9a' does not exist.\n"
          ],
          "name": "stdout"
        }
      ]
    },
    {
      "cell_type": "markdown",
      "metadata": {
        "id": "y3J9GxHsdpga"
      },
      "source": [
        "# 3. Loading the Trained Model and evaluating the test images"
      ]
    },
    {
      "cell_type": "code",
      "metadata": {
        "id": "CeiK6i0wwClD"
      },
      "source": [
        "# def run_model_detect(weight_dir, img_source, save_img_dir, conf=0.25):\n",
        "#   !python detect.py --weights $weight_dir --conf $conf --source $img_source\n",
        "\n",
        "# testing our images\n",
        "\n",
        "def run_detect_images(weight_dir, img_source, save_img_dir, conf=0.25):\n",
        "  \"\"\"\n",
        "  Function to Detect in the images and store it in an folder  \n",
        "  weight_dir: directory of the trained weights, it is a pt file\n",
        "  img_source: directory of the images to evaluate\n",
        "  save_img_dir: results will be stored in this directory\n",
        "  conf: this is the confidence threshold\n",
        "  \"\"\"\n",
        "  # !python detect.py --weights /content/gdrive/MyDrive/DL_TUD/yolov5s_results_50/weights/best.pt --conf 0.25 --source /content/gdrive/MyDrive/DL_TUD/Pano_images/resizedIMG_20210414_202223.jpg\n",
        "  !python detect.py --weights $weight_dir --conf $conf --source $img_source --project $save_img_dir"
      ],
      "execution_count": 14,
      "outputs": []
    },
    {
      "cell_type": "code",
      "metadata": {
        "id": "jkqU-A5ASpvl"
      },
      "source": [
        "# \"\"\"\n",
        "#   Function to Detect in the images and store it in an expt folder\n",
        "# \"\"\"\n",
        "# def run_model_detect(weight_dir, img_source, conf=0.25):\n",
        "#   !python detect.py --weights $weight_dir --conf $conf --source $img_source"
      ],
      "execution_count": 21,
      "outputs": []
    },
    {
      "cell_type": "code",
      "metadata": {
        "id": "tRt2fEvzk0Fj",
        "colab": {
          "base_uri": "https://localhost:8080/"
        },
        "outputId": "d66e588a-0751-4f81-a9e7-4fa30fa7a923"
      },
      "source": [
        "## Run the detection for all the images\n",
        "# run_model_detect(weight_dir_custom, img_source_custom)\n",
        "img_source='/content/gdrive/MyDrive/DL_TUD/data/images/test'\n",
        "weight_dir_test='/content/gdrive/MyDrive/DL_TUD/yolov5s_results_50/weights/best.pt'\n",
        "save_img_dir = '/content/gdrive/MyDrive/DL_TUD/Test_Detected'\n",
        "\n",
        "# Show time!\n",
        "run_detect_images(weight_dir_test, img_source, save_img_dir)"
      ],
      "execution_count": 15,
      "outputs": [
        {
          "output_type": "stream",
          "text": [
            "Namespace(agnostic_nms=False, augment=False, classes=None, conf_thres=0.25, device='', exist_ok=False, img_size=640, iou_thres=0.45, name='exp', nosave=False, project='/content/gdrive/MyDrive/DL_TUD/Test_Detected', save_conf=False, save_txt=False, source='/content/gdrive/MyDrive/DL_TUD/data/images/test', update=False, view_img=False, weights=['/content/gdrive/MyDrive/DL_TUD/yolov5s_results_50/weights/best.pt'])\n",
            "YOLOv5 🚀 v5.0-9-ge5d7122 torch 1.8.1+cu101 CUDA:0 (Tesla P100-PCIE-16GB, 16280.875MB)\n",
            "\n",
            "Fusing layers... \n",
            "Model Summary: 224 layers, 7056607 parameters, 0 gradients, 16.3 GFLOPS\n",
            "image 1/548 /content/gdrive/MyDrive/DL_TUD/data/images/test/TMX7315080123-000286_pano_0000_000816.jpg: 320x640 1 person, Done. (0.058s)\n",
            "image 2/548 /content/gdrive/MyDrive/DL_TUD/data/images/test/TMX7315080123-000286_pano_0000_001180.jpg: 320x640 Done. (0.009s)\n",
            "image 3/548 /content/gdrive/MyDrive/DL_TUD/data/images/test/TMX7315080123-000291_pano_0000_001244.jpg: 320x640 2 licenses, Done. (0.010s)\n",
            "image 4/548 /content/gdrive/MyDrive/DL_TUD/data/images/test/TMX7315080123-000292_pano_0000_001328.jpg: 320x640 3 persons, 3 licenses, Done. (0.010s)\n",
            "image 5/548 /content/gdrive/MyDrive/DL_TUD/data/images/test/TMX7315080123-000305_pano_0000_001764.jpg: 320x640 2 licenses, Done. (0.011s)\n",
            "image 6/548 /content/gdrive/MyDrive/DL_TUD/data/images/test/TMX7315080123-000308_pano_0000_000966.jpg: 320x640 Done. (0.009s)\n",
            "image 7/548 /content/gdrive/MyDrive/DL_TUD/data/images/test/TMX7315080123-000308_pano_0000_000988.jpg: 320x640 1 person, 1 license, Done. (0.010s)\n",
            "image 8/548 /content/gdrive/MyDrive/DL_TUD/data/images/test/TMX7315080123-000309_pano_0000_001152.jpg: 320x640 Done. (0.009s)\n",
            "image 9/548 /content/gdrive/MyDrive/DL_TUD/data/images/test/TMX7315080123-000309_pano_0000_001179.jpg: 320x640 2 persons, Done. (0.010s)\n",
            "image 10/548 /content/gdrive/MyDrive/DL_TUD/data/images/test/TMX7315080123-000311_pano_0000_000240.jpg: 320x640 4 licenses, Done. (0.010s)\n",
            "image 11/548 /content/gdrive/MyDrive/DL_TUD/data/images/test/TMX7315120208-000031_pano_0000_000109.jpg: 320x640 1 person, Done. (0.010s)\n",
            "image 12/548 /content/gdrive/MyDrive/DL_TUD/data/images/test/TMX7315120208-000032_pano_0000_001576.jpg: 320x640 Done. (0.009s)\n",
            "image 13/548 /content/gdrive/MyDrive/DL_TUD/data/images/test/TMX7315120208-000038_pano_0000_000084.jpg: 320x640 2 licenses, Done. (0.010s)\n",
            "image 14/548 /content/gdrive/MyDrive/DL_TUD/data/images/test/TMX7315120208-000038_pano_0000_001506.jpg: 320x640 1 person, 3 licenses, Done. (0.010s)\n",
            "image 15/548 /content/gdrive/MyDrive/DL_TUD/data/images/test/TMX7315120208-000038_pano_0002_002286.jpg: 320x640 Done. (0.009s)\n",
            "image 16/548 /content/gdrive/MyDrive/DL_TUD/data/images/test/TMX7315120208-000040_pano_0001_000211.jpg: 320x640 Done. (0.009s)\n",
            "image 17/548 /content/gdrive/MyDrive/DL_TUD/data/images/test/TMX7315120208-000047_pano_0000_004238.jpg: 320x640 1 person, 2 licenses, Done. (0.010s)\n",
            "image 18/548 /content/gdrive/MyDrive/DL_TUD/data/images/test/TMX7315120208-000048_pano_0000_000006.jpg: 320x640 1 person, 4 licenses, Done. (0.010s)\n",
            "image 19/548 /content/gdrive/MyDrive/DL_TUD/data/images/test/TMX7315120208-000048_pano_0000_003165.jpg: 320x640 Done. (0.009s)\n",
            "image 20/548 /content/gdrive/MyDrive/DL_TUD/data/images/test/TMX7315120208-000050_pano_0002_001027.jpg: 320x640 Done. (0.009s)\n",
            "image 21/548 /content/gdrive/MyDrive/DL_TUD/data/images/test/TMX7315120208-000050_pano_0002_001475.jpg: 320x640 2 licenses, Done. (0.010s)\n",
            "image 22/548 /content/gdrive/MyDrive/DL_TUD/data/images/test/TMX7315120208-000050_pano_0002_003568.jpg: 320x640 1 license, Done. (0.010s)\n",
            "image 23/548 /content/gdrive/MyDrive/DL_TUD/data/images/test/TMX7315120208-000052_pano_0000_002909.jpg: 320x640 1 license, Done. (0.010s)\n",
            "image 24/548 /content/gdrive/MyDrive/DL_TUD/data/images/test/TMX7315120208-000052_pano_0000_004521.jpg: 320x640 Done. (0.009s)\n",
            "image 25/548 /content/gdrive/MyDrive/DL_TUD/data/images/test/TMX7315120208-000056_pano_0000_001578.jpg: 320x640 1 person, Done. (0.010s)\n",
            "image 26/548 /content/gdrive/MyDrive/DL_TUD/data/images/test/TMX7315120208-000059_pano_0000_000865.jpg: 320x640 1 person, 1 license, Done. (0.010s)\n",
            "image 27/548 /content/gdrive/MyDrive/DL_TUD/data/images/test/TMX7315120208-000062_pano_0009_000149.jpg: 320x640 2 persons, Done. (0.010s)\n",
            "image 28/548 /content/gdrive/MyDrive/DL_TUD/data/images/test/TMX7315120208-000064_pano_0000_000190.jpg: 320x640 1 person, Done. (0.010s)\n",
            "image 29/548 /content/gdrive/MyDrive/DL_TUD/data/images/test/TMX7315120208-000070_pano_0019_000008.jpg: 320x640 3 licenses, Done. (0.010s)\n",
            "image 30/548 /content/gdrive/MyDrive/DL_TUD/data/images/test/TMX7315120208-000070_pano_0019_000551.jpg: 320x640 1 person, 2 licenses, Done. (0.010s)\n",
            "image 31/548 /content/gdrive/MyDrive/DL_TUD/data/images/test/TMX7315120208-000075_pano_0000_002533.jpg: 320x640 3 licenses, Done. (0.010s)\n",
            "image 32/548 /content/gdrive/MyDrive/DL_TUD/data/images/test/TMX7315120208-000085_pano_0000_001536.jpg: 320x640 1 person, Done. (0.010s)\n",
            "image 33/548 /content/gdrive/MyDrive/DL_TUD/data/images/test/TMX7315120208-000090_pano_0001_001422.jpg: 320x640 1 license, Done. (0.010s)\n",
            "image 34/548 /content/gdrive/MyDrive/DL_TUD/data/images/test/TMX7315120208-000103_pano_0000_001952.jpg: 320x640 1 license, Done. (0.010s)\n",
            "image 35/548 /content/gdrive/MyDrive/DL_TUD/data/images/test/TMX7315120208-000103_pano_0000_003930.jpg: 320x640 Done. (0.009s)\n",
            "image 36/548 /content/gdrive/MyDrive/DL_TUD/data/images/test/TMX7315120208-000103_pano_0000_006727.jpg: 320x640 2 licenses, Done. (0.010s)\n",
            "image 37/548 /content/gdrive/MyDrive/DL_TUD/data/images/test/TMX7315120208-000103_pano_0000_006991.jpg: 320x640 3 licenses, Done. (0.010s)\n",
            "image 38/548 /content/gdrive/MyDrive/DL_TUD/data/images/test/TMX7315120208-000105_pano_0001_000014.jpg: 320x640 Done. (0.009s)\n",
            "image 39/548 /content/gdrive/MyDrive/DL_TUD/data/images/test/TMX7315120208-000105_pano_0001_001191.jpg: 320x640 Done. (0.009s)\n",
            "image 40/548 /content/gdrive/MyDrive/DL_TUD/data/images/test/TMX7315120208-000143_pano_0002_001747.jpg: 320x640 Done. (0.009s)\n",
            "image 41/548 /content/gdrive/MyDrive/DL_TUD/data/images/test/TMX7316010203-000022_pano_0000_001532.jpg: 320x640 2 licenses, Done. (0.010s)\n",
            "image 42/548 /content/gdrive/MyDrive/DL_TUD/data/images/test/TMX7316010203-000028_pano_0002_000786.jpg: 320x640 3 licenses, Done. (0.010s)\n",
            "image 43/548 /content/gdrive/MyDrive/DL_TUD/data/images/test/TMX7316010203-000028_pano_0002_000938.jpg: 320x640 1 license, Done. (0.010s)\n",
            "image 44/548 /content/gdrive/MyDrive/DL_TUD/data/images/test/TMX7316010203-000043_pano_0000_003263.jpg: 320x640 1 license, Done. (0.010s)\n",
            "image 45/548 /content/gdrive/MyDrive/DL_TUD/data/images/test/TMX7316010203-000044_pano_0000_000197.jpg: 320x640 1 person, 2 licenses, Done. (0.010s)\n",
            "image 46/548 /content/gdrive/MyDrive/DL_TUD/data/images/test/TMX7316010203-000044_pano_0000_002813.jpg: 320x640 5 persons, 1 license, Done. (0.010s)\n",
            "image 47/548 /content/gdrive/MyDrive/DL_TUD/data/images/test/TMX7316010203-000048_pano_0000_002027.jpg: 320x640 Done. (0.009s)\n",
            "image 48/548 /content/gdrive/MyDrive/DL_TUD/data/images/test/TMX7316010203-000052_pano_0001_000006.jpg: 320x640 2 licenses, Done. (0.010s)\n",
            "image 49/548 /content/gdrive/MyDrive/DL_TUD/data/images/test/TMX7316010203-000052_pano_0002_000925.jpg: 320x640 1 person, Done. (0.010s)\n",
            "image 50/548 /content/gdrive/MyDrive/DL_TUD/data/images/test/TMX7316010203-000076_pano_0000_003000.jpg: 320x640 1 license, Done. (0.010s)\n",
            "image 51/548 /content/gdrive/MyDrive/DL_TUD/data/images/test/TMX7316010203-000076_pano_0000_007799.jpg: 320x640 3 licenses, Done. (0.010s)\n",
            "image 52/548 /content/gdrive/MyDrive/DL_TUD/data/images/test/TMX7316010203-000085_pano_0004_000248.jpg: 320x640 1 person, 1 license, Done. (0.010s)\n",
            "image 53/548 /content/gdrive/MyDrive/DL_TUD/data/images/test/TMX7316010203-000085_pano_0006_001707.jpg: 320x640 Done. (0.009s)\n",
            "image 54/548 /content/gdrive/MyDrive/DL_TUD/data/images/test/TMX7316010203-000085_pano_0006_004035.jpg: 320x640 1 license, Done. (0.010s)\n",
            "image 55/548 /content/gdrive/MyDrive/DL_TUD/data/images/test/TMX7316010203-000085_pano_0006_004519.jpg: 320x640 1 license, Done. (0.010s)\n",
            "image 56/548 /content/gdrive/MyDrive/DL_TUD/data/images/test/TMX7316010203-000085_pano_0006_012755.jpg: 320x640 1 license, Done. (0.010s)\n",
            "image 57/548 /content/gdrive/MyDrive/DL_TUD/data/images/test/TMX7316010203-000085_pano_0006_015993.jpg: 320x640 Done. (0.009s)\n",
            "image 58/548 /content/gdrive/MyDrive/DL_TUD/data/images/test/TMX7316010203-000154_pano_0000_000958.jpg: 320x640 1 license, Done. (0.010s)\n",
            "image 59/548 /content/gdrive/MyDrive/DL_TUD/data/images/test/TMX7316010203-000173_pano_0008_000401.jpg: 320x640 Done. (0.009s)\n",
            "image 60/548 /content/gdrive/MyDrive/DL_TUD/data/images/test/TMX7316010203-000188_pano_0000_003017.jpg: 320x640 10 persons, Done. (0.010s)\n",
            "image 61/548 /content/gdrive/MyDrive/DL_TUD/data/images/test/TMX7316010203-000191_pano_0001_000724.jpg: 320x640 2 persons, Done. (0.010s)\n",
            "image 62/548 /content/gdrive/MyDrive/DL_TUD/data/images/test/TMX7316010203-000191_pano_0002_002726.jpg: 320x640 Done. (0.009s)\n",
            "image 63/548 /content/gdrive/MyDrive/DL_TUD/data/images/test/TMX7316010203-000191_pano_0002_003076.jpg: 320x640 Done. (0.009s)\n",
            "image 64/548 /content/gdrive/MyDrive/DL_TUD/data/images/test/TMX7316010203-000192_pano_0001_000589.jpg: 320x640 Done. (0.010s)\n",
            "image 65/548 /content/gdrive/MyDrive/DL_TUD/data/images/test/TMX7316010203-000220_pano_0001_000378.jpg: 320x640 4 persons, Done. (0.010s)\n",
            "image 66/548 /content/gdrive/MyDrive/DL_TUD/data/images/test/TMX7316010203-000220_pano_0001_000652.jpg: 320x640 1 person, Done. (0.010s)\n",
            "image 67/548 /content/gdrive/MyDrive/DL_TUD/data/images/test/TMX7316010203-000220_pano_0001_001123.jpg: 320x640 2 licenses, Done. (0.010s)\n",
            "image 68/548 /content/gdrive/MyDrive/DL_TUD/data/images/test/TMX7316010203-000224_pano_0000_000891.jpg: 320x640 4 licenses, Done. (0.010s)\n",
            "image 69/548 /content/gdrive/MyDrive/DL_TUD/data/images/test/TMX7316010203-000224_pano_0000_001001.jpg: 320x640 Done. (0.010s)\n",
            "image 70/548 /content/gdrive/MyDrive/DL_TUD/data/images/test/TMX7316010203-000227_pano_0000_001965.jpg: 320x640 2 persons, 1 license, Done. (0.010s)\n",
            "image 71/548 /content/gdrive/MyDrive/DL_TUD/data/images/test/TMX7316010203-000227_pano_0000_001974.jpg: 320x640 3 persons, 1 license, Done. (0.010s)\n",
            "image 72/548 /content/gdrive/MyDrive/DL_TUD/data/images/test/TMX7316010203-000227_pano_0000_002575.jpg: 320x640 3 licenses, Done. (0.010s)\n",
            "image 73/548 /content/gdrive/MyDrive/DL_TUD/data/images/test/TMX7316010203-000232_pano_0000_003829.jpg: 320x640 1 person, Done. (0.010s)\n",
            "image 74/548 /content/gdrive/MyDrive/DL_TUD/data/images/test/TMX7316010203-000239_pano_0002_001154.jpg: 320x640 2 persons, Done. (0.012s)\n",
            "image 75/548 /content/gdrive/MyDrive/DL_TUD/data/images/test/TMX7316010203-000242_pano_0000_003089.jpg: 320x640 Done. (0.009s)\n",
            "image 76/548 /content/gdrive/MyDrive/DL_TUD/data/images/test/TMX7316010203-000243_pano_0001_000850.jpg: 320x640 Done. (0.009s)\n",
            "image 77/548 /content/gdrive/MyDrive/DL_TUD/data/images/test/TMX7316010203-000243_pano_0001_001530.jpg: 320x640 Done. (0.009s)\n",
            "image 78/548 /content/gdrive/MyDrive/DL_TUD/data/images/test/TMX7316010203-000245_pano_0000_001363.jpg: 320x640 Done. (0.009s)\n",
            "image 79/548 /content/gdrive/MyDrive/DL_TUD/data/images/test/TMX7316010203-000248_pano_0000_002083.jpg: 320x640 1 person, 4 licenses, Done. (0.010s)\n",
            "image 80/548 /content/gdrive/MyDrive/DL_TUD/data/images/test/TMX7316010203-000248_pano_0000_003713.jpg: 320x640 1 person, 2 licenses, Done. (0.010s)\n",
            "image 81/548 /content/gdrive/MyDrive/DL_TUD/data/images/test/TMX7316010203-000249_pano_0000_002752.jpg: 320x640 3 licenses, Done. (0.010s)\n",
            "image 82/548 /content/gdrive/MyDrive/DL_TUD/data/images/test/TMX7316010203-000250_pano_0001_000123.jpg: 320x640 Done. (0.009s)\n",
            "image 83/548 /content/gdrive/MyDrive/DL_TUD/data/images/test/TMX7316010203-000251_pano_0000_001387.jpg: 320x640 Done. (0.009s)\n",
            "image 84/548 /content/gdrive/MyDrive/DL_TUD/data/images/test/TMX7316010203-000251_pano_0000_001881.jpg: 320x640 Done. (0.009s)\n",
            "image 85/548 /content/gdrive/MyDrive/DL_TUD/data/images/test/TMX7316010203-000251_pano_0000_002651.jpg: 320x640 Done. (0.009s)\n",
            "image 86/548 /content/gdrive/MyDrive/DL_TUD/data/images/test/TMX7316010203-000252_pano_0000_002200.jpg: 320x640 1 person, 4 licenses, Done. (0.010s)\n",
            "image 87/548 /content/gdrive/MyDrive/DL_TUD/data/images/test/TMX7316010203-000252_pano_0000_002666.jpg: 320x640 1 license, Done. (0.010s)\n",
            "image 88/548 /content/gdrive/MyDrive/DL_TUD/data/images/test/TMX7316010203-000252_pano_0000_003151.jpg: 320x640 1 license, Done. (0.010s)\n",
            "image 89/548 /content/gdrive/MyDrive/DL_TUD/data/images/test/TMX7316010203-000253_pano_0000_004127.jpg: 320x640 4 licenses, Done. (0.010s)\n",
            "image 90/548 /content/gdrive/MyDrive/DL_TUD/data/images/test/TMX7316010203-000255_pano_0000_000881.jpg: 320x640 1 person, Done. (0.010s)\n",
            "image 91/548 /content/gdrive/MyDrive/DL_TUD/data/images/test/TMX7316010203-000258_pano_0002_000555.jpg: 320x640 4 licenses, Done. (0.010s)\n",
            "image 92/548 /content/gdrive/MyDrive/DL_TUD/data/images/test/TMX7316010203-000258_pano_0002_000834.jpg: 320x640 4 licenses, Done. (0.010s)\n",
            "image 93/548 /content/gdrive/MyDrive/DL_TUD/data/images/test/TMX7316010203-000258_pano_0002_001232.jpg: 320x640 1 person, Done. (0.010s)\n",
            "image 94/548 /content/gdrive/MyDrive/DL_TUD/data/images/test/TMX7316010203-000258_pano_0002_001631.jpg: 320x640 4 licenses, Done. (0.010s)\n",
            "image 95/548 /content/gdrive/MyDrive/DL_TUD/data/images/test/TMX7316010203-000258_pano_0002_002723.jpg: 320x640 2 persons, Done. (0.010s)\n",
            "image 96/548 /content/gdrive/MyDrive/DL_TUD/data/images/test/TMX7316010203-000258_pano_0002_003806.jpg: 320x640 3 licenses, Done. (0.010s)\n",
            "image 97/548 /content/gdrive/MyDrive/DL_TUD/data/images/test/TMX7316010203-000259_pano_0000_000170.jpg: 320x640 2 persons, Done. (0.010s)\n",
            "image 98/548 /content/gdrive/MyDrive/DL_TUD/data/images/test/TMX7316010203-000259_pano_0000_000413.jpg: 320x640 1 license, Done. (0.010s)\n",
            "image 99/548 /content/gdrive/MyDrive/DL_TUD/data/images/test/TMX7316010203-000259_pano_0008_000085.jpg: 320x640 1 person, 4 licenses, Done. (0.010s)\n",
            "image 100/548 /content/gdrive/MyDrive/DL_TUD/data/images/test/TMX7316010203-000259_pano_0008_000261.jpg: 320x640 2 licenses, Done. (0.010s)\n",
            "image 101/548 /content/gdrive/MyDrive/DL_TUD/data/images/test/TMX7316010203-000259_pano_0008_000404.jpg: 320x640 Done. (0.009s)\n",
            "image 102/548 /content/gdrive/MyDrive/DL_TUD/data/images/test/TMX7316010203-000259_pano_0009_000088.jpg: 320x640 Done. (0.009s)\n",
            "image 103/548 /content/gdrive/MyDrive/DL_TUD/data/images/test/TMX7316010203-000262_pano_0000_000086.jpg: 320x640 3 persons, 2 licenses, Done. (0.010s)\n",
            "image 104/548 /content/gdrive/MyDrive/DL_TUD/data/images/test/TMX7316010203-000263_pano_0001_000214.jpg: 320x640 4 licenses, Done. (0.010s)\n",
            "image 105/548 /content/gdrive/MyDrive/DL_TUD/data/images/test/TMX7316010203-000264_pano_0001_001647.jpg: 320x640 4 licenses, Done. (0.010s)\n",
            "image 106/548 /content/gdrive/MyDrive/DL_TUD/data/images/test/TMX7316010203-000264_pano_0001_001807.jpg: 320x640 2 licenses, Done. (0.010s)\n",
            "image 107/548 /content/gdrive/MyDrive/DL_TUD/data/images/test/TMX7316010203-000276_pano_0000_001873.jpg: 320x640 2 persons, 3 licenses, Done. (0.010s)\n",
            "image 108/548 /content/gdrive/MyDrive/DL_TUD/data/images/test/TMX7316010203-000298_pano_0000_006167.jpg: 320x640 Done. (0.009s)\n",
            "image 109/548 /content/gdrive/MyDrive/DL_TUD/data/images/test/TMX7316010203-000298_pano_0000_006173.jpg: 320x640 Done. (0.009s)\n",
            "image 110/548 /content/gdrive/MyDrive/DL_TUD/data/images/test/TMX7316010203-000301_pano_0000_002850.jpg: 320x640 Done. (0.009s)\n",
            "image 111/548 /content/gdrive/MyDrive/DL_TUD/data/images/test/TMX7316010203-000301_pano_0000_003217.jpg: 320x640 Done. (0.010s)\n",
            "image 112/548 /content/gdrive/MyDrive/DL_TUD/data/images/test/TMX7316010203-000301_pano_0000_003228.jpg: 320x640 1 person, Done. (0.010s)\n",
            "image 113/548 /content/gdrive/MyDrive/DL_TUD/data/images/test/TMX7316010203-000306_pano_0000_001958.jpg: 320x640 1 license, Done. (0.010s)\n",
            "image 114/548 /content/gdrive/MyDrive/DL_TUD/data/images/test/TMX7316010203-000306_pano_0000_002763.jpg: 320x640 1 person, 4 licenses, Done. (0.010s)\n",
            "image 115/548 /content/gdrive/MyDrive/DL_TUD/data/images/test/TMX7316010203-000307_pano_0001_003714.jpg: 320x640 Done. (0.009s)\n",
            "image 116/548 /content/gdrive/MyDrive/DL_TUD/data/images/test/TMX7316010203-000311_pano_0000_002632.jpg: 320x640 1 person, 1 license, Done. (0.010s)\n",
            "image 117/548 /content/gdrive/MyDrive/DL_TUD/data/images/test/TMX7316010203-000315_pano_0000_005267.jpg: 320x640 Done. (0.009s)\n",
            "image 118/548 /content/gdrive/MyDrive/DL_TUD/data/images/test/TMX7316010203-000317_pano_0000_002270.jpg: 320x640 Done. (0.009s)\n",
            "image 119/548 /content/gdrive/MyDrive/DL_TUD/data/images/test/TMX7316010203-000332_pano_0001_000708.jpg: 320x640 2 licenses, Done. (0.010s)\n",
            "image 120/548 /content/gdrive/MyDrive/DL_TUD/data/images/test/TMX7316010203-000332_pano_0001_007087.jpg: 320x640 Done. (0.009s)\n",
            "image 121/548 /content/gdrive/MyDrive/DL_TUD/data/images/test/TMX7316010203-000352_pano_0000_001234.jpg: 320x640 1 person, 1 license, Done. (0.010s)\n",
            "image 122/548 /content/gdrive/MyDrive/DL_TUD/data/images/test/TMX7316010203-000352_pano_0000_001631.jpg: 320x640 1 person, Done. (0.010s)\n",
            "image 123/548 /content/gdrive/MyDrive/DL_TUD/data/images/test/TMX7316010203-000352_pano_0002_000036.jpg: 320x640 Done. (0.009s)\n",
            "image 124/548 /content/gdrive/MyDrive/DL_TUD/data/images/test/TMX7316010203-000353_pano_0000_000994.jpg: 320x640 1 person, Done. (0.010s)\n",
            "image 125/548 /content/gdrive/MyDrive/DL_TUD/data/images/test/TMX7316010203-000353_pano_0003_000281.jpg: 320x640 Done. (0.009s)\n",
            "image 126/548 /content/gdrive/MyDrive/DL_TUD/data/images/test/TMX7316010203-000353_pano_0003_000293.jpg: 320x640 Done. (0.009s)\n",
            "image 127/548 /content/gdrive/MyDrive/DL_TUD/data/images/test/TMX7316010203-000354_pano_0001_000919.jpg: 320x640 1 person, Done. (0.010s)\n",
            "image 128/548 /content/gdrive/MyDrive/DL_TUD/data/images/test/TMX7316010203-000355_pano_0001_000902.jpg: 320x640 1 person, Done. (0.010s)\n",
            "image 129/548 /content/gdrive/MyDrive/DL_TUD/data/images/test/TMX7316010203-000369_pano_0000_004391.jpg: 320x640 1 license, Done. (0.014s)\n",
            "image 130/548 /content/gdrive/MyDrive/DL_TUD/data/images/test/TMX7316010203-000369_pano_0000_004987.jpg: 320x640 2 licenses, Done. (0.010s)\n",
            "image 131/548 /content/gdrive/MyDrive/DL_TUD/data/images/test/TMX7316010203-000369_pano_0001_000068.jpg: 320x640 1 license, Done. (0.010s)\n",
            "image 132/548 /content/gdrive/MyDrive/DL_TUD/data/images/test/TMX7316010203-000371_pano_0000_000088.jpg: 320x640 2 licenses, Done. (0.010s)\n",
            "image 133/548 /content/gdrive/MyDrive/DL_TUD/data/images/test/TMX7316010203-000434_pano_0000_000236.jpg: 320x640 1 person, 1 license, Done. (0.011s)\n",
            "image 134/548 /content/gdrive/MyDrive/DL_TUD/data/images/test/TMX7316010203-000521_pano_0000_001960.jpg: 320x640 Done. (0.009s)\n",
            "image 135/548 /content/gdrive/MyDrive/DL_TUD/data/images/test/TMX7316010203-000521_pano_0000_002467.jpg: 320x640 Done. (0.009s)\n",
            "image 136/548 /content/gdrive/MyDrive/DL_TUD/data/images/test/TMX7316010203-000521_pano_0001_000606.jpg: 320x640 Done. (0.009s)\n",
            "image 137/548 /content/gdrive/MyDrive/DL_TUD/data/images/test/TMX7316010203-000529_pano_0002_001351.jpg: 320x640 Done. (0.009s)\n",
            "image 138/548 /content/gdrive/MyDrive/DL_TUD/data/images/test/TMX7316010203-001082_pano_0002_000123.jpg: 320x640 1 person, Done. (0.011s)\n",
            "image 139/548 /content/gdrive/MyDrive/DL_TUD/data/images/test/TMX7316010203-001129_pano_0001_000552.jpg: 320x640 1 person, Done. (0.010s)\n",
            "image 140/548 /content/gdrive/MyDrive/DL_TUD/data/images/test/TMX7316010203-001130_pano_0000_001090.jpg: 320x640 1 person, 1 license, Done. (0.010s)\n",
            "image 141/548 /content/gdrive/MyDrive/DL_TUD/data/images/test/TMX7316010203-001131_pano_0000_003631.jpg: 320x640 1 person, 3 licenses, Done. (0.010s)\n",
            "image 142/548 /content/gdrive/MyDrive/DL_TUD/data/images/test/TMX7316010203-001132_pano_0001_000359.jpg: 320x640 1 person, 3 licenses, Done. (0.010s)\n",
            "image 143/548 /content/gdrive/MyDrive/DL_TUD/data/images/test/TMX7316010203-001134_pano_0000_002301.jpg: 320x640 2 licenses, Done. (0.010s)\n",
            "image 144/548 /content/gdrive/MyDrive/DL_TUD/data/images/test/TMX7316010203-001135_pano_0000_001457.jpg: 320x640 1 license, Done. (0.010s)\n",
            "image 145/548 /content/gdrive/MyDrive/DL_TUD/data/images/test/TMX7316010203-001143_pano_0001_001363.jpg: 320x640 1 license, Done. (0.010s)\n",
            "image 146/548 /content/gdrive/MyDrive/DL_TUD/data/images/test/TMX7316010203-001143_pano_0001_002052.jpg: 320x640 4 persons, 1 license, Done. (0.010s)\n",
            "image 147/548 /content/gdrive/MyDrive/DL_TUD/data/images/test/TMX7316010203-001145_pano_0000_000791.jpg: 320x640 1 person, Done. (0.010s)\n",
            "image 148/548 /content/gdrive/MyDrive/DL_TUD/data/images/test/TMX7316010203-001145_pano_0000_001117.jpg: 320x640 1 person, 1 license, Done. (0.010s)\n",
            "image 149/548 /content/gdrive/MyDrive/DL_TUD/data/images/test/TMX7316010203-001145_pano_0000_001538.jpg: 320x640 1 license, Done. (0.010s)\n",
            "image 150/548 /content/gdrive/MyDrive/DL_TUD/data/images/test/TMX7316010203-001145_pano_0000_002150.jpg: 320x640 4 persons, Done. (0.010s)\n",
            "image 151/548 /content/gdrive/MyDrive/DL_TUD/data/images/test/TMX7316010203-001145_pano_0000_002387.jpg: 320x640 7 persons, Done. (0.011s)\n",
            "image 152/548 /content/gdrive/MyDrive/DL_TUD/data/images/test/TMX7316010203-001147_pano_0000_000298.jpg: 320x640 1 person, 2 licenses, Done. (0.010s)\n",
            "image 153/548 /content/gdrive/MyDrive/DL_TUD/data/images/test/TMX7316010203-001147_pano_0000_000310.jpg: 320x640 1 person, Done. (0.010s)\n",
            "image 154/548 /content/gdrive/MyDrive/DL_TUD/data/images/test/TMX7316010203-001147_pano_0000_000338.jpg: 320x640 3 persons, 1 license, Done. (0.010s)\n",
            "image 155/548 /content/gdrive/MyDrive/DL_TUD/data/images/test/TMX7316010203-001147_pano_0000_001019.jpg: 320x640 2 licenses, Done. (0.010s)\n",
            "image 156/548 /content/gdrive/MyDrive/DL_TUD/data/images/test/TMX7316010203-001147_pano_0000_001232.jpg: 320x640 1 person, 1 license, Done. (0.010s)\n",
            "image 157/548 /content/gdrive/MyDrive/DL_TUD/data/images/test/TMX7316010203-001147_pano_0000_001810.jpg: 320x640 2 persons, 1 license, Done. (0.011s)\n",
            "image 158/548 /content/gdrive/MyDrive/DL_TUD/data/images/test/TMX7316010203-001147_pano_0000_001958.jpg: 320x640 2 licenses, Done. (0.010s)\n",
            "image 159/548 /content/gdrive/MyDrive/DL_TUD/data/images/test/TMX7316010203-001147_pano_0000_001965.jpg: 320x640 1 person, Done. (0.010s)\n",
            "image 160/548 /content/gdrive/MyDrive/DL_TUD/data/images/test/TMX7316010203-001147_pano_0002_000038.jpg: 320x640 4 licenses, Done. (0.010s)\n",
            "image 161/548 /content/gdrive/MyDrive/DL_TUD/data/images/test/TMX7316010203-001147_pano_0002_000212.jpg: 320x640 2 persons, 2 licenses, Done. (0.010s)\n",
            "image 162/548 /content/gdrive/MyDrive/DL_TUD/data/images/test/TMX7316010203-001147_pano_0002_000366.jpg: 320x640 2 persons, Done. (0.010s)\n",
            "image 163/548 /content/gdrive/MyDrive/DL_TUD/data/images/test/TMX7316010203-001147_pano_0002_000400.jpg: 320x640 1 person, 3 licenses, Done. (0.010s)\n",
            "image 164/548 /content/gdrive/MyDrive/DL_TUD/data/images/test/TMX7316010203-001148_pano_0000_001153.jpg: 320x640 3 persons, Done. (0.010s)\n",
            "image 165/548 /content/gdrive/MyDrive/DL_TUD/data/images/test/TMX7316010203-001148_pano_0000_001218.jpg: 320x640 4 licenses, Done. (0.010s)\n",
            "image 166/548 /content/gdrive/MyDrive/DL_TUD/data/images/test/TMX7316010203-001149_pano_0000_000577.jpg: 320x640 1 person, 2 licenses, Done. (0.010s)\n",
            "image 167/548 /content/gdrive/MyDrive/DL_TUD/data/images/test/TMX7316010203-001149_pano_0000_000602.jpg: 320x640 1 license, Done. (0.010s)\n",
            "image 168/548 /content/gdrive/MyDrive/DL_TUD/data/images/test/TMX7316010203-001149_pano_0000_000629.jpg: 320x640 4 licenses, Done. (0.010s)\n",
            "image 169/548 /content/gdrive/MyDrive/DL_TUD/data/images/test/TMX7316010203-001149_pano_0000_000985.jpg: 320x640 5 licenses, Done. (0.010s)\n",
            "image 170/548 /content/gdrive/MyDrive/DL_TUD/data/images/test/TMX7316010203-001149_pano_0000_001246.jpg: 320x640 1 person, 3 licenses, Done. (0.010s)\n",
            "image 171/548 /content/gdrive/MyDrive/DL_TUD/data/images/test/TMX7316010203-001149_pano_0000_002822.jpg: 320x640 1 license, Done. (0.010s)\n",
            "image 172/548 /content/gdrive/MyDrive/DL_TUD/data/images/test/TMX7316010203-001151_pano_0000_000161.jpg: 320x640 1 person, 4 licenses, Done. (0.010s)\n",
            "image 173/548 /content/gdrive/MyDrive/DL_TUD/data/images/test/TMX7316010203-001151_pano_0000_000176.jpg: 320x640 2 persons, 1 license, Done. (0.010s)\n",
            "image 174/548 /content/gdrive/MyDrive/DL_TUD/data/images/test/TMX7316010203-001151_pano_0000_000228.jpg: 320x640 1 person, 2 licenses, Done. (0.010s)\n",
            "image 175/548 /content/gdrive/MyDrive/DL_TUD/data/images/test/TMX7316010203-001151_pano_0000_000981.jpg: 320x640 2 persons, Done. (0.010s)\n",
            "image 176/548 /content/gdrive/MyDrive/DL_TUD/data/images/test/TMX7316010203-001151_pano_0000_000996.jpg: 320x640 3 persons, 1 license, Done. (0.010s)\n",
            "image 177/548 /content/gdrive/MyDrive/DL_TUD/data/images/test/TMX7316010203-001151_pano_0001_000044.jpg: 320x640 2 persons, Done. (0.010s)\n",
            "image 178/548 /content/gdrive/MyDrive/DL_TUD/data/images/test/TMX7316010203-001151_pano_0001_000050.jpg: 320x640 2 persons, Done. (0.010s)\n",
            "image 179/548 /content/gdrive/MyDrive/DL_TUD/data/images/test/TMX7316010203-001151_pano_0001_000245.jpg: 320x640 1 person, Done. (0.010s)\n",
            "image 180/548 /content/gdrive/MyDrive/DL_TUD/data/images/test/TMX7316010203-001151_pano_0001_001549.jpg: 320x640 Done. (0.009s)\n",
            "image 181/548 /content/gdrive/MyDrive/DL_TUD/data/images/test/TMX7316010203-001151_pano_0001_001560.jpg: 320x640 2 persons, Done. (0.010s)\n",
            "image 182/548 /content/gdrive/MyDrive/DL_TUD/data/images/test/TMX7316010203-001151_pano_0001_001615.jpg: 320x640 2 persons, 1 license, Done. (0.010s)\n",
            "image 183/548 /content/gdrive/MyDrive/DL_TUD/data/images/test/TMX7316010203-001151_pano_0001_002297.jpg: 320x640 3 persons, 1 license, Done. (0.010s)\n",
            "image 184/548 /content/gdrive/MyDrive/DL_TUD/data/images/test/TMX7316010203-001151_pano_0001_002451.jpg: 320x640 Done. (0.009s)\n",
            "image 185/548 /content/gdrive/MyDrive/DL_TUD/data/images/test/TMX7316010203-001153_pano_0000_000247.jpg: 320x640 1 person, 2 licenses, Done. (0.010s)\n",
            "image 186/548 /content/gdrive/MyDrive/DL_TUD/data/images/test/TMX7316010203-001153_pano_0000_003639.jpg: 320x640 5 persons, Done. (0.010s)\n",
            "image 187/548 /content/gdrive/MyDrive/DL_TUD/data/images/test/TMX7316010203-001153_pano_0000_004233.jpg: 320x640 1 person, 2 licenses, Done. (0.010s)\n",
            "image 188/548 /content/gdrive/MyDrive/DL_TUD/data/images/test/TMX7316010203-001154_pano_0001_000078.jpg: 320x640 3 persons, Done. (0.010s)\n",
            "image 189/548 /content/gdrive/MyDrive/DL_TUD/data/images/test/TMX7316010203-001155_pano_0000_000458.jpg: 320x640 4 licenses, Done. (0.010s)\n",
            "image 190/548 /content/gdrive/MyDrive/DL_TUD/data/images/test/TMX7316010203-001156_pano_0000_001761.jpg: 320x640 4 persons, 1 license, Done. (0.010s)\n",
            "image 191/548 /content/gdrive/MyDrive/DL_TUD/data/images/test/TMX7316010203-001158_pano_0000_000152.jpg: 320x640 1 person, 3 licenses, Done. (0.010s)\n",
            "image 192/548 /content/gdrive/MyDrive/DL_TUD/data/images/test/TMX7316010203-001159_pano_0001_001874.jpg: 320x640 5 licenses, Done. (0.010s)\n",
            "image 193/548 /content/gdrive/MyDrive/DL_TUD/data/images/test/TMX7316010203-001160_pano_0000_003100.jpg: 320x640 9 persons, Done. (0.010s)\n",
            "image 194/548 /content/gdrive/MyDrive/DL_TUD/data/images/test/TMX7316010203-001160_pano_0000_003506.jpg: 320x640 3 persons, Done. (0.011s)\n",
            "image 195/548 /content/gdrive/MyDrive/DL_TUD/data/images/test/TMX7316010203-001161_pano_0000_000899.jpg: 320x640 3 persons, Done. (0.010s)\n",
            "image 196/548 /content/gdrive/MyDrive/DL_TUD/data/images/test/TMX7316010203-001161_pano_0000_000910.jpg: 320x640 1 person, 1 license, Done. (0.010s)\n",
            "image 197/548 /content/gdrive/MyDrive/DL_TUD/data/images/test/TMX7316010203-001161_pano_0000_000913.jpg: 320x640 2 persons, Done. (0.010s)\n",
            "image 198/548 /content/gdrive/MyDrive/DL_TUD/data/images/test/TMX7316010203-001161_pano_0000_001575.jpg: 320x640 1 person, 3 licenses, Done. (0.010s)\n",
            "image 199/548 /content/gdrive/MyDrive/DL_TUD/data/images/test/TMX7316010203-001162_pano_0000_000869.jpg: 320x640 1 person, 2 licenses, Done. (0.010s)\n",
            "image 200/548 /content/gdrive/MyDrive/DL_TUD/data/images/test/TMX7316010203-001162_pano_0000_001975.jpg: 320x640 Done. (0.009s)\n",
            "image 201/548 /content/gdrive/MyDrive/DL_TUD/data/images/test/TMX7316010203-001162_pano_0000_002259.jpg: 320x640 2 persons, Done. (0.010s)\n",
            "image 202/548 /content/gdrive/MyDrive/DL_TUD/data/images/test/TMX7316010203-001162_pano_0000_002264.jpg: 320x640 2 persons, Done. (0.011s)\n",
            "image 203/548 /content/gdrive/MyDrive/DL_TUD/data/images/test/TMX7316010203-001162_pano_0000_002677.jpg: 320x640 6 persons, Done. (0.010s)\n",
            "image 204/548 /content/gdrive/MyDrive/DL_TUD/data/images/test/TMX7316010203-001163_pano_0000_000160.jpg: 320x640 Done. (0.010s)\n",
            "image 205/548 /content/gdrive/MyDrive/DL_TUD/data/images/test/TMX7316010203-001163_pano_0000_000406.jpg: 320x640 1 person, Done. (0.010s)\n",
            "image 206/548 /content/gdrive/MyDrive/DL_TUD/data/images/test/TMX7316010203-001163_pano_0000_000995.jpg: 320x640 Done. (0.009s)\n",
            "image 207/548 /content/gdrive/MyDrive/DL_TUD/data/images/test/TMX7316010203-001163_pano_0000_000996.jpg: 320x640 1 person, Done. (0.010s)\n",
            "image 208/548 /content/gdrive/MyDrive/DL_TUD/data/images/test/TMX7316010203-001163_pano_0000_001255.jpg: 320x640 1 person, 4 licenses, Done. (0.010s)\n",
            "image 209/548 /content/gdrive/MyDrive/DL_TUD/data/images/test/TMX7316010203-001163_pano_0000_002006.jpg: 320x640 1 person, Done. (0.010s)\n",
            "image 210/548 /content/gdrive/MyDrive/DL_TUD/data/images/test/TMX7316010203-001163_pano_0000_002212.jpg: 320x640 Done. (0.009s)\n",
            "image 211/548 /content/gdrive/MyDrive/DL_TUD/data/images/test/TMX7316010203-001163_pano_0000_002833.jpg: 320x640 1 person, Done. (0.011s)\n",
            "image 212/548 /content/gdrive/MyDrive/DL_TUD/data/images/test/TMX7316010203-001163_pano_0000_002984.jpg: 320x640 2 persons, Done. (0.010s)\n",
            "image 213/548 /content/gdrive/MyDrive/DL_TUD/data/images/test/TMX7316010203-001163_pano_0000_003085.jpg: 320x640 1 license, Done. (0.010s)\n",
            "image 214/548 /content/gdrive/MyDrive/DL_TUD/data/images/test/TMX7316010203-001163_pano_0000_003091.jpg: 320x640 5 persons, Done. (0.010s)\n",
            "image 215/548 /content/gdrive/MyDrive/DL_TUD/data/images/test/TMX7316010203-001163_pano_0000_003247.jpg: 320x640 Done. (0.009s)\n",
            "image 216/548 /content/gdrive/MyDrive/DL_TUD/data/images/test/TMX7316010203-001163_pano_0000_003330.jpg: 320x640 Done. (0.009s)\n",
            "image 217/548 /content/gdrive/MyDrive/DL_TUD/data/images/test/TMX7316010203-001163_pano_0000_003331.jpg: 320x640 2 persons, Done. (0.010s)\n",
            "image 218/548 /content/gdrive/MyDrive/DL_TUD/data/images/test/TMX7316010203-001163_pano_0000_003523.jpg: 320x640 1 person, 1 license, Done. (0.010s)\n",
            "image 219/548 /content/gdrive/MyDrive/DL_TUD/data/images/test/TMX7316010203-001163_pano_0000_003655.jpg: 320x640 2 persons, 3 licenses, Done. (0.010s)\n",
            "image 220/548 /content/gdrive/MyDrive/DL_TUD/data/images/test/TMX7316010203-001163_pano_0000_004072.jpg: 320x640 Done. (0.009s)\n",
            "image 221/548 /content/gdrive/MyDrive/DL_TUD/data/images/test/TMX7316010203-001163_pano_0000_004503.jpg: 320x640 2 persons, Done. (0.012s)\n",
            "image 222/548 /content/gdrive/MyDrive/DL_TUD/data/images/test/TMX7316010203-001165_pano_0000_000032.jpg: 320x640 2 licenses, Done. (0.010s)\n",
            "image 223/548 /content/gdrive/MyDrive/DL_TUD/data/images/test/TMX7316010203-001165_pano_0000_000608.jpg: 320x640 1 person, 1 license, Done. (0.010s)\n",
            "image 224/548 /content/gdrive/MyDrive/DL_TUD/data/images/test/TMX7316010203-001165_pano_0000_000635.jpg: 320x640 1 person, 2 licenses, Done. (0.010s)\n",
            "image 225/548 /content/gdrive/MyDrive/DL_TUD/data/images/test/TMX7316010203-001165_pano_0000_000637.jpg: 320x640 2 persons, 1 license, Done. (0.010s)\n",
            "image 226/548 /content/gdrive/MyDrive/DL_TUD/data/images/test/TMX7316010203-001165_pano_0000_001259.jpg: 320x640 3 persons, Done. (0.010s)\n",
            "image 227/548 /content/gdrive/MyDrive/DL_TUD/data/images/test/TMX7316010203-001167_pano_0001_001930.jpg: 320x640 9 persons, Done. (0.010s)\n",
            "image 228/548 /content/gdrive/MyDrive/DL_TUD/data/images/test/TMX7316010203-001167_pano_0001_002397.jpg: 320x640 1 person, Done. (0.010s)\n",
            "image 229/548 /content/gdrive/MyDrive/DL_TUD/data/images/test/TMX7316010203-001168_pano_0000_000266.jpg: 320x640 Done. (0.010s)\n",
            "image 230/548 /content/gdrive/MyDrive/DL_TUD/data/images/test/TMX7316010203-001168_pano_0000_001960.jpg: 320x640 1 person, Done. (0.010s)\n",
            "image 231/548 /content/gdrive/MyDrive/DL_TUD/data/images/test/TMX7316010203-001168_pano_0000_002176.jpg: 320x640 3 persons, 1 license, Done. (0.010s)\n",
            "image 232/548 /content/gdrive/MyDrive/DL_TUD/data/images/test/TMX7316010203-001168_pano_0000_003463.jpg: 320x640 1 person, 2 licenses, Done. (0.010s)\n",
            "image 233/548 /content/gdrive/MyDrive/DL_TUD/data/images/test/TMX7316010203-001168_pano_0000_005327.jpg: 320x640 4 persons, Done. (0.010s)\n",
            "image 234/548 /content/gdrive/MyDrive/DL_TUD/data/images/test/TMX7316010203-001169_pano_0000_000216.jpg: 320x640 1 person, Done. (0.010s)\n",
            "image 235/548 /content/gdrive/MyDrive/DL_TUD/data/images/test/TMX7316010203-001169_pano_0000_000411.jpg: 320x640 2 persons, 1 license, Done. (0.010s)\n",
            "image 236/548 /content/gdrive/MyDrive/DL_TUD/data/images/test/TMX7316010203-001169_pano_0000_000605.jpg: 320x640 1 person, 6 licenses, Done. (0.010s)\n",
            "image 237/548 /content/gdrive/MyDrive/DL_TUD/data/images/test/TMX7316010203-001169_pano_0000_000772.jpg: 320x640 7 persons, Done. (0.010s)\n",
            "image 238/548 /content/gdrive/MyDrive/DL_TUD/data/images/test/TMX7316010203-001169_pano_0000_000773.jpg: 320x640 5 persons, 1 license, Done. (0.010s)\n",
            "image 239/548 /content/gdrive/MyDrive/DL_TUD/data/images/test/TMX7316010203-001170_pano_0000_001174.jpg: 320x640 Done. (0.009s)\n",
            "image 240/548 /content/gdrive/MyDrive/DL_TUD/data/images/test/TMX7316010203-001170_pano_0000_002465.jpg: 320x640 Done. (0.010s)\n",
            "image 241/548 /content/gdrive/MyDrive/DL_TUD/data/images/test/TMX7316010203-001170_pano_0000_003552.jpg: 320x640 1 person, Done. (0.011s)\n",
            "image 242/548 /content/gdrive/MyDrive/DL_TUD/data/images/test/TMX7316010203-001170_pano_0000_003553.jpg: 320x640 1 person, Done. (0.010s)\n",
            "image 243/548 /content/gdrive/MyDrive/DL_TUD/data/images/test/TMX7316010203-001170_pano_0000_003828.jpg: 320x640 3 persons, 1 license, Done. (0.010s)\n",
            "image 244/548 /content/gdrive/MyDrive/DL_TUD/data/images/test/TMX7316010203-001173_pano_0000_000080.jpg: 320x640 Done. (0.009s)\n",
            "image 245/548 /content/gdrive/MyDrive/DL_TUD/data/images/test/TMX7316010203-001173_pano_0000_002158.jpg: 320x640 1 person, 2 licenses, Done. (0.010s)\n",
            "image 246/548 /content/gdrive/MyDrive/DL_TUD/data/images/test/TMX7316010203-001173_pano_0000_002211.jpg: 320x640 2 persons, 5 licenses, Done. (0.010s)\n",
            "image 247/548 /content/gdrive/MyDrive/DL_TUD/data/images/test/TMX7316010203-001173_pano_0000_002500.jpg: 320x640 1 person, 1 license, Done. (0.010s)\n",
            "image 248/548 /content/gdrive/MyDrive/DL_TUD/data/images/test/TMX7316010203-001173_pano_0000_002799.jpg: 320x640 1 person, 2 licenses, Done. (0.010s)\n",
            "image 249/548 /content/gdrive/MyDrive/DL_TUD/data/images/test/TMX7316010203-001173_pano_0000_003331.jpg: 320x640 1 person, 4 licenses, Done. (0.010s)\n",
            "image 250/548 /content/gdrive/MyDrive/DL_TUD/data/images/test/TMX7316010203-001173_pano_0000_003356.jpg: 320x640 1 person, 3 licenses, Done. (0.010s)\n",
            "image 251/548 /content/gdrive/MyDrive/DL_TUD/data/images/test/TMX7316010203-001173_pano_0000_005774.jpg: 320x640 1 person, 1 license, Done. (0.010s)\n",
            "image 252/548 /content/gdrive/MyDrive/DL_TUD/data/images/test/TMX7316010203-001173_pano_0002_000154.jpg: 320x640 1 person, 1 license, Done. (0.010s)\n",
            "image 253/548 /content/gdrive/MyDrive/DL_TUD/data/images/test/TMX7316010203-001173_pano_0002_000180.jpg: 320x640 3 persons, Done. (0.010s)\n",
            "image 254/548 /content/gdrive/MyDrive/DL_TUD/data/images/test/TMX7316010203-001173_pano_0002_000396.jpg: 320x640 2 persons, Done. (0.010s)\n",
            "image 255/548 /content/gdrive/MyDrive/DL_TUD/data/images/test/TMX7316010203-001173_pano_0002_000433.jpg: 320x640 2 persons, 2 licenses, Done. (0.010s)\n",
            "image 256/548 /content/gdrive/MyDrive/DL_TUD/data/images/test/TMX7316010203-001174_pano_0000_000173.jpg: 320x640 1 person, Done. (0.010s)\n",
            "image 257/548 /content/gdrive/MyDrive/DL_TUD/data/images/test/TMX7316010203-001174_pano_0000_000358.jpg: 320x640 1 person, Done. (0.010s)\n",
            "image 258/548 /content/gdrive/MyDrive/DL_TUD/data/images/test/TMX7316010203-001174_pano_0000_000417.jpg: 320x640 Done. (0.009s)\n",
            "image 259/548 /content/gdrive/MyDrive/DL_TUD/data/images/test/TMX7316010203-001174_pano_0000_000600.jpg: 320x640 1 person, Done. (0.010s)\n",
            "image 260/548 /content/gdrive/MyDrive/DL_TUD/data/images/test/TMX7316010203-001174_pano_0000_000774.jpg: 320x640 2 persons, Done. (0.010s)\n",
            "image 261/548 /content/gdrive/MyDrive/DL_TUD/data/images/test/TMX7316010203-001174_pano_0000_001085.jpg: 320x640 2 persons, Done. (0.010s)\n",
            "image 262/548 /content/gdrive/MyDrive/DL_TUD/data/images/test/TMX7316010203-001174_pano_0000_001119.jpg: 320x640 1 person, Done. (0.010s)\n",
            "image 263/548 /content/gdrive/MyDrive/DL_TUD/data/images/test/TMX7316010203-001174_pano_0000_001318.jpg: 320x640 1 person, Done. (0.010s)\n",
            "image 264/548 /content/gdrive/MyDrive/DL_TUD/data/images/test/TMX7316010203-001174_pano_0000_001682.jpg: 320x640 1 person, Done. (0.010s)\n",
            "image 265/548 /content/gdrive/MyDrive/DL_TUD/data/images/test/TMX7316010203-001176_pano_0000_000518.jpg: 320x640 5 persons, 1 license, Done. (0.010s)\n",
            "image 266/548 /content/gdrive/MyDrive/DL_TUD/data/images/test/TMX7316010203-001176_pano_0000_001218.jpg: 320x640 Done. (0.009s)\n",
            "image 267/548 /content/gdrive/MyDrive/DL_TUD/data/images/test/TMX7316010203-001177_pano_0000_000180.jpg: 320x640 4 persons, Done. (0.010s)\n",
            "image 268/548 /content/gdrive/MyDrive/DL_TUD/data/images/test/TMX7316010203-001178_pano_0000_000141.jpg: 320x640 1 person, 1 license, Done. (0.010s)\n",
            "image 269/548 /content/gdrive/MyDrive/DL_TUD/data/images/test/TMX7316010203-001178_pano_0000_000222.jpg: 320x640 7 persons, Done. (0.010s)\n",
            "image 270/548 /content/gdrive/MyDrive/DL_TUD/data/images/test/TMX7316010203-001178_pano_0000_001075.jpg: 320x640 2 persons, Done. (0.010s)\n",
            "image 271/548 /content/gdrive/MyDrive/DL_TUD/data/images/test/TMX7316010203-001178_pano_0000_001302.jpg: 320x640 1 person, 3 licenses, Done. (0.010s)\n",
            "image 272/548 /content/gdrive/MyDrive/DL_TUD/data/images/test/TMX7316010203-001178_pano_0000_001712.jpg: 320x640 3 licenses, Done. (0.010s)\n",
            "image 273/548 /content/gdrive/MyDrive/DL_TUD/data/images/test/TMX7316010203-001178_pano_0001_003394.jpg: 320x640 Done. (0.009s)\n",
            "image 274/548 /content/gdrive/MyDrive/DL_TUD/data/images/test/TMX7316010203-001178_pano_0001_005726.jpg: 320x640 Done. (0.009s)\n",
            "image 275/548 /content/gdrive/MyDrive/DL_TUD/data/images/test/TMX7316010203-001179_pano_0000_002130.jpg: 320x640 6 persons, Done. (0.011s)\n",
            "image 276/548 /content/gdrive/MyDrive/DL_TUD/data/images/test/TMX7316010203-001179_pano_0000_003762.jpg: 320x640 1 person, Done. (0.010s)\n",
            "image 277/548 /content/gdrive/MyDrive/DL_TUD/data/images/test/TMX7316010203-001179_pano_0000_004541.jpg: 320x640 1 license, Done. (0.010s)\n",
            "image 278/548 /content/gdrive/MyDrive/DL_TUD/data/images/test/TMX7316010203-001179_pano_0000_004582.jpg: 320x640 2 persons, Done. (0.010s)\n",
            "image 279/548 /content/gdrive/MyDrive/DL_TUD/data/images/test/TMX7316010203-001181_pano_0000_001266.jpg: 320x640 3 persons, 3 licenses, Done. (0.010s)\n",
            "image 280/548 /content/gdrive/MyDrive/DL_TUD/data/images/test/TMX7316010203-001181_pano_0000_002715.jpg: 320x640 2 licenses, Done. (0.015s)\n",
            "image 281/548 /content/gdrive/MyDrive/DL_TUD/data/images/test/TMX7316010203-001181_pano_0000_003629.jpg: 320x640 3 licenses, Done. (0.010s)\n",
            "image 282/548 /content/gdrive/MyDrive/DL_TUD/data/images/test/TMX7316010203-001181_pano_0000_004433.jpg: 320x640 5 persons, Done. (0.010s)\n",
            "image 283/548 /content/gdrive/MyDrive/DL_TUD/data/images/test/TMX7316010203-001181_pano_0000_005233.jpg: 320x640 Done. (0.009s)\n",
            "image 284/548 /content/gdrive/MyDrive/DL_TUD/data/images/test/TMX7316010203-001182_pano_0000_002375.jpg: 320x640 Done. (0.009s)\n",
            "image 285/548 /content/gdrive/MyDrive/DL_TUD/data/images/test/TMX7316010203-001184_pano_0000_002606.jpg: 320x640 1 person, Done. (0.010s)\n",
            "image 286/548 /content/gdrive/MyDrive/DL_TUD/data/images/test/TMX7316010203-001187_pano_0000_000365.jpg: 320x640 1 person, Done. (0.010s)\n",
            "image 287/548 /content/gdrive/MyDrive/DL_TUD/data/images/test/TMX7316010203-001187_pano_0000_001720.jpg: 320x640 3 persons, Done. (0.010s)\n",
            "image 288/548 /content/gdrive/MyDrive/DL_TUD/data/images/test/TMX7316010203-001187_pano_0000_002374.jpg: 320x640 2 licenses, Done. (0.017s)\n",
            "image 289/548 /content/gdrive/MyDrive/DL_TUD/data/images/test/TMX7316010203-001190_pano_0000_001391.jpg: 320x640 4 persons, 2 licenses, Done. (0.010s)\n",
            "image 290/548 /content/gdrive/MyDrive/DL_TUD/data/images/test/TMX7316010203-001191_pano_0000_001672.jpg: 320x640 2 persons, Done. (0.010s)\n",
            "image 291/548 /content/gdrive/MyDrive/DL_TUD/data/images/test/TMX7316010203-001191_pano_0000_004223.jpg: 320x640 1 person, Done. (0.010s)\n",
            "image 292/548 /content/gdrive/MyDrive/DL_TUD/data/images/test/TMX7316010203-001192_pano_0002_000150.jpg: 320x640 1 person, Done. (0.010s)\n",
            "image 293/548 /content/gdrive/MyDrive/DL_TUD/data/images/test/TMX7316010203-001192_pano_0002_000735.jpg: 320x640 Done. (0.009s)\n",
            "image 294/548 /content/gdrive/MyDrive/DL_TUD/data/images/test/TMX7316010203-001194_pano_0000_000505.jpg: 320x640 1 person, Done. (0.010s)\n",
            "image 295/548 /content/gdrive/MyDrive/DL_TUD/data/images/test/TMX7316010203-001194_pano_0000_002272.jpg: 320x640 3 persons, 1 license, Done. (0.010s)\n",
            "image 296/548 /content/gdrive/MyDrive/DL_TUD/data/images/test/TMX7316010203-001194_pano_0000_002666.jpg: 320x640 Done. (0.009s)\n",
            "image 297/548 /content/gdrive/MyDrive/DL_TUD/data/images/test/TMX7316010203-001195_pano_0000_000228.jpg: 320x640 1 license, Done. (0.010s)\n",
            "image 298/548 /content/gdrive/MyDrive/DL_TUD/data/images/test/TMX7316010203-001197_pano_0000_002193.jpg: 320x640 1 person, Done. (0.010s)\n",
            "image 299/548 /content/gdrive/MyDrive/DL_TUD/data/images/test/TMX7316010203-001197_pano_0000_003397.jpg: 320x640 1 license, Done. (0.010s)\n",
            "image 300/548 /content/gdrive/MyDrive/DL_TUD/data/images/test/TMX7316010203-001203_pano_0000_003484.jpg: 320x640 Done. (0.009s)\n",
            "image 301/548 /content/gdrive/MyDrive/DL_TUD/data/images/test/TMX7316010203-001207_pano_0000_002176.jpg: 320x640 3 licenses, Done. (0.010s)\n",
            "image 302/548 /content/gdrive/MyDrive/DL_TUD/data/images/test/TMX7316010203-001228_pano_0001_003038.jpg: 320x640 Done. (0.009s)\n",
            "image 303/548 /content/gdrive/MyDrive/DL_TUD/data/images/test/TMX7316010203-001259_pano_0000_001238.jpg: 320x640 Done. (0.009s)\n",
            "image 304/548 /content/gdrive/MyDrive/DL_TUD/data/images/test/TMX7316010203-001262_pano_0002_001292.jpg: 320x640 Done. (0.010s)\n",
            "image 305/548 /content/gdrive/MyDrive/DL_TUD/data/images/test/TMX7316010203-001270_pano_0001_000778.jpg: 320x640 Done. (0.009s)\n",
            "image 306/548 /content/gdrive/MyDrive/DL_TUD/data/images/test/TMX7316010203-001270_pano_0002_000216.jpg: 320x640 Done. (0.009s)\n",
            "image 307/548 /content/gdrive/MyDrive/DL_TUD/data/images/test/TMX7316010203-001271_pano_0000_001318.jpg: 320x640 1 person, 2 licenses, Done. (0.011s)\n",
            "image 308/548 /content/gdrive/MyDrive/DL_TUD/data/images/test/TMX7316010203-001292_pano_0000_000479.jpg: 320x640 1 person, Done. (0.010s)\n",
            "image 309/548 /content/gdrive/MyDrive/DL_TUD/data/images/test/TMX7316010203-001292_pano_0000_002130.jpg: 320x640 1 person, Done. (0.016s)\n",
            "image 310/548 /content/gdrive/MyDrive/DL_TUD/data/images/test/TMX7316010203-001292_pano_0000_002642.jpg: 320x640 1 license, Done. (0.010s)\n",
            "image 311/548 /content/gdrive/MyDrive/DL_TUD/data/images/test/TMX7316010203-001298_pano_0000_000121.jpg: 320x640 4 licenses, Done. (0.010s)\n",
            "image 312/548 /content/gdrive/MyDrive/DL_TUD/data/images/test/TMX7316010203-001300_pano_0000_007613.jpg: 320x640 1 license, Done. (0.010s)\n",
            "image 313/548 /content/gdrive/MyDrive/DL_TUD/data/images/test/TMX7316010203-001301_pano_0000_002252.jpg: 320x640 1 person, Done. (0.010s)\n",
            "image 314/548 /content/gdrive/MyDrive/DL_TUD/data/images/test/TMX7316010203-001302_pano_0001_000963.jpg: 320x640 1 person, Done. (0.010s)\n",
            "image 315/548 /content/gdrive/MyDrive/DL_TUD/data/images/test/TMX7316010203-001305_pano_0000_002144.jpg: 320x640 1 person, Done. (0.010s)\n",
            "image 316/548 /content/gdrive/MyDrive/DL_TUD/data/images/test/TMX7316010203-001307_pano_0000_003421.jpg: 320x640 Done. (0.009s)\n",
            "image 317/548 /content/gdrive/MyDrive/DL_TUD/data/images/test/TMX7316010203-001308_pano_0000_003829.jpg: 320x640 2 licenses, Done. (0.010s)\n",
            "image 318/548 /content/gdrive/MyDrive/DL_TUD/data/images/test/TMX7316010203-001308_pano_0000_004375.jpg: 320x640 Done. (0.010s)\n",
            "image 319/548 /content/gdrive/MyDrive/DL_TUD/data/images/test/TMX7316010203-001310_pano_0000_004370.jpg: 320x640 3 licenses, Done. (0.010s)\n",
            "image 320/548 /content/gdrive/MyDrive/DL_TUD/data/images/test/TMX7316010203-001315_pano_0002_004688.jpg: 320x640 1 person, Done. (0.010s)\n",
            "image 321/548 /content/gdrive/MyDrive/DL_TUD/data/images/test/TMX7316010203-001317_pano_0000_002232.jpg: 320x640 Done. (0.009s)\n",
            "image 322/548 /content/gdrive/MyDrive/DL_TUD/data/images/test/TMX7316010203-001317_pano_0000_005945.jpg: 320x640 Done. (0.009s)\n",
            "image 323/548 /content/gdrive/MyDrive/DL_TUD/data/images/test/TMX7316010203-001319_pano_0001_000211.jpg: 320x640 7 licenses, Done. (0.010s)\n",
            "image 324/548 /content/gdrive/MyDrive/DL_TUD/data/images/test/TMX7316010203-001319_pano_0001_002459.jpg: 320x640 1 person, Done. (0.010s)\n",
            "image 325/548 /content/gdrive/MyDrive/DL_TUD/data/images/test/TMX7316010203-001319_pano_0001_003904.jpg: 320x640 1 license, Done. (0.010s)\n",
            "image 326/548 /content/gdrive/MyDrive/DL_TUD/data/images/test/TMX7316010203-001319_pano_0002_000492.jpg: 320x640 Done. (0.009s)\n",
            "image 327/548 /content/gdrive/MyDrive/DL_TUD/data/images/test/TMX7316010203-001324_pano_0000_000287.jpg: 320x640 3 persons, 1 license, Done. (0.010s)\n",
            "image 328/548 /content/gdrive/MyDrive/DL_TUD/data/images/test/TMX7316010203-001324_pano_0000_000858.jpg: 320x640 1 person, Done. (0.023s)\n",
            "image 329/548 /content/gdrive/MyDrive/DL_TUD/data/images/test/TMX7316010203-001324_pano_0000_000863.jpg: 320x640 1 license, Done. (0.010s)\n",
            "image 330/548 /content/gdrive/MyDrive/DL_TUD/data/images/test/TMX7316010203-001325_pano_0000_001088.jpg: 320x640 1 person, Done. (0.010s)\n",
            "image 331/548 /content/gdrive/MyDrive/DL_TUD/data/images/test/TMX7316010203-001326_pano_0000_000348.jpg: 320x640 1 license, Done. (0.010s)\n",
            "image 332/548 /content/gdrive/MyDrive/DL_TUD/data/images/test/TMX7316010203-001326_pano_0000_005999.jpg: 320x640 1 person, Done. (0.010s)\n",
            "image 333/548 /content/gdrive/MyDrive/DL_TUD/data/images/test/TMX7316010203-001474_pano_0000_002540.jpg: 320x640 Done. (0.009s)\n",
            "image 334/548 /content/gdrive/MyDrive/DL_TUD/data/images/test/TMX7316010203-001479_pano_0002_000692.jpg: 320x640 3 persons, Done. (0.010s)\n",
            "image 335/548 /content/gdrive/MyDrive/DL_TUD/data/images/test/TMX7316010203-001486_pano_0000_000416.jpg: 320x640 1 person, 1 license, Done. (0.010s)\n",
            "image 336/548 /content/gdrive/MyDrive/DL_TUD/data/images/test/TMX7316010203-001499_pano_0000_000680.jpg: 320x640 1 person, 2 licenses, Done. (0.010s)\n",
            "image 337/548 /content/gdrive/MyDrive/DL_TUD/data/images/test/TMX7316010203-001502_pano_0001_004368.jpg: 320x640 1 person, 2 licenses, Done. (0.010s)\n",
            "image 338/548 /content/gdrive/MyDrive/DL_TUD/data/images/test/TMX7316010203-001504_pano_0000_000032.jpg: 320x640 1 person, 2 licenses, Done. (0.010s)\n",
            "image 339/548 /content/gdrive/MyDrive/DL_TUD/data/images/test/TMX7316010203-001508_pano_0002_000148.jpg: 320x640 1 person, 1 license, Done. (0.010s)\n",
            "image 340/548 /content/gdrive/MyDrive/DL_TUD/data/images/test/TMX7316010203-001508_pano_0003_000192.jpg: 320x640 6 licenses, Done. (0.010s)\n",
            "image 341/548 /content/gdrive/MyDrive/DL_TUD/data/images/test/TMX7316010203-001510_pano_0000_001083.jpg: 320x640 1 person, 1 license, Done. (0.010s)\n",
            "image 342/548 /content/gdrive/MyDrive/DL_TUD/data/images/test/TMX7316010203-001517_pano_0001_001044.jpg: 320x640 2 persons, Done. (0.010s)\n",
            "image 343/548 /content/gdrive/MyDrive/DL_TUD/data/images/test/TMX7316010203-001517_pano_0001_001537.jpg: 320x640 5 licenses, Done. (0.010s)\n",
            "image 344/548 /content/gdrive/MyDrive/DL_TUD/data/images/test/TMX7316010203-001594_pano_0002_000199.jpg: 320x640 2 persons, Done. (0.011s)\n",
            "image 345/548 /content/gdrive/MyDrive/DL_TUD/data/images/test/TMX7316010203-001600_pano_0000_000040.jpg: 320x640 3 licenses, Done. (0.010s)\n",
            "image 346/548 /content/gdrive/MyDrive/DL_TUD/data/images/test/TMX7316010203-001601_pano_0001_000110.jpg: 320x640 3 persons, 1 license, Done. (0.010s)\n",
            "image 347/548 /content/gdrive/MyDrive/DL_TUD/data/images/test/TMX7316010203-001601_pano_0004_000102.jpg: 320x640 3 persons, Done. (0.010s)\n",
            "image 348/548 /content/gdrive/MyDrive/DL_TUD/data/images/test/TMX7316010203-001601_pano_0004_000301.jpg: 320x640 5 persons, Done. (0.010s)\n",
            "image 349/548 /content/gdrive/MyDrive/DL_TUD/data/images/test/TMX7316010203-001601_pano_0004_000316.jpg: 320x640 7 persons, Done. (0.010s)\n",
            "image 350/548 /content/gdrive/MyDrive/DL_TUD/data/images/test/TMX7316010203-001601_pano_0005_000026.jpg: 320x640 1 license, Done. (0.010s)\n",
            "image 351/548 /content/gdrive/MyDrive/DL_TUD/data/images/test/TMX7316010203-001601_pano_0005_000184.jpg: 320x640 1 person, 4 licenses, Done. (0.010s)\n",
            "image 352/548 /content/gdrive/MyDrive/DL_TUD/data/images/test/TMX7316010203-001601_pano_0005_000193.jpg: 320x640 3 persons, 4 licenses, Done. (0.010s)\n",
            "image 353/548 /content/gdrive/MyDrive/DL_TUD/data/images/test/TMX7316010203-001624_pano_0005_000081.jpg: 320x640 2 persons, Done. (0.011s)\n",
            "image 354/548 /content/gdrive/MyDrive/DL_TUD/data/images/test/TMX7316010203-001624_pano_0006_000148.jpg: 320x640 4 persons, Done. (0.010s)\n",
            "image 355/548 /content/gdrive/MyDrive/DL_TUD/data/images/test/TMX7316010203-001624_pano_0006_000162.jpg: 320x640 1 person, 2 licenses, Done. (0.010s)\n",
            "image 356/548 /content/gdrive/MyDrive/DL_TUD/data/images/test/TMX7316010203-001624_pano_0006_000214.jpg: 320x640 2 persons, 4 licenses, Done. (0.010s)\n",
            "image 357/548 /content/gdrive/MyDrive/DL_TUD/data/images/test/TMX7316010203-001624_pano_0006_000832.jpg: 320x640 1 person, 1 license, Done. (0.010s)\n",
            "image 358/548 /content/gdrive/MyDrive/DL_TUD/data/images/test/TMX7316010203-001624_pano_0006_001718.jpg: 320x640 3 persons, 1 license, Done. (0.018s)\n",
            "image 359/548 /content/gdrive/MyDrive/DL_TUD/data/images/test/TMX7316010203-001632_pano_0002_000021.jpg: 320x640 1 person, 2 licenses, Done. (0.010s)\n",
            "image 360/548 /content/gdrive/MyDrive/DL_TUD/data/images/test/TMX7316010203-001641_pano_0004_000000.jpg: 320x640 1 person, Done. (0.013s)\n",
            "image 361/548 /content/gdrive/MyDrive/DL_TUD/data/images/test/TMX7316010203-001647_pano_0003_000451.jpg: 320x640 2 persons, 1 license, Done. (0.010s)\n",
            "image 362/548 /content/gdrive/MyDrive/DL_TUD/data/images/test/TMX7316010203-001691_pano_0001_004289.jpg: 320x640 1 person, Done. (0.010s)\n",
            "image 363/548 /content/gdrive/MyDrive/DL_TUD/data/images/test/TMX7316010203-001691_pano_0001_004476.jpg: 320x640 1 person, Done. (0.010s)\n",
            "image 364/548 /content/gdrive/MyDrive/DL_TUD/data/images/test/TMX7316010203-001691_pano_0001_008024.jpg: 320x640 Done. (0.009s)\n",
            "image 365/548 /content/gdrive/MyDrive/DL_TUD/data/images/test/TMX7316010203-001691_pano_0001_008057.jpg: 320x640 1 person, 1 license, Done. (0.010s)\n",
            "image 366/548 /content/gdrive/MyDrive/DL_TUD/data/images/test/TMX7316010203-001691_pano_0001_008099.jpg: 320x640 2 persons, 1 license, Done. (0.011s)\n",
            "image 367/548 /content/gdrive/MyDrive/DL_TUD/data/images/test/TMX7316010203-001798_pano_0000_000120.jpg: 320x640 1 person, Done. (0.010s)\n",
            "image 368/548 /content/gdrive/MyDrive/DL_TUD/data/images/test/TMX7316010203-001798_pano_0000_000135.jpg: 320x640 Done. (0.009s)\n",
            "image 369/548 /content/gdrive/MyDrive/DL_TUD/data/images/test/TMX7316010203-001798_pano_0000_000816.jpg: 320x640 Done. (0.009s)\n",
            "image 370/548 /content/gdrive/MyDrive/DL_TUD/data/images/test/TMX7316010203-001798_pano_0000_002555.jpg: 320x640 Done. (0.009s)\n",
            "image 371/548 /content/gdrive/MyDrive/DL_TUD/data/images/test/TMX7316010203-001798_pano_0000_002706.jpg: 320x640 Done. (0.009s)\n",
            "image 372/548 /content/gdrive/MyDrive/DL_TUD/data/images/test/TMX7316010203-001798_pano_0000_003695.jpg: 320x640 Done. (0.009s)\n",
            "image 373/548 /content/gdrive/MyDrive/DL_TUD/data/images/test/TMX7316010203-001798_pano_0001_000912.jpg: 320x640 Done. (0.009s)\n",
            "image 374/548 /content/gdrive/MyDrive/DL_TUD/data/images/test/TMX7316010203-001798_pano_0001_000958.jpg: 320x640 1 person, Done. (0.010s)\n",
            "image 375/548 /content/gdrive/MyDrive/DL_TUD/data/images/test/TMX7316010203-001798_pano_0001_001415.jpg: 320x640 1 person, Done. (0.016s)\n",
            "image 376/548 /content/gdrive/MyDrive/DL_TUD/data/images/test/TMX7316010203-001873_pano_0000_004378.jpg: 320x640 Done. (0.009s)\n",
            "image 377/548 /content/gdrive/MyDrive/DL_TUD/data/images/test/TMX7316010203-001873_pano_0000_005113.jpg: 320x640 Done. (0.009s)\n",
            "image 378/548 /content/gdrive/MyDrive/DL_TUD/data/images/test/TMX7316010203-001873_pano_0000_008611.jpg: 320x640 1 person, Done. (0.010s)\n",
            "image 379/548 /content/gdrive/MyDrive/DL_TUD/data/images/test/TMX7316010203-001873_pano_0000_008850.jpg: 320x640 2 persons, Done. (0.010s)\n",
            "image 380/548 /content/gdrive/MyDrive/DL_TUD/data/images/test/TMX7316010203-001874_pano_0000_002570.jpg: 320x640 Done. (0.009s)\n",
            "image 381/548 /content/gdrive/MyDrive/DL_TUD/data/images/test/TMX7316010203-001874_pano_0000_002644.jpg: 320x640 Done. (0.009s)\n",
            "image 382/548 /content/gdrive/MyDrive/DL_TUD/data/images/test/TMX7316010203-001886_pano_0000_001663.jpg: 320x640 1 license, Done. (0.010s)\n",
            "image 383/548 /content/gdrive/MyDrive/DL_TUD/data/images/test/TMX7316010203-001886_pano_0000_001773.jpg: 320x640 1 license, Done. (0.010s)\n",
            "image 384/548 /content/gdrive/MyDrive/DL_TUD/data/images/test/TMX7316010203-001886_pano_0000_001825.jpg: 320x640 6 licenses, Done. (0.010s)\n",
            "image 385/548 /content/gdrive/MyDrive/DL_TUD/data/images/test/TMX7316010203-001886_pano_0000_001865.jpg: 320x640 2 licenses, Done. (0.010s)\n",
            "image 386/548 /content/gdrive/MyDrive/DL_TUD/data/images/test/TMX7316010203-001886_pano_0000_002170.jpg: 320x640 3 licenses, Done. (0.010s)\n",
            "image 387/548 /content/gdrive/MyDrive/DL_TUD/data/images/test/TMX7316010203-001886_pano_0000_002205.jpg: 320x640 1 person, 1 license, Done. (0.010s)\n",
            "image 388/548 /content/gdrive/MyDrive/DL_TUD/data/images/test/TMX7316010203-001886_pano_0000_002321.jpg: 320x640 1 license, Done. (0.010s)\n",
            "image 389/548 /content/gdrive/MyDrive/DL_TUD/data/images/test/TMX7316010203-001886_pano_0000_002493.jpg: 320x640 1 license, Done. (0.010s)\n",
            "image 390/548 /content/gdrive/MyDrive/DL_TUD/data/images/test/TMX7316010203-001886_pano_0000_002885.jpg: 320x640 2 licenses, Done. (0.010s)\n",
            "image 391/548 /content/gdrive/MyDrive/DL_TUD/data/images/test/TMX7316010203-001886_pano_0000_003145.jpg: 320x640 2 licenses, Done. (0.010s)\n",
            "image 392/548 /content/gdrive/MyDrive/DL_TUD/data/images/test/TMX7316010203-001886_pano_0000_003496.jpg: 320x640 2 licenses, Done. (0.013s)\n",
            "image 393/548 /content/gdrive/MyDrive/DL_TUD/data/images/test/TMX7316010203-001886_pano_0000_003875.jpg: 320x640 1 person, Done. (0.010s)\n",
            "image 394/548 /content/gdrive/MyDrive/DL_TUD/data/images/test/TMX7316010203-001886_pano_0000_003879.jpg: 320x640 1 person, Done. (0.010s)\n",
            "image 395/548 /content/gdrive/MyDrive/DL_TUD/data/images/test/TMX7316010203-001886_pano_0000_003881.jpg: 320x640 1 person, 1 license, Done. (0.010s)\n",
            "image 396/548 /content/gdrive/MyDrive/DL_TUD/data/images/test/TMX7316010203-001886_pano_0000_004102.jpg: 320x640 Done. (0.009s)\n",
            "image 397/548 /content/gdrive/MyDrive/DL_TUD/data/images/test/TMX7316010203-001887_pano_0000_000105.jpg: 320x640 1 person, Done. (0.010s)\n",
            "image 398/548 /content/gdrive/MyDrive/DL_TUD/data/images/test/TMX7316010203-001887_pano_0000_000222.jpg: 320x640 Done. (0.009s)\n",
            "image 399/548 /content/gdrive/MyDrive/DL_TUD/data/images/test/TMX7316010203-001887_pano_0000_000473.jpg: 320x640 1 license, Done. (0.010s)\n",
            "image 400/548 /content/gdrive/MyDrive/DL_TUD/data/images/test/TMX7316010203-001887_pano_0000_000475.jpg: 320x640 1 person, Done. (0.010s)\n",
            "image 401/548 /content/gdrive/MyDrive/DL_TUD/data/images/test/TMX7316010203-001887_pano_0000_000485.jpg: 320x640 1 license, Done. (0.010s)\n",
            "image 402/548 /content/gdrive/MyDrive/DL_TUD/data/images/test/TMX7316010203-001887_pano_0000_001373.jpg: 320x640 1 person, Done. (0.010s)\n",
            "image 403/548 /content/gdrive/MyDrive/DL_TUD/data/images/test/TMX7316010203-001887_pano_0000_001527.jpg: 320x640 1 person, 1 license, Done. (0.010s)\n",
            "image 404/548 /content/gdrive/MyDrive/DL_TUD/data/images/test/TMX7316010203-001887_pano_0000_001535.jpg: 320x640 Done. (0.010s)\n",
            "image 405/548 /content/gdrive/MyDrive/DL_TUD/data/images/test/TMX7316010203-001887_pano_0000_001933.jpg: 320x640 1 person, 3 licenses, Done. (0.010s)\n",
            "image 406/548 /content/gdrive/MyDrive/DL_TUD/data/images/test/TMX7316010203-001887_pano_0000_001975.jpg: 320x640 Done. (0.009s)\n",
            "image 407/548 /content/gdrive/MyDrive/DL_TUD/data/images/test/TMX7316010203-001887_pano_0000_002040.jpg: 320x640 Done. (0.010s)\n",
            "image 408/548 /content/gdrive/MyDrive/DL_TUD/data/images/test/TMX7316010203-001887_pano_0000_002421.jpg: 320x640 Done. (0.009s)\n",
            "image 409/548 /content/gdrive/MyDrive/DL_TUD/data/images/test/TMX7316010203-001887_pano_0000_003577.jpg: 320x640 3 licenses, Done. (0.010s)\n",
            "image 410/548 /content/gdrive/MyDrive/DL_TUD/data/images/test/TMX7316010203-001887_pano_0000_003831.jpg: 320x640 4 licenses, Done. (0.010s)\n",
            "image 411/548 /content/gdrive/MyDrive/DL_TUD/data/images/test/TMX7316010203-001887_pano_0000_003932.jpg: 320x640 3 persons, Done. (0.010s)\n",
            "image 412/548 /content/gdrive/MyDrive/DL_TUD/data/images/test/TMX7316010203-001887_pano_0000_003970.jpg: 320x640 Done. (0.010s)\n",
            "image 413/548 /content/gdrive/MyDrive/DL_TUD/data/images/test/TMX7316010203-001887_pano_0000_004640.jpg: 320x640 4 licenses, Done. (0.010s)\n",
            "image 414/548 /content/gdrive/MyDrive/DL_TUD/data/images/test/TMX7316010203-001887_pano_0000_004995.jpg: 320x640 1 person, 4 licenses, Done. (0.010s)\n",
            "image 415/548 /content/gdrive/MyDrive/DL_TUD/data/images/test/TMX7316010203-001887_pano_0000_005070.jpg: 320x640 2 licenses, Done. (0.010s)\n",
            "image 416/548 /content/gdrive/MyDrive/DL_TUD/data/images/test/TMX7316010203-001887_pano_0000_005095.jpg: 320x640 1 person, 3 licenses, Done. (0.010s)\n",
            "image 417/548 /content/gdrive/MyDrive/DL_TUD/data/images/test/TMX7316010203-001887_pano_0000_005515.jpg: 320x640 3 licenses, Done. (0.010s)\n",
            "image 418/548 /content/gdrive/MyDrive/DL_TUD/data/images/test/TMX7316010203-001887_pano_0000_005625.jpg: 320x640 3 licenses, Done. (0.010s)\n",
            "image 419/548 /content/gdrive/MyDrive/DL_TUD/data/images/test/TMX7316010203-001887_pano_0000_005915.jpg: 320x640 2 licenses, Done. (0.010s)\n",
            "image 420/548 /content/gdrive/MyDrive/DL_TUD/data/images/test/TMX7316010203-001887_pano_0000_005926.jpg: 320x640 3 licenses, Done. (0.010s)\n",
            "image 421/548 /content/gdrive/MyDrive/DL_TUD/data/images/test/TMX7316010203-001888_pano_0000_000263.jpg: 320x640 1 license, Done. (0.010s)\n",
            "image 422/548 /content/gdrive/MyDrive/DL_TUD/data/images/test/TMX7316010203-001888_pano_0000_000266.jpg: 320x640 3 licenses, Done. (0.010s)\n",
            "image 423/548 /content/gdrive/MyDrive/DL_TUD/data/images/test/TMX7316010203-001888_pano_0000_000725.jpg: 320x640 1 person, Done. (0.010s)\n",
            "image 424/548 /content/gdrive/MyDrive/DL_TUD/data/images/test/TMX7316010203-001888_pano_0002_000108.jpg: 320x640 1 person, 3 licenses, Done. (0.010s)\n",
            "image 425/548 /content/gdrive/MyDrive/DL_TUD/data/images/test/TMX7316010203-001888_pano_0002_001068.jpg: 320x640 2 licenses, Done. (0.010s)\n",
            "image 426/548 /content/gdrive/MyDrive/DL_TUD/data/images/test/TMX7316010203-001888_pano_0002_001070.jpg: 320x640 1 license, Done. (0.012s)\n",
            "image 427/548 /content/gdrive/MyDrive/DL_TUD/data/images/test/TMX7316010203-001888_pano_0002_001193.jpg: 320x640 Done. (0.009s)\n",
            "image 428/548 /content/gdrive/MyDrive/DL_TUD/data/images/test/TMX7316010203-001888_pano_0002_001258.jpg: 320x640 1 person, Done. (0.010s)\n",
            "image 429/548 /content/gdrive/MyDrive/DL_TUD/data/images/test/TMX7316010203-001888_pano_0002_002148.jpg: 320x640 4 licenses, Done. (0.010s)\n",
            "image 430/548 /content/gdrive/MyDrive/DL_TUD/data/images/test/TMX7316010203-001888_pano_0002_002434.jpg: 320x640 5 licenses, Done. (0.010s)\n",
            "image 431/548 /content/gdrive/MyDrive/DL_TUD/data/images/test/TMX7316010203-001888_pano_0002_002435.jpg: 320x640 3 licenses, Done. (0.010s)\n",
            "image 432/548 /content/gdrive/MyDrive/DL_TUD/data/images/test/TMX7316010203-001888_pano_0002_002655.jpg: 320x640 Done. (0.009s)\n",
            "image 433/548 /content/gdrive/MyDrive/DL_TUD/data/images/test/TMX7316010203-001889_pano_0000_000085.jpg: 320x640 1 person, Done. (0.010s)\n",
            "image 434/548 /content/gdrive/MyDrive/DL_TUD/data/images/test/TMX7316010203-001889_pano_0000_000915.jpg: 320x640 3 licenses, Done. (0.010s)\n",
            "image 435/548 /content/gdrive/MyDrive/DL_TUD/data/images/test/TMX7316010203-001889_pano_0000_001320.jpg: 320x640 Done. (0.009s)\n",
            "image 436/548 /content/gdrive/MyDrive/DL_TUD/data/images/test/TMX7316010203-001889_pano_0000_002262.jpg: 320x640 1 person, 1 license, Done. (0.010s)\n",
            "image 437/548 /content/gdrive/MyDrive/DL_TUD/data/images/test/TMX7316010203-001889_pano_0000_002830.jpg: 320x640 1 license, Done. (0.010s)\n",
            "image 438/548 /content/gdrive/MyDrive/DL_TUD/data/images/test/TMX7316010203-001889_pano_0000_003135.jpg: 320x640 1 person, Done. (0.010s)\n",
            "image 439/548 /content/gdrive/MyDrive/DL_TUD/data/images/test/TMX7316010203-001889_pano_0000_003410.jpg: 320x640 1 person, Done. (0.027s)\n",
            "image 440/548 /content/gdrive/MyDrive/DL_TUD/data/images/test/TMX7316010203-001890_pano_0000_000428.jpg: 320x640 Done. (0.010s)\n",
            "image 441/548 /content/gdrive/MyDrive/DL_TUD/data/images/test/TMX7316010203-001890_pano_0000_001094.jpg: 320x640 2 licenses, Done. (0.010s)\n",
            "image 442/548 /content/gdrive/MyDrive/DL_TUD/data/images/test/TMX7316010203-001890_pano_0000_001530.jpg: 320x640 1 person, 2 licenses, Done. (0.010s)\n",
            "image 443/548 /content/gdrive/MyDrive/DL_TUD/data/images/test/TMX7316010203-001890_pano_0000_001955.jpg: 320x640 1 person, Done. (0.010s)\n",
            "image 444/548 /content/gdrive/MyDrive/DL_TUD/data/images/test/TMX7316010203-001890_pano_0000_002020.jpg: 320x640 1 person, Done. (0.010s)\n",
            "image 445/548 /content/gdrive/MyDrive/DL_TUD/data/images/test/TMX7316010203-001890_pano_0000_003192.jpg: 320x640 2 licenses, Done. (0.010s)\n",
            "image 446/548 /content/gdrive/MyDrive/DL_TUD/data/images/test/TMX7316010203-001890_pano_0000_003622.jpg: 320x640 1 license, Done. (0.011s)\n",
            "image 447/548 /content/gdrive/MyDrive/DL_TUD/data/images/test/TMX7316010203-001890_pano_0000_003673.jpg: 320x640 1 person, 1 license, Done. (0.010s)\n",
            "image 448/548 /content/gdrive/MyDrive/DL_TUD/data/images/test/TMX7316010203-001905_pano_0005_000522.jpg: 320x640 1 person, Done. (0.010s)\n",
            "image 449/548 /content/gdrive/MyDrive/DL_TUD/data/images/test/TMX7316010203-001905_pano_0005_000540.jpg: 320x640 2 persons, Done. (0.010s)\n",
            "image 450/548 /content/gdrive/MyDrive/DL_TUD/data/images/test/TMX7316010203-001905_pano_0005_000567.jpg: 320x640 Done. (0.010s)\n",
            "image 451/548 /content/gdrive/MyDrive/DL_TUD/data/images/test/TMX7316010203-001905_pano_0005_000580.jpg: 320x640 1 person, Done. (0.010s)\n",
            "image 452/548 /content/gdrive/MyDrive/DL_TUD/data/images/test/TMX7316010203-001905_pano_0005_000677.jpg: 320x640 1 person, 1 license, Done. (0.010s)\n",
            "image 453/548 /content/gdrive/MyDrive/DL_TUD/data/images/test/TMX7316010203-001905_pano_0005_001035.jpg: 320x640 1 person, 8 licenses, Done. (0.010s)\n",
            "image 454/548 /content/gdrive/MyDrive/DL_TUD/data/images/test/TMX7316010203-001905_pano_0005_001057.jpg: 320x640 Done. (0.009s)\n",
            "image 455/548 /content/gdrive/MyDrive/DL_TUD/data/images/test/TMX7316010203-001905_pano_0006_000206.jpg: 320x640 Done. (0.009s)\n",
            "image 456/548 /content/gdrive/MyDrive/DL_TUD/data/images/test/TMX7316010203-001905_pano_0006_000354.jpg: 320x640 1 person, Done. (0.010s)\n",
            "image 457/548 /content/gdrive/MyDrive/DL_TUD/data/images/test/TMX7316010203-001905_pano_0006_000395.jpg: 320x640 2 licenses, Done. (0.010s)\n",
            "image 458/548 /content/gdrive/MyDrive/DL_TUD/data/images/test/TMX7316010203-001951_pano_0000_000140.jpg: 320x640 Done. (0.009s)\n",
            "image 459/548 /content/gdrive/MyDrive/DL_TUD/data/images/test/TMX7316010203-001951_pano_0000_000220.jpg: 320x640 1 person, Done. (0.010s)\n",
            "image 460/548 /content/gdrive/MyDrive/DL_TUD/data/images/test/TMX7316010203-001951_pano_0000_000295.jpg: 320x640 Done. (0.009s)\n",
            "image 461/548 /content/gdrive/MyDrive/DL_TUD/data/images/test/TMX7316010203-001951_pano_0000_000305.jpg: 320x640 Done. (0.009s)\n",
            "image 462/548 /content/gdrive/MyDrive/DL_TUD/data/images/test/TMX7316010203-001951_pano_0000_000315.jpg: 320x640 Done. (0.009s)\n",
            "image 463/548 /content/gdrive/MyDrive/DL_TUD/data/images/test/TMX7316010203-001951_pano_0000_000320.jpg: 320x640 1 person, Done. (0.010s)\n",
            "image 464/548 /content/gdrive/MyDrive/DL_TUD/data/images/test/TMX7316010203-001951_pano_0000_000325.jpg: 320x640 1 person, Done. (0.010s)\n",
            "image 465/548 /content/gdrive/MyDrive/DL_TUD/data/images/test/TMX7316010203-001951_pano_0000_000345.jpg: 320x640 1 person, Done. (0.011s)\n",
            "image 466/548 /content/gdrive/MyDrive/DL_TUD/data/images/test/TMX7316010203-001951_pano_0000_000375.jpg: 320x640 Done. (0.010s)\n",
            "image 467/548 /content/gdrive/MyDrive/DL_TUD/data/images/test/TMX7316010203-001951_pano_0000_000405.jpg: 320x640 Done. (0.009s)\n",
            "image 468/548 /content/gdrive/MyDrive/DL_TUD/data/images/test/TMX7316010203-001951_pano_0000_000465.jpg: 320x640 Done. (0.009s)\n",
            "image 469/548 /content/gdrive/MyDrive/DL_TUD/data/images/test/TMX7316010203-001952_pano_0000_000000.jpg: 320x640 1 person, Done. (0.010s)\n",
            "image 470/548 /content/gdrive/MyDrive/DL_TUD/data/images/test/TMX7316010203-001952_pano_0000_000010.jpg: 320x640 Done. (0.009s)\n",
            "image 471/548 /content/gdrive/MyDrive/DL_TUD/data/images/test/TMX7316010203-001952_pano_0000_000080.jpg: 320x640 Done. (0.009s)\n",
            "image 472/548 /content/gdrive/MyDrive/DL_TUD/data/images/test/TMX7316010203-001952_pano_0000_000120.jpg: 320x640 Done. (0.009s)\n",
            "image 473/548 /content/gdrive/MyDrive/DL_TUD/data/images/test/TMX7316010203-001952_pano_0000_000155.jpg: 320x640 Done. (0.009s)\n",
            "image 474/548 /content/gdrive/MyDrive/DL_TUD/data/images/test/TMX7316010203-001953_pano_0000_000060.jpg: 320x640 2 persons, Done. (0.018s)\n",
            "image 475/548 /content/gdrive/MyDrive/DL_TUD/data/images/test/TMX7316010203-001953_pano_0000_000315.jpg: 320x640 Done. (0.009s)\n",
            "image 476/548 /content/gdrive/MyDrive/DL_TUD/data/images/test/TMX7316010203-001953_pano_0000_000420.jpg: 320x640 1 person, Done. (0.010s)\n",
            "image 477/548 /content/gdrive/MyDrive/DL_TUD/data/images/test/TMX7316010203-001953_pano_0000_000465.jpg: 320x640 Done. (0.009s)\n",
            "image 478/548 /content/gdrive/MyDrive/DL_TUD/data/images/test/TMX7316010203-001960_pano_0000_000030.jpg: 320x640 Done. (0.010s)\n",
            "image 479/548 /content/gdrive/MyDrive/DL_TUD/data/images/test/TMX7316010203-001960_pano_0000_000285.jpg: 320x640 Done. (0.009s)\n",
            "image 480/548 /content/gdrive/MyDrive/DL_TUD/data/images/test/TMX7316010203-001960_pano_0000_000315.jpg: 320x640 Done. (0.010s)\n",
            "image 481/548 /content/gdrive/MyDrive/DL_TUD/data/images/test/TMX7316010203-001960_pano_0000_000405.jpg: 320x640 Done. (0.009s)\n",
            "image 482/548 /content/gdrive/MyDrive/DL_TUD/data/images/test/TMX7316010203-001960_pano_0000_000465.jpg: 320x640 Done. (0.009s)\n",
            "image 483/548 /content/gdrive/MyDrive/DL_TUD/data/images/test/TMX7316060226-000004_pano_0000_000275.jpg: 320x640 Done. (0.009s)\n",
            "image 484/548 /content/gdrive/MyDrive/DL_TUD/data/images/test/TMX7316060226-000004_pano_0004_000497.jpg: 320x640 3 licenses, Done. (0.010s)\n",
            "image 485/548 /content/gdrive/MyDrive/DL_TUD/data/images/test/TMX7316060226-000004_pano_0004_000669.jpg: 320x640 3 licenses, Done. (0.010s)\n",
            "image 486/548 /content/gdrive/MyDrive/DL_TUD/data/images/test/TMX7316060226-000005_pano_0000_000240.jpg: 320x640 Done. (0.009s)\n",
            "image 487/548 /content/gdrive/MyDrive/DL_TUD/data/images/test/TMX7316060226-000005_pano_0000_004315.jpg: 320x640 2 licenses, Done. (0.010s)\n",
            "image 488/548 /content/gdrive/MyDrive/DL_TUD/data/images/test/TMX7316060226-000006_pano_0002_001643.jpg: 320x640 3 licenses, Done. (0.010s)\n",
            "image 489/548 /content/gdrive/MyDrive/DL_TUD/data/images/test/TMX7316060226-000006_pano_0002_001700.jpg: 320x640 4 licenses, Done. (0.011s)\n",
            "image 490/548 /content/gdrive/MyDrive/DL_TUD/data/images/test/TMX7316060226-000006_pano_0002_001816.jpg: 320x640 1 person, Done. (0.010s)\n",
            "image 491/548 /content/gdrive/MyDrive/DL_TUD/data/images/test/TMX7316060226-000006_pano_0002_002843.jpg: 320x640 1 person, 4 licenses, Done. (0.010s)\n",
            "image 492/548 /content/gdrive/MyDrive/DL_TUD/data/images/test/TMX7316060226-000006_pano_0005_000253.jpg: 320x640 Done. (0.009s)\n",
            "image 493/548 /content/gdrive/MyDrive/DL_TUD/data/images/test/TMX7316060226-000011_pano_0000_000543.jpg: 320x640 2 persons, 1 license, Done. (0.010s)\n",
            "image 494/548 /content/gdrive/MyDrive/DL_TUD/data/images/test/TMX7316060226-000011_pano_0000_000727.jpg: 320x640 4 persons, 3 licenses, Done. (0.010s)\n",
            "image 495/548 /content/gdrive/MyDrive/DL_TUD/data/images/test/TMX7316060226-000011_pano_0000_003559.jpg: 320x640 1 person, 1 license, Done. (0.010s)\n",
            "image 496/548 /content/gdrive/MyDrive/DL_TUD/data/images/test/TMX7316060226-000011_pano_0000_005246.jpg: 320x640 2 persons, Done. (0.010s)\n",
            "image 497/548 /content/gdrive/MyDrive/DL_TUD/data/images/test/TMX7316060226-000011_pano_0000_006049.jpg: 320x640 Done. (0.009s)\n",
            "image 498/548 /content/gdrive/MyDrive/DL_TUD/data/images/test/TMX7316060226-000011_pano_0000_008824.jpg: 320x640 3 licenses, Done. (0.010s)\n",
            "image 499/548 /content/gdrive/MyDrive/DL_TUD/data/images/test/TMX7316060226-000011_pano_0000_009457.jpg: 320x640 5 persons, Done. (0.010s)\n",
            "image 500/548 /content/gdrive/MyDrive/DL_TUD/data/images/test/TMX7316060226-000012_pano_0000_003651.jpg: 320x640 1 person, 1 license, Done. (0.010s)\n",
            "image 501/548 /content/gdrive/MyDrive/DL_TUD/data/images/test/TMX7316060226-000012_pano_0000_003673.jpg: 320x640 2 persons, 1 license, Done. (0.010s)\n",
            "image 502/548 /content/gdrive/MyDrive/DL_TUD/data/images/test/TMX7316060226-000012_pano_0000_004416.jpg: 320x640 1 person, 3 licenses, Done. (0.010s)\n",
            "image 503/548 /content/gdrive/MyDrive/DL_TUD/data/images/test/TMX7316060226-000013_pano_0000_000267.jpg: 320x640 2 persons, 2 licenses, Done. (0.010s)\n",
            "image 504/548 /content/gdrive/MyDrive/DL_TUD/data/images/test/TMX7316060226-000013_pano_0000_002295.jpg: 320x640 2 persons, Done. (0.010s)\n",
            "image 505/548 /content/gdrive/MyDrive/DL_TUD/data/images/test/TMX7316060226-000013_pano_0000_004296.jpg: 320x640 Done. (0.009s)\n",
            "image 506/548 /content/gdrive/MyDrive/DL_TUD/data/images/test/TMX7316060226-000014_pano_0000_000642.jpg: 320x640 1 person, Done. (0.010s)\n",
            "image 507/548 /content/gdrive/MyDrive/DL_TUD/data/images/test/TMX7316060226-000014_pano_0000_005168.jpg: 320x640 1 person, 1 license, Done. (0.010s)\n",
            "image 508/548 /content/gdrive/MyDrive/DL_TUD/data/images/test/TMX7316060226-000014_pano_0000_005228.jpg: 320x640 1 license, Done. (0.010s)\n",
            "image 509/548 /content/gdrive/MyDrive/DL_TUD/data/images/test/TMX7316060226-000014_pano_0000_008033.jpg: 320x640 4 licenses, Done. (0.010s)\n",
            "image 510/548 /content/gdrive/MyDrive/DL_TUD/data/images/test/TMX7316060226-000015_pano_0000_001049.jpg: 320x640 2 licenses, Done. (0.010s)\n",
            "image 511/548 /content/gdrive/MyDrive/DL_TUD/data/images/test/TMX7316060226-000015_pano_0000_001276.jpg: 320x640 1 person, 2 licenses, Done. (0.010s)\n",
            "image 512/548 /content/gdrive/MyDrive/DL_TUD/data/images/test/TMX7316060226-000015_pano_0005_001092.jpg: 320x640 Done. (0.009s)\n",
            "image 513/548 /content/gdrive/MyDrive/DL_TUD/data/images/test/TMX7316060226-000015_pano_0005_001759.jpg: 320x640 Done. (0.009s)\n",
            "image 514/548 /content/gdrive/MyDrive/DL_TUD/data/images/test/TMX7316060226-000017_pano_0001_001030.jpg: 320x640 2 persons, Done. (0.010s)\n",
            "image 515/548 /content/gdrive/MyDrive/DL_TUD/data/images/test/TMX7316060226-000019_pano_0000_003086.jpg: 320x640 5 persons, 1 license, Done. (0.010s)\n",
            "image 516/548 /content/gdrive/MyDrive/DL_TUD/data/images/test/TMX7316060226-000020_pano_0003_000174.jpg: 320x640 5 persons, Done. (0.010s)\n",
            "image 517/548 /content/gdrive/MyDrive/DL_TUD/data/images/test/TMX7316060226-000020_pano_0007_001150.jpg: 320x640 7 persons, Done. (0.010s)\n",
            "image 518/548 /content/gdrive/MyDrive/DL_TUD/data/images/test/TMX7316060226-000021_pano_0001_000237.jpg: 320x640 1 license, Done. (0.010s)\n",
            "image 519/548 /content/gdrive/MyDrive/DL_TUD/data/images/test/TMX7316060226-000022_pano_0008_003039.jpg: 320x640 Done. (0.010s)\n",
            "image 520/548 /content/gdrive/MyDrive/DL_TUD/data/images/test/TMX7316060226-000022_pano_0008_003285.jpg: 320x640 4 licenses, Done. (0.010s)\n",
            "image 521/548 /content/gdrive/MyDrive/DL_TUD/data/images/test/TMX7316060226-000023_pano_0000_000173.jpg: 320x640 6 licenses, Done. (0.010s)\n",
            "image 522/548 /content/gdrive/MyDrive/DL_TUD/data/images/test/TMX7316060226-000023_pano_0000_000250.jpg: 320x640 2 persons, 2 licenses, Done. (0.010s)\n",
            "image 523/548 /content/gdrive/MyDrive/DL_TUD/data/images/test/TMX7316060226-000030_pano_0000_000231.jpg: 320x640 Done. (0.009s)\n",
            "image 524/548 /content/gdrive/MyDrive/DL_TUD/data/images/test/TMX7316060226-000031_pano_0002_000456.jpg: 320x640 1 license, Done. (0.010s)\n",
            "image 525/548 /content/gdrive/MyDrive/DL_TUD/data/images/test/TMX7316060226-000031_pano_0003_002418.jpg: 320x640 Done. (0.009s)\n",
            "image 526/548 /content/gdrive/MyDrive/DL_TUD/data/images/test/TMX7316060226-000456_pano_0005_000940.jpg: 320x640 1 person, 6 licenses, Done. (0.010s)\n",
            "image 527/548 /content/gdrive/MyDrive/DL_TUD/data/images/test/TMX7316060226-000457_pano_0000_001735.jpg: 320x640 Done. (0.009s)\n",
            "image 528/548 /content/gdrive/MyDrive/DL_TUD/data/images/test/TMX7316060226-000461_pano_0000_001415.jpg: 320x640 Done. (0.010s)\n",
            "image 529/548 /content/gdrive/MyDrive/DL_TUD/data/images/test/TMX7316060226-000461_pano_0000_004265.jpg: 320x640 1 person, Done. (0.010s)\n",
            "image 530/548 /content/gdrive/MyDrive/DL_TUD/data/images/test/TMX7316060226-000461_pano_0000_006770.jpg: 320x640 2 licenses, Done. (0.011s)\n",
            "image 531/548 /content/gdrive/MyDrive/DL_TUD/data/images/test/TMX7316060226-000461_pano_0000_006841.jpg: 320x640 3 persons, 8 licenses, Done. (0.010s)\n",
            "image 532/548 /content/gdrive/MyDrive/DL_TUD/data/images/test/TMX7316060226-000461_pano_0000_007722.jpg: 320x640 1 person, Done. (0.010s)\n",
            "image 533/548 /content/gdrive/MyDrive/DL_TUD/data/images/test/TMX7316060226-000463_pano_0000_001693.jpg: 320x640 Done. (0.010s)\n",
            "image 534/548 /content/gdrive/MyDrive/DL_TUD/data/images/test/TMX7316060226-000470_pano_0000_002021.jpg: 320x640 1 person, Done. (0.010s)\n",
            "image 535/548 /content/gdrive/MyDrive/DL_TUD/data/images/test/TMX7316060226-000470_pano_0001_000699.jpg: 320x640 2 persons, Done. (0.010s)\n",
            "image 536/548 /content/gdrive/MyDrive/DL_TUD/data/images/test/TMX7316060226-000471_pano_0000_001979.jpg: 320x640 1 person, Done. (0.010s)\n",
            "image 537/548 /content/gdrive/MyDrive/DL_TUD/data/images/test/TMX7316060226-000472_pano_0001_000750.jpg: 320x640 Done. (0.009s)\n",
            "image 538/548 /content/gdrive/MyDrive/DL_TUD/data/images/test/TMX7316060226-000473_pano_0000_002616.jpg: 320x640 1 license, Done. (0.010s)\n",
            "image 539/548 /content/gdrive/MyDrive/DL_TUD/data/images/test/TMX7316060226-000474_pano_0000_000131.jpg: 320x640 4 licenses, Done. (0.010s)\n",
            "image 540/548 /content/gdrive/MyDrive/DL_TUD/data/images/test/TMX7316060226-000477_pano_0001_001528.jpg: 320x640 Done. (0.009s)\n",
            "image 541/548 /content/gdrive/MyDrive/DL_TUD/data/images/test/TMX7316060226-000478_pano_0002_000376.jpg: 320x640 1 person, 1 license, Done. (0.010s)\n",
            "image 542/548 /content/gdrive/MyDrive/DL_TUD/data/images/test/TMX7316060226-000478_pano_0002_000980.jpg: 320x640 3 persons, 2 licenses, Done. (0.010s)\n",
            "image 543/548 /content/gdrive/MyDrive/DL_TUD/data/images/test/TMX7316060226-000480_pano_0000_001605.jpg: 320x640 Done. (0.009s)\n",
            "image 544/548 /content/gdrive/MyDrive/DL_TUD/data/images/test/TMX7316060226-000481_pano_0002_000520.jpg: 320x640 Done. (0.011s)\n",
            "image 545/548 /content/gdrive/MyDrive/DL_TUD/data/images/test/TMX7316060226-000483_pano_0001_000925.jpg: 320x640 2 persons, 1 license, Done. (0.010s)\n",
            "image 546/548 /content/gdrive/MyDrive/DL_TUD/data/images/test/TMX7316060226-000483_pano_0001_002868.jpg: 320x640 1 person, 2 licenses, Done. (0.010s)\n",
            "image 547/548 /content/gdrive/MyDrive/DL_TUD/data/images/test/TMX7316060226-000493_pano_0001_000180.jpg: 320x640 1 person, Done. (0.010s)\n",
            "image 548/548 /content/gdrive/MyDrive/DL_TUD/data/images/test/TMX7316060226-000494_pano_0001_000659.jpg: 320x640 Done. (0.009s)\n",
            "Results saved to /content/gdrive/MyDrive/DL_TUD/Test_Detected/exp\n",
            "Done. (191.382s)\n"
          ],
          "name": "stdout"
        }
      ]
    },
    {
      "cell_type": "markdown",
      "metadata": {
        "id": "xlFDjUa1tPcI"
      },
      "source": [
        "## 3.2 Infer the model\n",
        "\n",
        "Let us see how it performs on the images taken in Amsterdam, from the test set!"
      ]
    },
    {
      "cell_type": "code",
      "metadata": {
        "colab": {
          "base_uri": "https://localhost:8080/",
          "height": 322
        },
        "id": "Fnjcjp9Id30J",
        "outputId": "2caff396-20c9-46cf-af95-55f4c6ffd829"
      },
      "source": [
        "Image(filename= '/content/yolov5/runs/detect/exp4/TMX7315120208-000061_pano_0001_000205.jpg', width=600)"
      ],
      "execution_count": 23,
      "outputs": [
        {
          "output_type": "error",
          "ename": "FileNotFoundError",
          "evalue": "ignored",
          "traceback": [
            "\u001b[0;31m---------------------------------------------------------------------------\u001b[0m",
            "\u001b[0;31mFileNotFoundError\u001b[0m                         Traceback (most recent call last)",
            "\u001b[0;32m<ipython-input-23-36543644f0e4>\u001b[0m in \u001b[0;36m<module>\u001b[0;34m()\u001b[0m\n\u001b[0;32m----> 1\u001b[0;31m \u001b[0mImage\u001b[0m\u001b[0;34m(\u001b[0m\u001b[0mfilename\u001b[0m\u001b[0;34m=\u001b[0m \u001b[0;34m'/content/yolov5/runs/detect/exp4/TMX7315120208-000061_pano_0001_000205.jpg'\u001b[0m\u001b[0;34m,\u001b[0m \u001b[0mwidth\u001b[0m\u001b[0;34m=\u001b[0m\u001b[0;36m600\u001b[0m\u001b[0;34m)\u001b[0m\u001b[0;34m\u001b[0m\u001b[0;34m\u001b[0m\u001b[0m\n\u001b[0m",
            "\u001b[0;32m/usr/local/lib/python3.7/dist-packages/IPython/core/display.py\u001b[0m in \u001b[0;36m__init__\u001b[0;34m(self, data, url, filename, format, embed, width, height, retina, unconfined, metadata)\u001b[0m\n\u001b[1;32m   1019\u001b[0m         \u001b[0mself\u001b[0m\u001b[0;34m.\u001b[0m\u001b[0munconfined\u001b[0m \u001b[0;34m=\u001b[0m \u001b[0munconfined\u001b[0m\u001b[0;34m\u001b[0m\u001b[0;34m\u001b[0m\u001b[0m\n\u001b[1;32m   1020\u001b[0m         \u001b[0mself\u001b[0m\u001b[0;34m.\u001b[0m\u001b[0mmetadata\u001b[0m \u001b[0;34m=\u001b[0m \u001b[0mmetadata\u001b[0m\u001b[0;34m\u001b[0m\u001b[0;34m\u001b[0m\u001b[0m\n\u001b[0;32m-> 1021\u001b[0;31m         \u001b[0msuper\u001b[0m\u001b[0;34m(\u001b[0m\u001b[0mImage\u001b[0m\u001b[0;34m,\u001b[0m \u001b[0mself\u001b[0m\u001b[0;34m)\u001b[0m\u001b[0;34m.\u001b[0m\u001b[0m__init__\u001b[0m\u001b[0;34m(\u001b[0m\u001b[0mdata\u001b[0m\u001b[0;34m=\u001b[0m\u001b[0mdata\u001b[0m\u001b[0;34m,\u001b[0m \u001b[0murl\u001b[0m\u001b[0;34m=\u001b[0m\u001b[0murl\u001b[0m\u001b[0;34m,\u001b[0m \u001b[0mfilename\u001b[0m\u001b[0;34m=\u001b[0m\u001b[0mfilename\u001b[0m\u001b[0;34m)\u001b[0m\u001b[0;34m\u001b[0m\u001b[0;34m\u001b[0m\u001b[0m\n\u001b[0m\u001b[1;32m   1022\u001b[0m \u001b[0;34m\u001b[0m\u001b[0m\n\u001b[1;32m   1023\u001b[0m         \u001b[0;32mif\u001b[0m \u001b[0mretina\u001b[0m\u001b[0;34m:\u001b[0m\u001b[0;34m\u001b[0m\u001b[0;34m\u001b[0m\u001b[0m\n",
            "\u001b[0;32m/usr/local/lib/python3.7/dist-packages/IPython/core/display.py\u001b[0m in \u001b[0;36m__init__\u001b[0;34m(self, data, url, filename)\u001b[0m\n\u001b[1;32m    611\u001b[0m         \u001b[0mself\u001b[0m\u001b[0;34m.\u001b[0m\u001b[0mfilename\u001b[0m \u001b[0;34m=\u001b[0m \u001b[0;32mNone\u001b[0m \u001b[0;32mif\u001b[0m \u001b[0mfilename\u001b[0m \u001b[0;32mis\u001b[0m \u001b[0;32mNone\u001b[0m \u001b[0;32melse\u001b[0m \u001b[0municode_type\u001b[0m\u001b[0;34m(\u001b[0m\u001b[0mfilename\u001b[0m\u001b[0;34m)\u001b[0m\u001b[0;34m\u001b[0m\u001b[0;34m\u001b[0m\u001b[0m\n\u001b[1;32m    612\u001b[0m \u001b[0;34m\u001b[0m\u001b[0m\n\u001b[0;32m--> 613\u001b[0;31m         \u001b[0mself\u001b[0m\u001b[0;34m.\u001b[0m\u001b[0mreload\u001b[0m\u001b[0;34m(\u001b[0m\u001b[0;34m)\u001b[0m\u001b[0;34m\u001b[0m\u001b[0;34m\u001b[0m\u001b[0m\n\u001b[0m\u001b[1;32m    614\u001b[0m         \u001b[0mself\u001b[0m\u001b[0;34m.\u001b[0m\u001b[0m_check_data\u001b[0m\u001b[0;34m(\u001b[0m\u001b[0;34m)\u001b[0m\u001b[0;34m\u001b[0m\u001b[0;34m\u001b[0m\u001b[0m\n\u001b[1;32m    615\u001b[0m \u001b[0;34m\u001b[0m\u001b[0m\n",
            "\u001b[0;32m/usr/local/lib/python3.7/dist-packages/IPython/core/display.py\u001b[0m in \u001b[0;36mreload\u001b[0;34m(self)\u001b[0m\n\u001b[1;32m   1041\u001b[0m         \u001b[0;34m\"\"\"Reload the raw data from file or URL.\"\"\"\u001b[0m\u001b[0;34m\u001b[0m\u001b[0;34m\u001b[0m\u001b[0m\n\u001b[1;32m   1042\u001b[0m         \u001b[0;32mif\u001b[0m \u001b[0mself\u001b[0m\u001b[0;34m.\u001b[0m\u001b[0membed\u001b[0m\u001b[0;34m:\u001b[0m\u001b[0;34m\u001b[0m\u001b[0;34m\u001b[0m\u001b[0m\n\u001b[0;32m-> 1043\u001b[0;31m             \u001b[0msuper\u001b[0m\u001b[0;34m(\u001b[0m\u001b[0mImage\u001b[0m\u001b[0;34m,\u001b[0m\u001b[0mself\u001b[0m\u001b[0;34m)\u001b[0m\u001b[0;34m.\u001b[0m\u001b[0mreload\u001b[0m\u001b[0;34m(\u001b[0m\u001b[0;34m)\u001b[0m\u001b[0;34m\u001b[0m\u001b[0;34m\u001b[0m\u001b[0m\n\u001b[0m\u001b[1;32m   1044\u001b[0m             \u001b[0;32mif\u001b[0m \u001b[0mself\u001b[0m\u001b[0;34m.\u001b[0m\u001b[0mretina\u001b[0m\u001b[0;34m:\u001b[0m\u001b[0;34m\u001b[0m\u001b[0;34m\u001b[0m\u001b[0m\n\u001b[1;32m   1045\u001b[0m                 \u001b[0mself\u001b[0m\u001b[0;34m.\u001b[0m\u001b[0m_retina_shape\u001b[0m\u001b[0;34m(\u001b[0m\u001b[0;34m)\u001b[0m\u001b[0;34m\u001b[0m\u001b[0;34m\u001b[0m\u001b[0m\n",
            "\u001b[0;32m/usr/local/lib/python3.7/dist-packages/IPython/core/display.py\u001b[0m in \u001b[0;36mreload\u001b[0;34m(self)\u001b[0m\n\u001b[1;32m    629\u001b[0m         \u001b[0;34m\"\"\"Reload the raw data from file or URL.\"\"\"\u001b[0m\u001b[0;34m\u001b[0m\u001b[0;34m\u001b[0m\u001b[0m\n\u001b[1;32m    630\u001b[0m         \u001b[0;32mif\u001b[0m \u001b[0mself\u001b[0m\u001b[0;34m.\u001b[0m\u001b[0mfilename\u001b[0m \u001b[0;32mis\u001b[0m \u001b[0;32mnot\u001b[0m \u001b[0;32mNone\u001b[0m\u001b[0;34m:\u001b[0m\u001b[0;34m\u001b[0m\u001b[0;34m\u001b[0m\u001b[0m\n\u001b[0;32m--> 631\u001b[0;31m             \u001b[0;32mwith\u001b[0m \u001b[0mopen\u001b[0m\u001b[0;34m(\u001b[0m\u001b[0mself\u001b[0m\u001b[0;34m.\u001b[0m\u001b[0mfilename\u001b[0m\u001b[0;34m,\u001b[0m \u001b[0mself\u001b[0m\u001b[0;34m.\u001b[0m\u001b[0m_read_flags\u001b[0m\u001b[0;34m)\u001b[0m \u001b[0;32mas\u001b[0m \u001b[0mf\u001b[0m\u001b[0;34m:\u001b[0m\u001b[0;34m\u001b[0m\u001b[0;34m\u001b[0m\u001b[0m\n\u001b[0m\u001b[1;32m    632\u001b[0m                 \u001b[0mself\u001b[0m\u001b[0;34m.\u001b[0m\u001b[0mdata\u001b[0m \u001b[0;34m=\u001b[0m \u001b[0mf\u001b[0m\u001b[0;34m.\u001b[0m\u001b[0mread\u001b[0m\u001b[0;34m(\u001b[0m\u001b[0;34m)\u001b[0m\u001b[0;34m\u001b[0m\u001b[0;34m\u001b[0m\u001b[0m\n\u001b[1;32m    633\u001b[0m         \u001b[0;32melif\u001b[0m \u001b[0mself\u001b[0m\u001b[0;34m.\u001b[0m\u001b[0murl\u001b[0m \u001b[0;32mis\u001b[0m \u001b[0;32mnot\u001b[0m \u001b[0;32mNone\u001b[0m\u001b[0;34m:\u001b[0m\u001b[0;34m\u001b[0m\u001b[0;34m\u001b[0m\u001b[0m\n",
            "\u001b[0;31mFileNotFoundError\u001b[0m: [Errno 2] No such file or directory: '/content/yolov5/runs/detect/exp4/TMX7315120208-000061_pano_0001_000205.jpg'"
          ]
        }
      ]
    },
    {
      "cell_type": "markdown",
      "metadata": {
        "id": "X-e_yMr2i402"
      },
      "source": [
        "## 3.3 Testing it on our images! \n",
        "\n",
        "We took a panoramic image in our neighborhood to find out what is like for the model to classify on an unseen data! Here we go!"
      ]
    },
    {
      "cell_type": "code",
      "metadata": {
        "id": "suv6F7vMmI_s"
      },
      "source": [
        "weight_dir_eval = '/content/gdrive/MyDrive/DL_TUD/yolov5s_results_50/weights/best.pt'\n",
        "img_source = '/content/gdrive/MyDrive/DL_TUD/Pano_images/'\n",
        "save_img_dir = '/content/gdrive/MyDrive/DL_TUD/Pano_detected/'\n",
        "\n",
        "# Show time!\n",
        "run_detect_images(weight_dir_eval, img_source, save_img_dir)"
      ],
      "execution_count": null,
      "outputs": []
    },
    {
      "cell_type": "code",
      "metadata": {
        "id": "RCC-3NYYp_CL"
      },
      "source": [
        "# Let us see the resultant image!\n",
        "from google.colab.patches import cv2_imshow\n",
        "# Image(filename=save_img_dir + 'exp/Street View 360 1 first.jpg', width=600)\n",
        "Image(filename='/content/gdrive/MyDrive/DL_TUD/Pano_detected/exp/IMG_20210414_202223.jpg', width=600)\n",
        "# cv2_imshow(save_img_dir + 'exp/Street View 360 1 first.jpg')\n",
        "# /content/gdrive/MyDrive/DL_TUD/Pano_images/Street View 360 1 first.jpg"
      ],
      "execution_count": null,
      "outputs": []
    },
    {
      "cell_type": "code",
      "metadata": {
        "id": "BFYL5APTct4s"
      },
      "source": [
        "# Incase you want to resize the image\n",
        "\n",
        "def resize_img(img_source_dir):\n",
        "  for filename in os.listdir(img_source_dir):\n",
        "    img = cv2.imread(filename)\n",
        "\n",
        "    desired_dim = 2048\n",
        "    factor = img.shape[1] / desired_dim\n",
        "    width = int(img.shape[1] / factor)\n",
        "    height = int(img.shape[0] / factor)\n",
        "    dim = (width, height)\n",
        "\n",
        "    resized = cv2.resize(img, dim, interpolation = cv2.INTER_AREA)\n",
        "    \n",
        "    print('Original Dimensions : ',img.shape) \n",
        "    print('Resized Dimensions : ',resized.shape)\n",
        "\n",
        "    cv2.imwrite(filename + '_resized.jpg', resized)\n"
      ],
      "execution_count": null,
      "outputs": []
    },
    {
      "cell_type": "code",
      "metadata": {
        "id": "LRA9NgjyyVou"
      },
      "source": [
        "# torch.cuda.empty_cache()\n",
        "# torch.cuda.memory_summary()"
      ],
      "execution_count": null,
      "outputs": []
    },
    {
      "cell_type": "code",
      "metadata": {
        "id": "KUO_M6zVg2wb"
      },
      "source": [
        "# REMOVE FOLDERS\n",
        "\n",
        "def remove_stuff(rem_dir):\n",
        "  !rm -rf $rem_dir"
      ],
      "execution_count": null,
      "outputs": []
    },
    {
      "cell_type": "code",
      "metadata": {
        "colab": {
          "base_uri": "https://localhost:8080/"
        },
        "id": "iQI7JFI383pn",
        "outputId": "03b317ce-2833-462a-e138-9d635ef93864"
      },
      "source": [
        "# !nvidia-smi\n",
        "# !sudo fuser -v /dev/nvidia*\n",
        "# !sudo kill -9 59\n",
        "# torch.cuda.empty_cache()\n",
        "# !sudo nvidia-smi --gpu-reset -i 0"
      ],
      "execution_count": 19,
      "outputs": [
        {
          "output_type": "stream",
          "text": [
            "Thu Apr 15 10:22:00 2021       \n",
            "+-----------------------------------------------------------------------------+\n",
            "| NVIDIA-SMI 460.67       Driver Version: 460.32.03    CUDA Version: 11.2     |\n",
            "|-------------------------------+----------------------+----------------------+\n",
            "| GPU  Name        Persistence-M| Bus-Id        Disp.A | Volatile Uncorr. ECC |\n",
            "| Fan  Temp  Perf  Pwr:Usage/Cap|         Memory-Usage | GPU-Util  Compute M. |\n",
            "|                               |                      |               MIG M. |\n",
            "|===============================+======================+======================|\n",
            "|   0  Tesla K80           Off  | 00000000:00:04.0 Off |                    0 |\n",
            "| N/A   36C    P8    28W / 149W |      3MiB / 11441MiB |      0%      Default |\n",
            "|                               |                      |                  N/A |\n",
            "+-------------------------------+----------------------+----------------------+\n",
            "                                                                               \n",
            "+-----------------------------------------------------------------------------+\n",
            "| Processes:                                                                  |\n",
            "|  GPU   GI   CI        PID   Type   Process name                  GPU Memory |\n",
            "|        ID   ID                                                   Usage      |\n",
            "|=============================================================================|\n",
            "|  No running processes found                                                 |\n",
            "+-----------------------------------------------------------------------------+\n"
          ],
          "name": "stdout"
        }
      ]
    }
  ]
}