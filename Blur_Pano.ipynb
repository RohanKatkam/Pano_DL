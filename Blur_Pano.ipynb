{
  "nbformat": 4,
  "nbformat_minor": 0,
  "metadata": {
    "accelerator": "GPU",
    "colab": {
      "name": "Blur_Pano.ipynb",
      "provenance": [],
      "collapsed_sections": []
    },
    "kernelspec": {
      "display_name": "Python 3",
      "name": "python3"
    },
    "language_info": {
      "name": "python"
    }
  },
  "cells": [
    {
      "cell_type": "markdown",
      "metadata": {
        "id": "KWIYR5OyyXry"
      },
      "source": [
        "# Removing Sensitive Information from Panoramic Images\n",
        "\n",
        "## By Rohan and Vivian\n",
        "## Group 25\n"
      ]
    },
    {
      "cell_type": "markdown",
      "metadata": {
        "id": "q3tT-YaLfD8D"
      },
      "source": [
        "# 1. Loading the model, weights and Images"
      ]
    },
    {
      "cell_type": "markdown",
      "metadata": {
        "id": "McnzKwcqe4GG"
      },
      "source": [
        "### 1.1 Mount the drive\n",
        "\n",
        "The drive contains images, labels and all the necessary config files"
      ]
    },
    {
      "cell_type": "code",
      "metadata": {
        "colab": {
          "base_uri": "https://localhost:8080/"
        },
        "id": "3XgD4MUFc6gN",
        "outputId": "1be7c0a4-5ee0-4555-da77-ec06c36c00fa"
      },
      "source": [
        "from google.colab import drive\n",
        "drive.mount('/content/gdrive', force_remount=True)\n",
        "# drive.flush_and_unmount()"
      ],
      "execution_count": 1,
      "outputs": [
        {
          "output_type": "stream",
          "text": [
            "Mounted at /content/gdrive\n"
          ],
          "name": "stdout"
        }
      ]
    },
    {
      "cell_type": "markdown",
      "metadata": {
        "id": "mC8u6BSkfPGK"
      },
      "source": [
        "### 1.2 Import Libraries"
      ]
    },
    {
      "cell_type": "code",
      "metadata": {
        "id": "mFhielyQv7Cw"
      },
      "source": [
        "# Setup\n",
        "import numpy\n",
        "import matplotlib.pyplot as plt\n",
        "import sys\n",
        "from google.colab import files\n",
        "import os\n",
        "import shutil\n",
        "\n",
        "\n",
        "from six.moves import urllib    \n",
        "opener = urllib.request.build_opener()\n",
        "opener.addheaders = [('User-agent', 'Mozilla/5.0')]\n",
        "urllib.request.install_opener(opener)\n",
        "\n",
        "# for imshow\n",
        "from google.colab.patches import cv2_imshow\n",
        "\n",
        "# Torch Libraries\n",
        "import torch\n",
        "import torch.nn as nn\n",
        "import torch.nn.parallel\n",
        "import torch.backends.cudnn as cudnn\n",
        "import torch.optim as optim\n",
        "import torch.utils.data\n",
        "from torch.utils.data import DataLoader\n",
        "import torchvision.datasets as dset\n",
        "import torchvision.utils as vutils\n",
        "import torchvision.transforms as transforms\n",
        "import torchvision.models as models\n",
        "import torchvision.transforms.functional as F\n",
        "\n",
        "from IPython.display import Image, clear_output  # to display images"
      ],
      "execution_count": 2,
      "outputs": []
    },
    {
      "cell_type": "markdown",
      "metadata": {
        "id": "J92I_OznwcXI"
      },
      "source": [
        "## 1.3 Installing dependencies\n",
        "\n",
        "1. Installing the repo from YOLOv5 official git repo\n",
        "2. Installing Wandb for visualising purposes"
      ]
    },
    {
      "cell_type": "code",
      "metadata": {
        "colab": {
          "base_uri": "https://localhost:8080/"
        },
        "id": "_tqSpfiUwYHe",
        "outputId": "37d3f315-d53c-4f3c-b149-20071d8e18c5"
      },
      "source": [
        "# Add the Yolov5 git\n",
        "def add_yolo_git():\n",
        "  !git clone https://github.com/ultralytics/yolov5  # clone repo\n",
        "  %cd yolov5\n",
        "  %pip install -qr requirements.txt  # install dependencies\n",
        "\n",
        "add_yolo_git()  \n",
        "!pip install -qr https://raw.githubusercontent.com/ultralytics/yolov5/master/requirements.txt  # install dependencies\n",
        "\n",
        "!pip install wandb\n",
        "import wandb"
      ],
      "execution_count": 3,
      "outputs": [
        {
          "output_type": "stream",
          "text": [
            "Cloning into 'yolov5'...\n",
            "remote: Enumerating objects: 5760, done.\u001b[K\n",
            "remote: Counting objects: 100% (10/10), done.\u001b[K\n",
            "remote: Compressing objects: 100% (10/10), done.\u001b[K\n",
            "remote: Total 5760 (delta 1), reused 3 (delta 0), pack-reused 5750\u001b[K\n",
            "Receiving objects: 100% (5760/5760), 8.23 MiB | 21.79 MiB/s, done.\n",
            "Resolving deltas: 100% (3935/3935), done.\n",
            "/content/yolov5\n",
            "\u001b[K     |████████████████████████████████| 645kB 9.8MB/s \n",
            "\u001b[?25hCollecting wandb\n",
            "\u001b[?25l  Downloading https://files.pythonhosted.org/packages/d5/5d/20ab24504de2669c9a76a50c9bdaeb44a440b0e5e4b92be881ed323857b1/wandb-0.10.26-py2.py3-none-any.whl (2.1MB)\n",
            "\u001b[K     |████████████████████████████████| 2.1MB 7.5MB/s \n",
            "\u001b[?25hRequirement already satisfied: promise<3,>=2.0 in /usr/local/lib/python3.7/dist-packages (from wandb) (2.3)\n",
            "Requirement already satisfied: six>=1.13.0 in /usr/local/lib/python3.7/dist-packages (from wandb) (1.15.0)\n",
            "Requirement already satisfied: python-dateutil>=2.6.1 in /usr/local/lib/python3.7/dist-packages (from wandb) (2.8.1)\n",
            "Collecting docker-pycreds>=0.4.0\n",
            "  Downloading https://files.pythonhosted.org/packages/f5/e8/f6bd1eee09314e7e6dee49cbe2c5e22314ccdb38db16c9fc72d2fa80d054/docker_pycreds-0.4.0-py2.py3-none-any.whl\n",
            "Collecting shortuuid>=0.5.0\n",
            "  Downloading https://files.pythonhosted.org/packages/25/a6/2ecc1daa6a304e7f1b216f0896b26156b78e7c38e1211e9b798b4716c53d/shortuuid-1.0.1-py3-none-any.whl\n",
            "Requirement already satisfied: PyYAML in /usr/local/lib/python3.7/dist-packages (from wandb) (5.4.1)\n",
            "Collecting configparser>=3.8.1\n",
            "  Downloading https://files.pythonhosted.org/packages/fd/01/ff260a18caaf4457eb028c96eeb405c4a230ca06c8ec9c1379f813caa52e/configparser-5.0.2-py3-none-any.whl\n",
            "Collecting subprocess32>=3.5.3\n",
            "\u001b[?25l  Downloading https://files.pythonhosted.org/packages/32/c8/564be4d12629b912ea431f1a50eb8b3b9d00f1a0b1ceff17f266be190007/subprocess32-3.5.4.tar.gz (97kB)\n",
            "\u001b[K     |████████████████████████████████| 102kB 8.8MB/s \n",
            "\u001b[?25hRequirement already satisfied: protobuf>=3.12.0 in /usr/local/lib/python3.7/dist-packages (from wandb) (3.12.4)\n",
            "Collecting GitPython>=1.0.0\n",
            "\u001b[?25l  Downloading https://files.pythonhosted.org/packages/a6/99/98019716955ba243657daedd1de8f3a88ca1f5b75057c38e959db22fb87b/GitPython-3.1.14-py3-none-any.whl (159kB)\n",
            "\u001b[K     |████████████████████████████████| 163kB 37.1MB/s \n",
            "\u001b[?25hCollecting sentry-sdk>=0.4.0\n",
            "\u001b[?25l  Downloading https://files.pythonhosted.org/packages/f3/92/5a33be64990ba815364a8f2dd9e6f51de60d23dfddafb4f1fc5577d4dc64/sentry_sdk-1.0.0-py2.py3-none-any.whl (131kB)\n",
            "\u001b[K     |████████████████████████████████| 133kB 30.7MB/s \n",
            "\u001b[?25hRequirement already satisfied: psutil>=5.0.0 in /usr/local/lib/python3.7/dist-packages (from wandb) (5.4.8)\n",
            "Requirement already satisfied: Click>=7.0 in /usr/local/lib/python3.7/dist-packages (from wandb) (7.1.2)\n",
            "Requirement already satisfied: requests<3,>=2.0.0 in /usr/local/lib/python3.7/dist-packages (from wandb) (2.23.0)\n",
            "Collecting pathtools\n",
            "  Downloading https://files.pythonhosted.org/packages/e7/7f/470d6fcdf23f9f3518f6b0b76be9df16dcc8630ad409947f8be2eb0ed13a/pathtools-0.1.2.tar.gz\n",
            "Requirement already satisfied: setuptools in /usr/local/lib/python3.7/dist-packages (from protobuf>=3.12.0->wandb) (54.2.0)\n",
            "Collecting gitdb<5,>=4.0.1\n",
            "\u001b[?25l  Downloading https://files.pythonhosted.org/packages/ea/e8/f414d1a4f0bbc668ed441f74f44c116d9816833a48bf81d22b697090dba8/gitdb-4.0.7-py3-none-any.whl (63kB)\n",
            "\u001b[K     |████████████████████████████████| 71kB 7.4MB/s \n",
            "\u001b[?25hRequirement already satisfied: urllib3>=1.10.0 in /usr/local/lib/python3.7/dist-packages (from sentry-sdk>=0.4.0->wandb) (1.24.3)\n",
            "Requirement already satisfied: certifi in /usr/local/lib/python3.7/dist-packages (from sentry-sdk>=0.4.0->wandb) (2020.12.5)\n",
            "Requirement already satisfied: idna<3,>=2.5 in /usr/local/lib/python3.7/dist-packages (from requests<3,>=2.0.0->wandb) (2.10)\n",
            "Requirement already satisfied: chardet<4,>=3.0.2 in /usr/local/lib/python3.7/dist-packages (from requests<3,>=2.0.0->wandb) (3.0.4)\n",
            "Collecting smmap<5,>=3.0.1\n",
            "  Downloading https://files.pythonhosted.org/packages/68/ee/d540eb5e5996eb81c26ceffac6ee49041d473bc5125f2aa995cf51ec1cf1/smmap-4.0.0-py2.py3-none-any.whl\n",
            "Building wheels for collected packages: subprocess32, pathtools\n",
            "  Building wheel for subprocess32 (setup.py) ... \u001b[?25l\u001b[?25hdone\n",
            "  Created wheel for subprocess32: filename=subprocess32-3.5.4-cp37-none-any.whl size=6489 sha256=5d6b1a253f1689560269ea5077cc9a14d9f357dd986ea230965de04283f89de5\n",
            "  Stored in directory: /root/.cache/pip/wheels/68/39/1a/5e402bdfdf004af1786c8b853fd92f8c4a04f22aad179654d1\n",
            "  Building wheel for pathtools (setup.py) ... \u001b[?25l\u001b[?25hdone\n",
            "  Created wheel for pathtools: filename=pathtools-0.1.2-cp37-none-any.whl size=8786 sha256=6f1b8064023ec80f792cecd16fa7454ecc08854f5c948c1b042cf20eb2bba2ca\n",
            "  Stored in directory: /root/.cache/pip/wheels/0b/04/79/c3b0c3a0266a3cb4376da31e5bfe8bba0c489246968a68e843\n",
            "Successfully built subprocess32 pathtools\n",
            "Installing collected packages: docker-pycreds, shortuuid, configparser, subprocess32, smmap, gitdb, GitPython, sentry-sdk, pathtools, wandb\n",
            "Successfully installed GitPython-3.1.14 configparser-5.0.2 docker-pycreds-0.4.0 gitdb-4.0.7 pathtools-0.1.2 sentry-sdk-1.0.0 shortuuid-1.0.1 smmap-4.0.0 subprocess32-3.5.4 wandb-0.10.26\n"
          ],
          "name": "stdout"
        }
      ]
    },
    {
      "cell_type": "code",
      "metadata": {
        "colab": {
          "base_uri": "https://localhost:8080/"
        },
        "id": "Ypbu8VurxpBR",
        "outputId": "9c66f70a-5cbb-411a-8258-f7e983483ec1"
      },
      "source": [
        "# To ensure it runs over an appropriate processor\n",
        "CUDA = torch.cuda.is_available()\n",
        "print(\"CUDA :: \", CUDA)\n",
        "device = torch.device(\"cuda\" if CUDA else \"cpu\")"
      ],
      "execution_count": 4,
      "outputs": [
        {
          "output_type": "stream",
          "text": [
            "CUDA ::  False\n"
          ],
          "name": "stdout"
        }
      ]
    },
    {
      "cell_type": "markdown",
      "metadata": {
        "id": "jJpD6t5lgTtl"
      },
      "source": [
        "### 1.4 Load the existing model and the weights"
      ]
    },
    {
      "cell_type": "code",
      "metadata": {
        "id": "2V8nUxtUylbz"
      },
      "source": [
        "# Weights dir\n",
        "# model_dir = \"./gdrive/MyDrive/DL_TUD/small_final-20210319T094746Z-001/small_final/weights/last.pt\"\n",
        "# model_dir='/content/gdrive/MyDrive/DL_TUD/small_final-20210319T094746Z-001/small_final/weights/best.pt'\n",
        "# medium_model_dir = \"\"\n",
        "# model = pytorch.\n",
        "# model = torch.load(model_dir, encoding='ascii')\n",
        "# model = torch.hub.load('ultralytics/yolov5', 'yolov5s')\n",
        "# model = model.load_state_dict()\n",
        "# model.eval()\n",
        "\n",
        "# model = torch.hub.load(model_dir, 'best.pt', source = 'local')"
      ],
      "execution_count": 5,
      "outputs": []
    },
    {
      "cell_type": "markdown",
      "metadata": {
        "id": "8dTSI7Skw7A4"
      },
      "source": [
        "### 1.4 Transfer the images to Train/Test/Validation Folders"
      ]
    },
    {
      "cell_type": "code",
      "metadata": {
        "id": "xK35ykp_t4tp"
      },
      "source": [
        "import os\n",
        "import shutil\n",
        "\n",
        "def transfer_images(file_dir, old_dir_images, new_dir_images, old_dir_labels, new_dir_labels):\n",
        "  \"\"\"\n",
        "  Transfer train/test/val Images\n",
        "  \"\"\"\n",
        "  f = open(file_dir, 'r+')\n",
        "\n",
        "  for line in f.readlines():\n",
        "    image_name = line.split(\"/\")[-1]\n",
        "    image_name = image_name.replace(\"\\n\", \"\")\n",
        "    label_name = image_name.replace(\".jpg\", \".txt\")\n",
        "    print(image_name)\n",
        "    if (os.path.isfile(old_dir_images + image_name) and os.path.isfile(old_dir_labels + label_name)):\n",
        "        shutil.copy(old_dir_images + image_name, new_dir_images + image_name)\n",
        "        shutil.copy(old_dir_labels + label_name, new_dir_labels + label_name)\n",
        "        print(\"success!\")"
      ],
      "execution_count": 6,
      "outputs": []
    },
    {
      "cell_type": "code",
      "metadata": {
        "id": "7hsb_1XuxOcQ"
      },
      "source": [
        "# TRAIN\n",
        "# text file that contains the list of directories of all training images \n",
        "file_dir = \"/content/gdrive/MyDrive/DL_TUD/training_set/training_set/train.txt\"\n",
        "\n",
        "# Images\n",
        "old_dir_images = \"/content/gdrive/MyDrive/DL_TUD/training_set/training_set/images_small/\"\n",
        "new_dir_images = \"/content/gdrive/MyDrive/DL_TUD/data/images/train/\" \n",
        "\n",
        "# Labels\n",
        "old_dir_labels = \"/content/gdrive/MyDrive/DL_TUD/training_set/training_set/labels/\"\n",
        "new_dir_labels = \"/content/gdrive/MyDrive/DL_TUD/data/labels/train/\"\n",
        "\n",
        "# Run this function if you want to tranfer, please ignore of the images are already in the said folder\n",
        "# transfer_images(file_dir, old_dir_images, new_dir_images, old_dir_labels, new_dir_labels)"
      ],
      "execution_count": 7,
      "outputs": []
    },
    {
      "cell_type": "code",
      "metadata": {
        "id": "Auw9Ka8y0Bm5"
      },
      "source": [
        "# VALIDATION\n",
        "\n",
        "file_dir_val = \"/content/gdrive/MyDrive/DL_TUD/training_set/training_set/val.txt\"\n",
        "\n",
        "# Images\n",
        "old_dir_images = \"/content/gdrive/MyDrive/DL_TUD/training_set/training_set/images_small/\"\n",
        "new_dir_images = \"/content/gdrive/MyDrive/DL_TUD/data/images/val/\" \n",
        "\n",
        "# Labels\n",
        "old_dir_labels = \"/content/gdrive/MyDrive/DL_TUD/training_set/training_set/labels/\"\n",
        "new_dir_labels = \"/content/gdrive/MyDrive/DL_TUD/data/labels/val/\"\n",
        "\n",
        "# transfer_images(file_dir_val, old_dir_images, new_dir_images, old_dir_labels, new_dir_labels)"
      ],
      "execution_count": 8,
      "outputs": []
    },
    {
      "cell_type": "code",
      "metadata": {
        "id": "ImnODR1Gu-mg"
      },
      "source": [
        "# TEST\n",
        "\n",
        "file_dir_val = \"/content/gdrive/MyDrive/DL_TUD/training_set/training_set/test.txt\"\n",
        "\n",
        "# Images\n",
        "old_dir_images = \"/content/gdrive/MyDrive/DL_TUD/training_set/training_set/images_small/\"\n",
        "new_dir_images = \"/content/gdrive/MyDrive/DL_TUD/data/images/test/\" \n",
        "\n",
        "# Labels\n",
        "old_dir_labels = \"/content/gdrive/MyDrive/DL_TUD/training_set/training_set/labels/\"\n",
        "new_dir_labels = \"/content/gdrive/MyDrive/DL_TUD/data/labels/test/\"\n",
        "\n",
        "# transfer_images(file_dir_val, old_dir_images, new_dir_images, old_dir_labels, new_dir_labels)"
      ],
      "execution_count": 9,
      "outputs": []
    },
    {
      "cell_type": "markdown",
      "metadata": {
        "id": "KGfIfeEttACd"
      },
      "source": [
        "# 2. Train the model"
      ]
    },
    {
      "cell_type": "code",
      "metadata": {
        "id": "WNkAantHtH1o"
      },
      "source": [
        "# def train_model(data_yaml, cfg_yaml):\n",
        "#   # !python train.py --img 640 --batch 16 --epochs 3 --data coco128.yaml --weights yolov5s.pt --nosave --cache\n",
        "#   !python3 train.py --adam --img 2048 --batch 8 --epochs 20 --save_period 4 --data $data_yaml --cfg $cfg_yaml --weights '' --name /content/gdrive/MyDrive/DL_TUD/yolov5s_results_actual_50 \n",
        "#   print(\"Successfully trained\")"
      ],
      "execution_count": 10,
      "outputs": []
    },
    {
      "cell_type": "code",
      "metadata": {
        "id": "kRPD3CJVzEfQ"
      },
      "source": [
        "def train_model(data_yaml, cfg_yaml, out_name, epoch=30, weight_dir=''):\n",
        "  \"\"\"\n",
        "  Trains the model for the given data from:\n",
        "  data config file: train and val directories\n",
        "  network architecture file: head, backbone and others\n",
        "  \"\"\"\n",
        "# !python train.py --img 640 --batch 16 --epochs 3 --data coco128.yaml --weights yolov5s.pt --nosave --cache\n",
        "\n",
        "  # No pretrained weights\n",
        "  if weight_dir == '':\n",
        "    !python3 train.py --adam --img 2048 --batch 8 --epochs $epoch --save_period 4 --data $data_yaml --cfg $cfg_yaml --weights '' --name $out_name\n",
        "  # Pretrained weights, incase the running stops in the middle  \n",
        "  else:\n",
        "    !python3 train.py --adam --img 2048 --batch 8 --epochs $epoch --save_period 4 --data $data_yaml --cfg $cfg_yaml --weights $weight_dir --name $out_name\n",
        "  print(\"Successfully trained...I guess\")"
      ],
      "execution_count": 11,
      "outputs": []
    },
    {
      "cell_type": "code",
      "metadata": {
        "id": "2pflR1lLyTU8"
      },
      "source": [
        "# Yaml that mentions the class names, train and val directories\n",
        "data_yaml_train = '/content/gdrive/MyDrive/DL_TUD/data/data_custom.yaml'\n",
        "\n",
        "# Yaml model file for small model\n",
        "cfg_yaml_s_train = '/content/gdrive/MyDrive/DL_TUD/models/custom_yolov5s.yaml'\n",
        "# Yaml model file for medium model\n",
        "cfg_yaml_m_train = '/content/gdrive/MyDrive/DL_TUD/models/custom_yolov5m.yaml'\n",
        "\n",
        "# Save trained output, log files and plots to this directory\n",
        "out_name_train = '/content/gdrive/MyDrive/DL_TUD/yolov5s_results_actual_50'\n"
      ],
      "execution_count": 12,
      "outputs": []
    },
    {
      "cell_type": "code",
      "metadata": {
        "id": "t_jk0PwGyt1G"
      },
      "source": [
        "# Run Wandb offline \n",
        "# !wandb offline\n",
        "\n",
        "# code = 'wandb offline'\n",
        "# !$code"
      ],
      "execution_count": 13,
      "outputs": []
    },
    {
      "cell_type": "code",
      "metadata": {
        "id": "PZBNjcxky7ux"
      },
      "source": [
        "# train_model(data_yaml_train, cfg_yaml_s_train,out_name_train,epoch=50,weight_dir='')  "
      ],
      "execution_count": 14,
      "outputs": []
    },
    {
      "cell_type": "markdown",
      "metadata": {
        "id": "VTyZBWzlGT_O"
      },
      "source": [
        "## 2.2 Hyperparam check\n",
        "\n"
      ]
    },
    {
      "cell_type": "code",
      "metadata": {
        "id": "DNa6h3NkGZZE"
      },
      "source": [
        "def train_model_hyp(data_yaml, cfg_yaml, hyp_yaml, out_name, epoch=30, weight_dir=''):\n",
        "  \"\"\"\n",
        "  Trains the model for the given data from:\n",
        "  data config file: train and val directories\n",
        "  network architecture file: head, backbone sections\n",
        "  hyperparameter file;\n",
        "  \"\"\"\n",
        "# !python train.py --img 640 --batch 16 --epochs 3 --data coco128.yaml --weights yolov5s.pt --nosave --cache\n",
        "\n",
        "  if weight_dir == '':\n",
        "    !python3 train.py --adam --img 2048 --batch 4 --epochs $epoch --save_period 4 --data $data_yaml --cfg $cfg_yaml --weights '' --name $out_name --hyp $hyp_yaml \n",
        "  else:\n",
        "    !python3 train.py --adam --img 2048 --batch 4 --epochs $epoch --save_period 4 --data $data_yaml --cfg $cfg_yaml --weights $weight_dir --name $out_name --hyp $hyp_yaml\n",
        "  print(\"Successfully trained...I guess\")"
      ],
      "execution_count": 15,
      "outputs": []
    },
    {
      "cell_type": "code",
      "metadata": {
        "id": "J6boQHIbGrGU"
      },
      "source": [
        "# Hyperparameter config file directories, uncomment for what you like\n",
        "# hyp = 'per_0005' #0.0005\n",
        "# hyp = 'per_001' #0.001\n",
        "# hyp = 'shear_10' #10 degrees\n",
        "# hyp = 'shear_20' #20 degrees\n",
        "# hyp = 'mix_up_05' #0.5 mixup probability\n",
        "hyp = 'mix_up_1' #1 mixup probability\n",
        "# The initial weights to begin (if stops in the middle of training, outta nowhere)\n",
        "\n",
        "start_weight_dir = '/content/gdrive/MyDrive/DL_TUD/yolov5s_results_' + hyp + '/weights/last.pt'\n",
        "# For yaml\n",
        "\n",
        "hyp_yaml = '/content/gdrive/MyDrive/DL_TUD/models/custom_hyp_' + hyp + '.yaml'\n",
        "# Saves the output to this directory\n",
        "\n",
        "out_name = '/content/gdrive/MyDrive/DL_TUD/yolov5s_results_' + hyp\n",
        "# number of epochs\n",
        "\n",
        "epoch = 12"
      ],
      "execution_count": 43,
      "outputs": []
    },
    {
      "cell_type": "code",
      "metadata": {
        "colab": {
          "base_uri": "https://localhost:8080/"
        },
        "id": "9Ttbj0LtG6yQ",
        "outputId": "8cb60c28-11ba-430f-cc48-d502d6292ce1"
      },
      "source": [
        "# Train with a different variation of hyperparameter!\n",
        "\n",
        "# train_model_hyp(data_yaml_train, cfg_yaml_s_train, hyp_yaml, out_name, epoch, start_weight_dir)"
      ],
      "execution_count": 44,
      "outputs": [
        {
          "output_type": "stream",
          "text": [
            "\u001b[34m\u001b[1mgithub: \u001b[0mup to date with https://github.com/ultralytics/yolov5 ✅\n",
            "YOLOv5 🚀 v5.0-7-g1487bc8 torch 1.8.1+cu101 CUDA:0 (Tesla K80, 11441.1875MB)\n",
            "\n",
            "Namespace(adam=True, artifact_alias='latest', batch_size=4, bbox_interval=-1, bucket='', cache_images=False, cfg='/content/gdrive/MyDrive/DL_TUD/models/custom_yolov5s.yaml', data='/content/gdrive/MyDrive/DL_TUD/data/data_custom.yaml', device='', entity=None, epochs=12, evolve=False, exist_ok=False, global_rank=-1, hyp='/content/gdrive/MyDrive/DL_TUD/models/custom_hyp_mix_up_1.yaml', image_weights=False, img_size=[2048, 2048], label_smoothing=0.0, linear_lr=False, local_rank=-1, multi_scale=False, name='/content/gdrive/MyDrive/DL_TUD/yolov5s_results_mix_up_1', noautoanchor=False, nosave=False, notest=False, project='runs/train', quad=False, rect=False, resume=False, save_dir='/content/gdrive/MyDrive/DL_TUD/yolov5s_results_mix_up_18', save_period=4, single_cls=False, sync_bn=False, total_batch_size=4, upload_dataset=False, weights='/content/gdrive/MyDrive/DL_TUD/yolov5s_results_mix_up_1/weights/last.pt', workers=8, world_size=1)\n",
            "\u001b[34m\u001b[1mtensorboard: \u001b[0mStart with 'tensorboard --logdir runs/train', view at http://localhost:6006/\n",
            "2021-04-15 10:26:32.872847: I tensorflow/stream_executor/platform/default/dso_loader.cc:49] Successfully opened dynamic library libcudart.so.11.0\n",
            "\u001b[34m\u001b[1mhyperparameters: \u001b[0mlr0=0.01, lrf=0.2, momentum=0.937, weight_decay=0.0005, warmup_epochs=3.0, warmup_momentum=0.8, warmup_bias_lr=0.1, box=0.05, cls=0.5, cls_pw=1.0, obj=1.0, obj_pw=1.0, iou_t=0.2, anchor_t=4.0, fl_gamma=0.0, hsv_h=0.015, hsv_s=0.7, hsv_v=0.4, degrees=0.0, translate=0.1, scale=0.5, shear=0.0, perspective=0.0, flipud=0.0, fliplr=0.5, mosaic=1.0, mixup=1.0\n",
            "\u001b[34m\u001b[1mwandb\u001b[0m: (1) Create a W&B account\n",
            "\u001b[34m\u001b[1mwandb\u001b[0m: (2) Use an existing W&B account\n",
            "\u001b[34m\u001b[1mwandb\u001b[0m: (3) Don't visualize my results\n",
            "\u001b[34m\u001b[1mwandb\u001b[0m: Enter your choice: 3\n",
            "\u001b[34m\u001b[1mwandb\u001b[0m: You chose 'Don't visualize my results'\n",
            "2021-04-15 10:27:46.196333: I tensorflow/stream_executor/platform/default/dso_loader.cc:49] Successfully opened dynamic library libcudart.so.11.0\n",
            "\u001b[34m\u001b[1mwandb\u001b[0m: W&B syncing is set to `offline` in this directory.  Run `wandb online` or set WANDB_MODE=online to enable cloud syncing.\n",
            "\n",
            "                 from  n    params  module                                  arguments                     \n",
            "  0                -1  1      3520  models.common.Focus                     [3, 32, 3]                    \n",
            "  1                -1  1     18560  models.common.Conv                      [32, 64, 3, 2]                \n",
            "  2                -1  1     18816  models.common.C3                        [64, 64, 1]                   \n",
            "  3                -1  1     73984  models.common.Conv                      [64, 128, 3, 2]               \n",
            "  4                -1  1    156928  models.common.C3                        [128, 128, 3]                 \n",
            "  5                -1  1    295424  models.common.Conv                      [128, 256, 3, 2]              \n",
            "  6                -1  1    625152  models.common.C3                        [256, 256, 3]                 \n",
            "  7                -1  1   1180672  models.common.Conv                      [256, 512, 3, 2]              \n",
            "  8                -1  1    656896  models.common.SPP                       [512, 512, [5, 9, 13]]        \n",
            "  9                -1  1   1182720  models.common.C3                        [512, 512, 1, False]          \n",
            " 10                -1  1    131584  models.common.Conv                      [512, 256, 1, 1]              \n",
            " 11                -1  1         0  torch.nn.modules.upsampling.Upsample    [None, 2, 'nearest']          \n",
            " 12           [-1, 6]  1         0  models.common.Concat                    [1]                           \n",
            " 13                -1  1    361984  models.common.C3                        [512, 256, 1, False]          \n",
            " 14                -1  1     33024  models.common.Conv                      [256, 128, 1, 1]              \n",
            " 15                -1  1         0  torch.nn.modules.upsampling.Upsample    [None, 2, 'nearest']          \n",
            " 16           [-1, 4]  1         0  models.common.Concat                    [1]                           \n",
            " 17                -1  1     90880  models.common.C3                        [256, 128, 1, False]          \n",
            " 18                -1  1    147712  models.common.Conv                      [128, 128, 3, 2]              \n",
            " 19          [-1, 14]  1         0  models.common.Concat                    [1]                           \n",
            " 20                -1  1    296448  models.common.C3                        [256, 256, 1, False]          \n",
            " 21                -1  1    590336  models.common.Conv                      [256, 256, 3, 2]              \n",
            " 22          [-1, 10]  1         0  models.common.Concat                    [1]                           \n",
            " 23                -1  1   1182720  models.common.C3                        [512, 512, 1, False]          \n",
            " 24      [17, 20, 23]  1     18879  models.yolo.Detect                      [2, [[10, 13, 16, 30, 33, 23], [30, 61, 62, 45, 59, 119], [116, 90, 156, 198, 373, 326]], [128, 256, 512]]\n",
            "Model Summary: 283 layers, 7066239 parameters, 7066239 gradients, 16.4 GFLOPS\n",
            "\n",
            "Transferred 360/362 items from /content/gdrive/MyDrive/DL_TUD/yolov5s_results_mix_up_1/weights/last.pt\n",
            "Scaled weight_decay = 0.0005\n",
            "Optimizer groups: 62 .bias, 62 conv.weight, 59 other\n",
            "/content/gdrive/MyDrive/DL_TUD/yolov5s_results_mix_up_1/weights/last.pt has been trained for 17 epochs. Fine-tuning for 12 additional epochs.\n",
            "\u001b[34m\u001b[1mtrain: \u001b[0mScanning '/content/gdrive/MyDrive/DL_TUD/data/labels/train.cache' images \u001b[0m\n",
            "\u001b[34m\u001b[1mval: \u001b[0mScanning '/content/gdrive/MyDrive/DL_TUD/data/labels/val.cache' images and \u001b[0m\n",
            "Plotting labels... \n",
            "\n",
            "\u001b[34m\u001b[1mautoanchor: \u001b[0mAnalyzing anchors... anchors/target = 3.35, Best Possible Recall (BPR) = 0.9358. Attempting to improve anchors, please wait...\n",
            "\u001b[34m\u001b[1mautoanchor: \u001b[0mWARNING: Extremely small objects found. 224 of 16671 labels are < 3 pixels in size.\n",
            "\u001b[34m\u001b[1mautoanchor: \u001b[0mRunning kmeans for 9 anchors on 16667 points...\n",
            "\u001b[34m\u001b[1mautoanchor: \u001b[0mthr=0.25: 0.9995 best possible recall, 4.56 anchors past thr\n",
            "\u001b[34m\u001b[1mautoanchor: \u001b[0mn=9, img_size=2048, metric_all=0.311/0.752-mean/best, past_thr=0.487-mean: 11,5,  8,19,  22,10,  13,31,  39,18,  21,49,  36,85,  92,88,  73,154\n",
            "\u001b[34m\u001b[1mautoanchor: \u001b[0mEvolving anchors with Genetic Algorithm: fitness = 0.7704: 100%|█| 1\u001b[0m\n",
            "\u001b[34m\u001b[1mautoanchor: \u001b[0mthr=0.25: 0.9996 best possible recall, 4.69 anchors past thr\n",
            "\u001b[34m\u001b[1mautoanchor: \u001b[0mn=9, img_size=2048, metric_all=0.324/0.770-mean/best, past_thr=0.503-mean: 11,4,  17,6,  8,17,  11,26,  28,13,  16,38,  26,64,  60,126,  92,87\n",
            "\u001b[34m\u001b[1mautoanchor: \u001b[0mNew anchors saved to model. Update model *.yaml to use these anchors in the future.\n",
            "\n",
            "Image sizes 2048 train, 2048 test\n",
            "Using 2 dataloader workers\n",
            "Logging results to /content/gdrive/MyDrive/DL_TUD/yolov5s_results_mix_up_18\n",
            "Starting training for 29 epochs...\n",
            "\n",
            "     Epoch   gpu_mem       box       obj       cls     total    labels  img_size\n",
            "     18/28     7.12G   0.06745    0.0784  0.001987    0.1478        85      2048\n",
            "               Class      Images      Labels           P           R      mAP@.5\n",
            "                 all         542        2927       0.775       0.638       0.698       0.279\n",
            "Images sizes do not match. This will causes images to be display incorrectly in the UI.\n",
            "\n",
            "     Epoch   gpu_mem       box       obj       cls     total    labels  img_size\n",
            "     19/28     7.09G   0.06784    0.0784  0.002111    0.1483        55      2048\n",
            "               Class      Images      Labels           P           R      mAP@.5\n",
            "                 all         542        2927       0.769       0.627       0.689        0.27\n",
            "Saving model artifact on epoch  20\n",
            "\n",
            "     Epoch   gpu_mem       box       obj       cls     total    labels  img_size\n",
            "     20/28     7.09G   0.06919   0.08012  0.002206    0.1515        85      2048\n",
            "               Class      Images      Labels           P           R      mAP@.5\n",
            "                 all         542        2927       0.775       0.625        0.69       0.265\n",
            "\n",
            "     Epoch   gpu_mem       box       obj       cls     total    labels  img_size\n",
            "     21/28     7.09G   0.06941   0.07967  0.002349    0.1514        73      2048\n",
            "               Class      Images      Labels           P           R      mAP@.5\n",
            "                 all         542        2927       0.747       0.615        0.67       0.253\n",
            "\n",
            "     Epoch   gpu_mem       box       obj       cls     total    labels  img_size\n",
            "     22/28     7.09G   0.07026   0.08028  0.002216    0.1528        71      2048\n",
            "               Class      Images      Labels           P           R      mAP@.5\n",
            "                 all         542        2927       0.733       0.628       0.672       0.266\n",
            "\n",
            "     Epoch   gpu_mem       box       obj       cls     total    labels  img_size\n",
            "     23/28     7.09G   0.06996   0.07957  0.002364    0.1519        88      2048\n",
            "               Class      Images      Labels           P           R      mAP@.5\n",
            "                 all         542        2927       0.736       0.642       0.691        0.27\n",
            "Saving model artifact on epoch  24\n",
            "\n",
            "     Epoch   gpu_mem       box       obj       cls     total    labels  img_size\n",
            "     24/28     7.09G   0.07015   0.08003  0.002284    0.1525        44      2048\n",
            "               Class      Images      Labels           P           R      mAP@.5\n",
            "                 all         542        2927        0.74       0.619       0.674       0.269\n",
            "\n",
            "     Epoch   gpu_mem       box       obj       cls     total    labels  img_size\n",
            "     25/28     7.09G   0.07004   0.08058   0.00216    0.1528        82      2048\n",
            "               Class      Images      Labels           P           R      mAP@.5\n",
            "                 all         542        2927        0.76       0.611       0.675       0.267\n",
            "\n",
            "     Epoch   gpu_mem       box       obj       cls     total    labels  img_size\n",
            "     26/28     7.09G   0.06918   0.07961  0.002137    0.1509        53      2048\n",
            "               Class      Images      Labels           P           R      mAP@.5\n",
            "                 all         542        2927        0.79       0.622       0.699        0.28\n",
            "\n",
            "     Epoch   gpu_mem       box       obj       cls     total    labels  img_size\n",
            "     27/28     7.09G   0.06944   0.07961  0.002115    0.1512        58      2048\n",
            "               Class      Images      Labels           P           R      mAP@.5\n",
            "                 all         542        2927       0.786        0.63         0.7       0.281\n",
            "Saving model artifact on epoch  28\n",
            "\n",
            "     Epoch   gpu_mem       box       obj       cls     total    labels  img_size\n",
            "     28/28     7.09G    0.0688   0.07994  0.002082    0.1508        75      2048\n",
            "               Class      Images      Labels           P           R      mAP@.5\n",
            "                 all         542        2927       0.807       0.626       0.703       0.287\n",
            "              person         542        1571       0.798       0.491       0.604       0.232\n",
            "             license         542        1356       0.817       0.761       0.802       0.342\n",
            "11 epochs completed in 5.891 hours.\n",
            "\n",
            "Optimizer stripped from /content/gdrive/MyDrive/DL_TUD/yolov5s_results_mix_up_18/weights/last.pt, 14.7MB\n",
            "Optimizer stripped from /content/gdrive/MyDrive/DL_TUD/yolov5s_results_mix_up_18/weights/best.pt, 14.7MB\n",
            "Images sizes do not match. This will causes images to be display incorrectly in the UI.\n",
            "\n",
            "\u001b[34m\u001b[1mwandb\u001b[0m: Waiting for W&B process to finish, PID 1540\n",
            "\u001b[34m\u001b[1mwandb\u001b[0m: Program ended successfully.\n",
            "\u001b[34m\u001b[1mwandb\u001b[0m: Find user logs for this run at: /content/yolov5/yolov5/wandb/offline-run-20210415_102745-13ks1b9a/logs/debug.log\n",
            "\u001b[34m\u001b[1mwandb\u001b[0m: Find internal logs for this run at: /content/yolov5/yolov5/wandb/offline-run-20210415_102745-13ks1b9a/logs/debug-internal.log\n",
            "\u001b[34m\u001b[1mwandb\u001b[0m: Run summary:\n",
            "\u001b[34m\u001b[1mwandb\u001b[0m:                 train/box_loss 0.0688\n",
            "\u001b[34m\u001b[1mwandb\u001b[0m:                 train/obj_loss 0.07994\n",
            "\u001b[34m\u001b[1mwandb\u001b[0m:                 train/cls_loss 0.00208\n",
            "\u001b[34m\u001b[1mwandb\u001b[0m:              metrics/precision 0.80738\n",
            "\u001b[34m\u001b[1mwandb\u001b[0m:                 metrics/recall 0.62592\n",
            "\u001b[34m\u001b[1mwandb\u001b[0m:                metrics/mAP_0.5 0.70285\n",
            "\u001b[34m\u001b[1mwandb\u001b[0m:           metrics/mAP_0.5:0.95 0.28686\n",
            "\u001b[34m\u001b[1mwandb\u001b[0m:                   val/box_loss 0.0581\n",
            "\u001b[34m\u001b[1mwandb\u001b[0m:                   val/obj_loss 0.04722\n",
            "\u001b[34m\u001b[1mwandb\u001b[0m:                   val/cls_loss 0.00123\n",
            "\u001b[34m\u001b[1mwandb\u001b[0m:                          x/lr0 0.00883\n",
            "\u001b[34m\u001b[1mwandb\u001b[0m:                          x/lr1 0.00883\n",
            "\u001b[34m\u001b[1mwandb\u001b[0m:                          x/lr2 0.00883\n",
            "\u001b[34m\u001b[1mwandb\u001b[0m:                       _runtime 21235\n",
            "\u001b[34m\u001b[1mwandb\u001b[0m:                     _timestamp 1618503700\n",
            "\u001b[34m\u001b[1mwandb\u001b[0m:                          _step 11\n",
            "\u001b[34m\u001b[1mwandb\u001b[0m: Run history:\n",
            "\u001b[34m\u001b[1mwandb\u001b[0m:         train/box_loss ▁▂▅▆█▇█▇▅▆▄\n",
            "\u001b[34m\u001b[1mwandb\u001b[0m:         train/obj_loss ▁▁▇▅▇▅▆█▅▅▆\n",
            "\u001b[34m\u001b[1mwandb\u001b[0m:         train/cls_loss ▁▃▅█▅█▇▄▄▃▃\n",
            "\u001b[34m\u001b[1mwandb\u001b[0m:      metrics/precision ▅▄▅▂▁▁▂▄▆▆█\n",
            "\u001b[34m\u001b[1mwandb\u001b[0m:         metrics/recall ▇▅▄▂▅█▃▁▄▅▄\n",
            "\u001b[34m\u001b[1mwandb\u001b[0m:        metrics/mAP_0.5 ▇▅▅▁▁▆▂▂▇▇█\n",
            "\u001b[34m\u001b[1mwandb\u001b[0m:   metrics/mAP_0.5:0.95 ▆▅▄▁▄▅▄▄▇▇█\n",
            "\u001b[34m\u001b[1mwandb\u001b[0m:           val/box_loss ▁▄▆▇▇▆█▆▁▂▁\n",
            "\u001b[34m\u001b[1mwandb\u001b[0m:           val/obj_loss ▁▄▂▁▅▁█▃▂▁▄\n",
            "\u001b[34m\u001b[1mwandb\u001b[0m:           val/cls_loss ▂▃▇▂▄▅▃█▂▄▁\n",
            "\u001b[34m\u001b[1mwandb\u001b[0m:                  x/lr0 ▁▂▄▅▆▇███▇▆\n",
            "\u001b[34m\u001b[1mwandb\u001b[0m:                  x/lr1 ▁▂▄▅▆▇███▇▆\n",
            "\u001b[34m\u001b[1mwandb\u001b[0m:                  x/lr2 ▁▂▄▅▆▇███▇▆\n",
            "\u001b[34m\u001b[1mwandb\u001b[0m:               _runtime ▁▂▂▃▄▄▅▆▇▇██\n",
            "\u001b[34m\u001b[1mwandb\u001b[0m:             _timestamp ▁▂▂▃▄▄▅▆▇▇██\n",
            "\u001b[34m\u001b[1mwandb\u001b[0m:                  _step ▁▂▂▃▄▄▅▅▆▇▇█\n",
            "\u001b[34m\u001b[1mwandb\u001b[0m: \n",
            "\u001b[34m\u001b[1mwandb\u001b[0m: You can sync this run to the cloud by running:\n",
            "\u001b[34m\u001b[1mwandb\u001b[0m: \u001b[33mwandb sync /content/yolov5/yolov5/wandb/offline-run-20210415_102745-13ks1b9a\u001b[0m\n",
            "Successfully trained...I guess\n"
          ],
          "name": "stdout"
        }
      ]
    },
    {
      "cell_type": "code",
      "metadata": {
        "colab": {
          "base_uri": "https://localhost:8080/"
        },
        "id": "xuSndkrhXwno",
        "outputId": "59586566-91d2-49a2-e2de-c4275e455194"
      },
      "source": [
        "!wandb sync /content/yolov5/yolov5/wandb/offline-run-20210415_102745-13ks1b9a"
      ],
      "execution_count": 16,
      "outputs": [
        {
          "output_type": "stream",
          "text": [
            "Usage: wandb sync [OPTIONS] [PATH]...\n",
            "Try 'wandb sync --help' for help.\n",
            "\n",
            "Error: Invalid value for '[PATH]...': Path '/content/yolov5/yolov5/wandb/offline-run-20210415_102745-13ks1b9a' does not exist.\n"
          ],
          "name": "stdout"
        }
      ]
    },
    {
      "cell_type": "markdown",
      "metadata": {
        "id": "y3J9GxHsdpga"
      },
      "source": [
        "# 3. Loading the Trained Model and evaluating the test images"
      ]
    },
    {
      "cell_type": "code",
      "metadata": {
        "id": "CeiK6i0wwClD"
      },
      "source": [
        "# def run_model_detect(weight_dir, img_source, save_img_dir, conf=0.25):\n",
        "#   !python detect.py --weights $weight_dir --conf $conf --source $img_source\n",
        "\n",
        "# testing our images\n",
        "\n",
        "def run_detect_images(weight_dir, img_source, save_img_dir, conf=0.25):\n",
        "  \"\"\"\n",
        "  Function to Detect in the images and store it in an folder  \n",
        "  weight_dir: directory of the trained weights, it is a pt file\n",
        "  img_source: directory of the images to evaluate\n",
        "  save_img_dir: results will be stored in this directory\n",
        "  conf: this is the confidence threshold\n",
        "  \"\"\"\n",
        "  # !python detect.py --weights /content/gdrive/MyDrive/DL_TUD/yolov5s_results_50/weights/best.pt --conf 0.25 --source /content/gdrive/MyDrive/DL_TUD/Pano_images/resizedIMG_20210414_202223.jpg\n",
        "  !python detect.py --weights $weight_dir --conf $conf --source $img_source --project $save_img_dir"
      ],
      "execution_count": 17,
      "outputs": []
    },
    {
      "cell_type": "code",
      "metadata": {
        "id": "jkqU-A5ASpvl"
      },
      "source": [
        "# \"\"\"\n",
        "#   Function to Detect in the images and store it in an expt folder\n",
        "# \"\"\"\n",
        "# def run_model_detect(weight_dir, img_source, conf=0.25):\n",
        "#   !python detect.py --weights $weight_dir --conf $conf --source $img_source"
      ],
      "execution_count": 21,
      "outputs": []
    },
    {
      "cell_type": "code",
      "metadata": {
        "id": "tRt2fEvzk0Fj"
      },
      "source": [
        "## Run the detection for all the images\n",
        "# run_model_detect(weight_dir_custom, img_source_custom)\n",
        "img_source='/content/gdrive/MyDrive/DL_TUD/data/images/test'\n",
        "weight_dir_test='/content/gdrive/MyDrive/DL_TUD/yolov5s_results_50/weights/best.pt'\n",
        "save_img_dir = '/content/gdrive/MyDrive/DL_TUD/Test_Detected'\n",
        "\n",
        "# Show time!\n",
        "run_detect_images(weight_dir_test, img_source, save_img_dir)"
      ],
      "execution_count": 22,
      "outputs": []
    },
    {
      "cell_type": "markdown",
      "metadata": {
        "id": "xlFDjUa1tPcI"
      },
      "source": [
        "## 3.2 Infer the model\n",
        "\n",
        "Let us see how it performs on the images taken in Amsterdam, from the test set!"
      ]
    },
    {
      "cell_type": "code",
      "metadata": {
        "colab": {
          "base_uri": "https://localhost:8080/",
          "height": 340
        },
        "id": "Fnjcjp9Id30J",
        "outputId": "2caff396-20c9-46cf-af95-55f4c6ffd829"
      },
      "source": [
        "Image(filename= '/content/yolov5/runs/detect/exp4/TMX7315120208-000061_pano_0001_000205.jpg', width=600)"
      ],
      "execution_count": 23,
      "outputs": [
        {
          "output_type": "error",
          "ename": "FileNotFoundError",
          "evalue": "ignored",
          "traceback": [
            "\u001b[0;31m---------------------------------------------------------------------------\u001b[0m",
            "\u001b[0;31mFileNotFoundError\u001b[0m                         Traceback (most recent call last)",
            "\u001b[0;32m<ipython-input-23-36543644f0e4>\u001b[0m in \u001b[0;36m<module>\u001b[0;34m()\u001b[0m\n\u001b[0;32m----> 1\u001b[0;31m \u001b[0mImage\u001b[0m\u001b[0;34m(\u001b[0m\u001b[0mfilename\u001b[0m\u001b[0;34m=\u001b[0m \u001b[0;34m'/content/yolov5/runs/detect/exp4/TMX7315120208-000061_pano_0001_000205.jpg'\u001b[0m\u001b[0;34m,\u001b[0m \u001b[0mwidth\u001b[0m\u001b[0;34m=\u001b[0m\u001b[0;36m600\u001b[0m\u001b[0;34m)\u001b[0m\u001b[0;34m\u001b[0m\u001b[0;34m\u001b[0m\u001b[0m\n\u001b[0m",
            "\u001b[0;32m/usr/local/lib/python3.7/dist-packages/IPython/core/display.py\u001b[0m in \u001b[0;36m__init__\u001b[0;34m(self, data, url, filename, format, embed, width, height, retina, unconfined, metadata)\u001b[0m\n\u001b[1;32m   1019\u001b[0m         \u001b[0mself\u001b[0m\u001b[0;34m.\u001b[0m\u001b[0munconfined\u001b[0m \u001b[0;34m=\u001b[0m \u001b[0munconfined\u001b[0m\u001b[0;34m\u001b[0m\u001b[0;34m\u001b[0m\u001b[0m\n\u001b[1;32m   1020\u001b[0m         \u001b[0mself\u001b[0m\u001b[0;34m.\u001b[0m\u001b[0mmetadata\u001b[0m \u001b[0;34m=\u001b[0m \u001b[0mmetadata\u001b[0m\u001b[0;34m\u001b[0m\u001b[0;34m\u001b[0m\u001b[0m\n\u001b[0;32m-> 1021\u001b[0;31m         \u001b[0msuper\u001b[0m\u001b[0;34m(\u001b[0m\u001b[0mImage\u001b[0m\u001b[0;34m,\u001b[0m \u001b[0mself\u001b[0m\u001b[0;34m)\u001b[0m\u001b[0;34m.\u001b[0m\u001b[0m__init__\u001b[0m\u001b[0;34m(\u001b[0m\u001b[0mdata\u001b[0m\u001b[0;34m=\u001b[0m\u001b[0mdata\u001b[0m\u001b[0;34m,\u001b[0m \u001b[0murl\u001b[0m\u001b[0;34m=\u001b[0m\u001b[0murl\u001b[0m\u001b[0;34m,\u001b[0m \u001b[0mfilename\u001b[0m\u001b[0;34m=\u001b[0m\u001b[0mfilename\u001b[0m\u001b[0;34m)\u001b[0m\u001b[0;34m\u001b[0m\u001b[0;34m\u001b[0m\u001b[0m\n\u001b[0m\u001b[1;32m   1022\u001b[0m \u001b[0;34m\u001b[0m\u001b[0m\n\u001b[1;32m   1023\u001b[0m         \u001b[0;32mif\u001b[0m \u001b[0mretina\u001b[0m\u001b[0;34m:\u001b[0m\u001b[0;34m\u001b[0m\u001b[0;34m\u001b[0m\u001b[0m\n",
            "\u001b[0;32m/usr/local/lib/python3.7/dist-packages/IPython/core/display.py\u001b[0m in \u001b[0;36m__init__\u001b[0;34m(self, data, url, filename)\u001b[0m\n\u001b[1;32m    611\u001b[0m         \u001b[0mself\u001b[0m\u001b[0;34m.\u001b[0m\u001b[0mfilename\u001b[0m \u001b[0;34m=\u001b[0m \u001b[0;32mNone\u001b[0m \u001b[0;32mif\u001b[0m \u001b[0mfilename\u001b[0m \u001b[0;32mis\u001b[0m \u001b[0;32mNone\u001b[0m \u001b[0;32melse\u001b[0m \u001b[0municode_type\u001b[0m\u001b[0;34m(\u001b[0m\u001b[0mfilename\u001b[0m\u001b[0;34m)\u001b[0m\u001b[0;34m\u001b[0m\u001b[0;34m\u001b[0m\u001b[0m\n\u001b[1;32m    612\u001b[0m \u001b[0;34m\u001b[0m\u001b[0m\n\u001b[0;32m--> 613\u001b[0;31m         \u001b[0mself\u001b[0m\u001b[0;34m.\u001b[0m\u001b[0mreload\u001b[0m\u001b[0;34m(\u001b[0m\u001b[0;34m)\u001b[0m\u001b[0;34m\u001b[0m\u001b[0;34m\u001b[0m\u001b[0m\n\u001b[0m\u001b[1;32m    614\u001b[0m         \u001b[0mself\u001b[0m\u001b[0;34m.\u001b[0m\u001b[0m_check_data\u001b[0m\u001b[0;34m(\u001b[0m\u001b[0;34m)\u001b[0m\u001b[0;34m\u001b[0m\u001b[0;34m\u001b[0m\u001b[0m\n\u001b[1;32m    615\u001b[0m \u001b[0;34m\u001b[0m\u001b[0m\n",
            "\u001b[0;32m/usr/local/lib/python3.7/dist-packages/IPython/core/display.py\u001b[0m in \u001b[0;36mreload\u001b[0;34m(self)\u001b[0m\n\u001b[1;32m   1041\u001b[0m         \u001b[0;34m\"\"\"Reload the raw data from file or URL.\"\"\"\u001b[0m\u001b[0;34m\u001b[0m\u001b[0;34m\u001b[0m\u001b[0m\n\u001b[1;32m   1042\u001b[0m         \u001b[0;32mif\u001b[0m \u001b[0mself\u001b[0m\u001b[0;34m.\u001b[0m\u001b[0membed\u001b[0m\u001b[0;34m:\u001b[0m\u001b[0;34m\u001b[0m\u001b[0;34m\u001b[0m\u001b[0m\n\u001b[0;32m-> 1043\u001b[0;31m             \u001b[0msuper\u001b[0m\u001b[0;34m(\u001b[0m\u001b[0mImage\u001b[0m\u001b[0;34m,\u001b[0m\u001b[0mself\u001b[0m\u001b[0;34m)\u001b[0m\u001b[0;34m.\u001b[0m\u001b[0mreload\u001b[0m\u001b[0;34m(\u001b[0m\u001b[0;34m)\u001b[0m\u001b[0;34m\u001b[0m\u001b[0;34m\u001b[0m\u001b[0m\n\u001b[0m\u001b[1;32m   1044\u001b[0m             \u001b[0;32mif\u001b[0m \u001b[0mself\u001b[0m\u001b[0;34m.\u001b[0m\u001b[0mretina\u001b[0m\u001b[0;34m:\u001b[0m\u001b[0;34m\u001b[0m\u001b[0;34m\u001b[0m\u001b[0m\n\u001b[1;32m   1045\u001b[0m                 \u001b[0mself\u001b[0m\u001b[0;34m.\u001b[0m\u001b[0m_retina_shape\u001b[0m\u001b[0;34m(\u001b[0m\u001b[0;34m)\u001b[0m\u001b[0;34m\u001b[0m\u001b[0;34m\u001b[0m\u001b[0m\n",
            "\u001b[0;32m/usr/local/lib/python3.7/dist-packages/IPython/core/display.py\u001b[0m in \u001b[0;36mreload\u001b[0;34m(self)\u001b[0m\n\u001b[1;32m    629\u001b[0m         \u001b[0;34m\"\"\"Reload the raw data from file or URL.\"\"\"\u001b[0m\u001b[0;34m\u001b[0m\u001b[0;34m\u001b[0m\u001b[0m\n\u001b[1;32m    630\u001b[0m         \u001b[0;32mif\u001b[0m \u001b[0mself\u001b[0m\u001b[0;34m.\u001b[0m\u001b[0mfilename\u001b[0m \u001b[0;32mis\u001b[0m \u001b[0;32mnot\u001b[0m \u001b[0;32mNone\u001b[0m\u001b[0;34m:\u001b[0m\u001b[0;34m\u001b[0m\u001b[0;34m\u001b[0m\u001b[0m\n\u001b[0;32m--> 631\u001b[0;31m             \u001b[0;32mwith\u001b[0m \u001b[0mopen\u001b[0m\u001b[0;34m(\u001b[0m\u001b[0mself\u001b[0m\u001b[0;34m.\u001b[0m\u001b[0mfilename\u001b[0m\u001b[0;34m,\u001b[0m \u001b[0mself\u001b[0m\u001b[0;34m.\u001b[0m\u001b[0m_read_flags\u001b[0m\u001b[0;34m)\u001b[0m \u001b[0;32mas\u001b[0m \u001b[0mf\u001b[0m\u001b[0;34m:\u001b[0m\u001b[0;34m\u001b[0m\u001b[0;34m\u001b[0m\u001b[0m\n\u001b[0m\u001b[1;32m    632\u001b[0m                 \u001b[0mself\u001b[0m\u001b[0;34m.\u001b[0m\u001b[0mdata\u001b[0m \u001b[0;34m=\u001b[0m \u001b[0mf\u001b[0m\u001b[0;34m.\u001b[0m\u001b[0mread\u001b[0m\u001b[0;34m(\u001b[0m\u001b[0;34m)\u001b[0m\u001b[0;34m\u001b[0m\u001b[0;34m\u001b[0m\u001b[0m\n\u001b[1;32m    633\u001b[0m         \u001b[0;32melif\u001b[0m \u001b[0mself\u001b[0m\u001b[0;34m.\u001b[0m\u001b[0murl\u001b[0m \u001b[0;32mis\u001b[0m \u001b[0;32mnot\u001b[0m \u001b[0;32mNone\u001b[0m\u001b[0;34m:\u001b[0m\u001b[0;34m\u001b[0m\u001b[0;34m\u001b[0m\u001b[0m\n",
            "\u001b[0;31mFileNotFoundError\u001b[0m: [Errno 2] No such file or directory: '/content/yolov5/runs/detect/exp4/TMX7315120208-000061_pano_0001_000205.jpg'"
          ]
        }
      ]
    },
    {
      "cell_type": "markdown",
      "metadata": {
        "id": "X-e_yMr2i402"
      },
      "source": [
        "## 3.3 Testing it on our images! \n",
        "\n",
        "We took a panoramic image in our neighborhood to find out what is like for the model to classify on an unseen data! Here we go!"
      ]
    },
    {
      "cell_type": "code",
      "metadata": {
        "id": "suv6F7vMmI_s"
      },
      "source": [
        "weight_dir_eval = '/content/gdrive/MyDrive/DL_TUD/yolov5s_results_50/weights/best.pt'\n",
        "img_source = '/content/gdrive/MyDrive/DL_TUD/Pano_images/'\n",
        "save_img_dir = '/content/gdrive/MyDrive/DL_TUD/Pano_detected/'\n",
        "\n",
        "# Show time!\n",
        "run_detect_images(weight_dir_eval, img_source, save_img_dir)"
      ],
      "execution_count": null,
      "outputs": []
    },
    {
      "cell_type": "code",
      "metadata": {
        "id": "RCC-3NYYp_CL"
      },
      "source": [
        "# Let us see the resultant image!\n",
        "from google.colab.patches import cv2_imshow\n",
        "# Image(filename=save_img_dir + 'exp/Street View 360 1 first.jpg', width=600)\n",
        "Image(filename='/content/gdrive/MyDrive/DL_TUD/Pano_detected/exp/IMG_20210414_202223.jpg', width=600)\n",
        "# cv2_imshow(save_img_dir + 'exp/Street View 360 1 first.jpg')\n",
        "# /content/gdrive/MyDrive/DL_TUD/Pano_images/Street View 360 1 first.jpg"
      ],
      "execution_count": null,
      "outputs": []
    },
    {
      "cell_type": "code",
      "metadata": {
        "id": "BFYL5APTct4s"
      },
      "source": [
        "# Incase you want to resize the image\n",
        "\n",
        "def resize_img(img_source_dir):\n",
        "  for filename in os.listdir(img_source_dir):\n",
        "    img = cv2.imread(filename)\n",
        "\n",
        "    desired_dim = 2048\n",
        "    factor = img.shape[1] / desired_dim\n",
        "    width = int(img.shape[1] / factor)\n",
        "    height = int(img.shape[0] / factor)\n",
        "    dim = (width, height)\n",
        "\n",
        "    resized = cv2.resize(img, dim, interpolation = cv2.INTER_AREA)\n",
        "    \n",
        "    print('Original Dimensions : ',img.shape) \n",
        "    print('Resized Dimensions : ',resized.shape)\n",
        "\n",
        "    cv2.imwrite(filename + '_resized.jpg', resized)\n"
      ],
      "execution_count": null,
      "outputs": []
    },
    {
      "cell_type": "code",
      "metadata": {
        "id": "LRA9NgjyyVou"
      },
      "source": [
        "# torch.cuda.empty_cache()\n",
        "# torch.cuda.memory_summary()"
      ],
      "execution_count": null,
      "outputs": []
    },
    {
      "cell_type": "code",
      "metadata": {
        "id": "KUO_M6zVg2wb"
      },
      "source": [
        "# REMOVE FOLDERS\n",
        "\n",
        "def remove_stuff(rem_dir):\n",
        "  !rm -rf $rem_dir"
      ],
      "execution_count": null,
      "outputs": []
    },
    {
      "cell_type": "code",
      "metadata": {
        "colab": {
          "base_uri": "https://localhost:8080/"
        },
        "id": "iQI7JFI383pn",
        "outputId": "03b317ce-2833-462a-e138-9d635ef93864"
      },
      "source": [
        "# !nvidia-smi\n",
        "# !sudo fuser -v /dev/nvidia*\n",
        "# !sudo kill -9 59\n",
        "# torch.cuda.empty_cache()\n",
        "# !sudo nvidia-smi --gpu-reset -i 0"
      ],
      "execution_count": 19,
      "outputs": [
        {
          "output_type": "stream",
          "text": [
            "Thu Apr 15 10:22:00 2021       \n",
            "+-----------------------------------------------------------------------------+\n",
            "| NVIDIA-SMI 460.67       Driver Version: 460.32.03    CUDA Version: 11.2     |\n",
            "|-------------------------------+----------------------+----------------------+\n",
            "| GPU  Name        Persistence-M| Bus-Id        Disp.A | Volatile Uncorr. ECC |\n",
            "| Fan  Temp  Perf  Pwr:Usage/Cap|         Memory-Usage | GPU-Util  Compute M. |\n",
            "|                               |                      |               MIG M. |\n",
            "|===============================+======================+======================|\n",
            "|   0  Tesla K80           Off  | 00000000:00:04.0 Off |                    0 |\n",
            "| N/A   36C    P8    28W / 149W |      3MiB / 11441MiB |      0%      Default |\n",
            "|                               |                      |                  N/A |\n",
            "+-------------------------------+----------------------+----------------------+\n",
            "                                                                               \n",
            "+-----------------------------------------------------------------------------+\n",
            "| Processes:                                                                  |\n",
            "|  GPU   GI   CI        PID   Type   Process name                  GPU Memory |\n",
            "|        ID   ID                                                   Usage      |\n",
            "|=============================================================================|\n",
            "|  No running processes found                                                 |\n",
            "+-----------------------------------------------------------------------------+\n"
          ],
          "name": "stdout"
        }
      ]
    }
  ]
}